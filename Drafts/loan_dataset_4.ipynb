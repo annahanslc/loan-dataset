{
 "cells": [
  {
   "cell_type": "markdown",
   "metadata": {},
   "source": [
    "# Data Preprocessing"
   ]
  },
  {
   "cell_type": "markdown",
   "metadata": {},
   "source": [
    "# --- Step 1: Data Cleaning (Pre-Pipeline) ---\n",
    "\n",
    "Cleaning functions before split:\n",
    "1. Clean data types:\n",
    "    - Monthly Debt - remove non-numeric characters, then transform strings to floats.\n",
    "    - Maximum Open Credit - remove non-numeric characters, then transform strings into floats.\n",
    "2. Correct inconsistent values:\n",
    "    -  Home Ownership - change \"HaveMortgage\" to \"Home Mortgage\"\n",
    "3. Remove null values\n",
    "4. Drop bad values\n",
    "5. Remove Duplicates"
   ]
  },
  {
   "cell_type": "code",
   "execution_count": 157,
   "metadata": {},
   "outputs": [],
   "source": [
    "import pandas as pd\n",
    "import numpy as np\n",
    "import matplotlib.pyplot as plt\n",
    "import seaborn as sns\n",
    "\n",
    "from sklearn.impute import SimpleImputer\n",
    "from sklearn.model_selection import train_test_split\n",
    "from sklearn.preprocessing import FunctionTransformer, StandardScaler, OneHotEncoder, RobustScaler\n",
    "from sklearn.compose import ColumnTransformer\n",
    "from sklearn.pipeline import Pipeline\n",
    "\n",
    "from sklearn import set_config\n",
    "set_config(transform_output='pandas')\n",
    "\n",
    "import category_encoders as ce"
   ]
  },
  {
   "cell_type": "code",
   "execution_count": 158,
   "metadata": {},
   "outputs": [
    {
     "name": "stderr",
     "output_type": "stream",
     "text": [
      "/var/folders/bh/crnltg950_n8l07mfm97qdtc0000gn/T/ipykernel_6978/2955071538.py:1: DtypeWarning: Columns (10,16) have mixed types. Specify dtype option on import or set low_memory=False.\n",
      "  df = pd.read_csv('LoansDataset.csv')\n"
     ]
    },
    {
     "data": {
      "text/html": [
       "<div>\n",
       "<style scoped>\n",
       "    .dataframe tbody tr th:only-of-type {\n",
       "        vertical-align: middle;\n",
       "    }\n",
       "\n",
       "    .dataframe tbody tr th {\n",
       "        vertical-align: top;\n",
       "    }\n",
       "\n",
       "    .dataframe thead th {\n",
       "        text-align: right;\n",
       "    }\n",
       "</style>\n",
       "<table border=\"1\" class=\"dataframe\">\n",
       "  <thead>\n",
       "    <tr style=\"text-align: right;\">\n",
       "      <th></th>\n",
       "      <th>Loan ID</th>\n",
       "      <th>Customer ID</th>\n",
       "      <th>Loan Status</th>\n",
       "      <th>Current Loan Amount</th>\n",
       "      <th>Term</th>\n",
       "      <th>Credit Score</th>\n",
       "      <th>Years in current job</th>\n",
       "      <th>Home Ownership</th>\n",
       "      <th>Annual Income</th>\n",
       "      <th>Purpose</th>\n",
       "      <th>Monthly Debt</th>\n",
       "      <th>Years of Credit History</th>\n",
       "      <th>Months since last delinquent</th>\n",
       "      <th>Number of Open Accounts</th>\n",
       "      <th>Number of Credit Problems</th>\n",
       "      <th>Current Credit Balance</th>\n",
       "      <th>Maximum Open Credit</th>\n",
       "      <th>Bankruptcies</th>\n",
       "      <th>Tax Liens</th>\n",
       "    </tr>\n",
       "  </thead>\n",
       "  <tbody>\n",
       "    <tr>\n",
       "      <th>0</th>\n",
       "      <td>6cf51492-02a2-423e-b93d-676f05b9ad53</td>\n",
       "      <td>7c202b37-2add-44e8-9aea-d5b119aea935</td>\n",
       "      <td>Charged Off</td>\n",
       "      <td>12232</td>\n",
       "      <td>Short Term</td>\n",
       "      <td>7280.0</td>\n",
       "      <td>&lt; 1 year</td>\n",
       "      <td>Rent</td>\n",
       "      <td>46643.0</td>\n",
       "      <td>Debt Consolidation</td>\n",
       "      <td>777.39</td>\n",
       "      <td>18.0</td>\n",
       "      <td>10.0</td>\n",
       "      <td>12</td>\n",
       "      <td>0</td>\n",
       "      <td>6762</td>\n",
       "      <td>7946</td>\n",
       "      <td>0.0</td>\n",
       "      <td>0.0</td>\n",
       "    </tr>\n",
       "    <tr>\n",
       "      <th>1</th>\n",
       "      <td>552e7ade-4292-4354-9ff9-c48031697d72</td>\n",
       "      <td>e7217b0a-07ac-47dd-b379-577b5a35b7c6</td>\n",
       "      <td>Charged Off</td>\n",
       "      <td>25014</td>\n",
       "      <td>Long Term</td>\n",
       "      <td>7330.0</td>\n",
       "      <td>10+ years</td>\n",
       "      <td>Home Mortgage</td>\n",
       "      <td>81099.0</td>\n",
       "      <td>Debt Consolidation</td>\n",
       "      <td>892.09</td>\n",
       "      <td>26.7</td>\n",
       "      <td>NaN</td>\n",
       "      <td>14</td>\n",
       "      <td>0</td>\n",
       "      <td>35706</td>\n",
       "      <td>77961</td>\n",
       "      <td>0.0</td>\n",
       "      <td>0.0</td>\n",
       "    </tr>\n",
       "    <tr>\n",
       "      <th>2</th>\n",
       "      <td>9b5e32b3-8d76-4801-afc8-d729d5a2e6b9</td>\n",
       "      <td>0a62fc41-16c8-40b5-92ff-9e4b763ce714</td>\n",
       "      <td>Charged Off</td>\n",
       "      <td>16117</td>\n",
       "      <td>Short Term</td>\n",
       "      <td>7240.0</td>\n",
       "      <td>9 years</td>\n",
       "      <td>Home Mortgage</td>\n",
       "      <td>60438.0</td>\n",
       "      <td>Home Improvements</td>\n",
       "      <td>1244.02</td>\n",
       "      <td>16.7</td>\n",
       "      <td>32.0</td>\n",
       "      <td>11</td>\n",
       "      <td>1</td>\n",
       "      <td>11275</td>\n",
       "      <td>14815</td>\n",
       "      <td>1.0</td>\n",
       "      <td>0.0</td>\n",
       "    </tr>\n",
       "    <tr>\n",
       "      <th>3</th>\n",
       "      <td>5419b7c7-ac11-4be2-a8a7-b131fb6d6dbe</td>\n",
       "      <td>30f36c59-5182-4482-8bbb-5b736849ae43</td>\n",
       "      <td>Charged Off</td>\n",
       "      <td>11716</td>\n",
       "      <td>Short Term</td>\n",
       "      <td>7400.0</td>\n",
       "      <td>3 years</td>\n",
       "      <td>Rent</td>\n",
       "      <td>34171.0</td>\n",
       "      <td>Debt Consolidation</td>\n",
       "      <td>990.94</td>\n",
       "      <td>10.0</td>\n",
       "      <td>NaN</td>\n",
       "      <td>21</td>\n",
       "      <td>0</td>\n",
       "      <td>7009</td>\n",
       "      <td>43533</td>\n",
       "      <td>0.0</td>\n",
       "      <td>0.0</td>\n",
       "    </tr>\n",
       "    <tr>\n",
       "      <th>4</th>\n",
       "      <td>1450910f-9495-4fc9-afaf-9bdf4b9821df</td>\n",
       "      <td>70c26012-bba5-42c0-8dcb-75295ada31bb</td>\n",
       "      <td>Charged Off</td>\n",
       "      <td>9789</td>\n",
       "      <td>Long Term</td>\n",
       "      <td>6860.0</td>\n",
       "      <td>10+ years</td>\n",
       "      <td>Home Mortgage</td>\n",
       "      <td>47003.0</td>\n",
       "      <td>Home Improvements</td>\n",
       "      <td>503.71</td>\n",
       "      <td>16.7</td>\n",
       "      <td>25.0</td>\n",
       "      <td>13</td>\n",
       "      <td>1</td>\n",
       "      <td>16913</td>\n",
       "      <td>19553</td>\n",
       "      <td>1.0</td>\n",
       "      <td>0.0</td>\n",
       "    </tr>\n",
       "  </tbody>\n",
       "</table>\n",
       "</div>"
      ],
      "text/plain": [
       "                                Loan ID                           Customer ID  \\\n",
       "0  6cf51492-02a2-423e-b93d-676f05b9ad53  7c202b37-2add-44e8-9aea-d5b119aea935   \n",
       "1  552e7ade-4292-4354-9ff9-c48031697d72  e7217b0a-07ac-47dd-b379-577b5a35b7c6   \n",
       "2  9b5e32b3-8d76-4801-afc8-d729d5a2e6b9  0a62fc41-16c8-40b5-92ff-9e4b763ce714   \n",
       "3  5419b7c7-ac11-4be2-a8a7-b131fb6d6dbe  30f36c59-5182-4482-8bbb-5b736849ae43   \n",
       "4  1450910f-9495-4fc9-afaf-9bdf4b9821df  70c26012-bba5-42c0-8dcb-75295ada31bb   \n",
       "\n",
       "   Loan Status  Current Loan Amount        Term  Credit Score  \\\n",
       "0  Charged Off                12232  Short Term        7280.0   \n",
       "1  Charged Off                25014   Long Term        7330.0   \n",
       "2  Charged Off                16117  Short Term        7240.0   \n",
       "3  Charged Off                11716  Short Term        7400.0   \n",
       "4  Charged Off                 9789   Long Term        6860.0   \n",
       "\n",
       "  Years in current job Home Ownership  Annual Income             Purpose  \\\n",
       "0             < 1 year           Rent        46643.0  Debt Consolidation   \n",
       "1            10+ years  Home Mortgage        81099.0  Debt Consolidation   \n",
       "2              9 years  Home Mortgage        60438.0   Home Improvements   \n",
       "3              3 years           Rent        34171.0  Debt Consolidation   \n",
       "4            10+ years  Home Mortgage        47003.0   Home Improvements   \n",
       "\n",
       "  Monthly Debt  Years of Credit History  Months since last delinquent  \\\n",
       "0       777.39                     18.0                          10.0   \n",
       "1       892.09                     26.7                           NaN   \n",
       "2      1244.02                     16.7                          32.0   \n",
       "3       990.94                     10.0                           NaN   \n",
       "4       503.71                     16.7                          25.0   \n",
       "\n",
       "   Number of Open Accounts  Number of Credit Problems  Current Credit Balance  \\\n",
       "0                       12                          0                    6762   \n",
       "1                       14                          0                   35706   \n",
       "2                       11                          1                   11275   \n",
       "3                       21                          0                    7009   \n",
       "4                       13                          1                   16913   \n",
       "\n",
       "  Maximum Open Credit  Bankruptcies  Tax Liens  \n",
       "0                7946           0.0        0.0  \n",
       "1               77961           0.0        0.0  \n",
       "2               14815           1.0        0.0  \n",
       "3               43533           0.0        0.0  \n",
       "4               19553           1.0        0.0  "
      ]
     },
     "execution_count": 158,
     "metadata": {},
     "output_type": "execute_result"
    }
   ],
   "source": [
    "df = pd.read_csv('LoansDataset.csv')\n",
    "df.head()"
   ]
  },
  {
   "cell_type": "markdown",
   "metadata": {},
   "source": [
    "### Step 1: Data Cleaning - 1. Clean data types:\n",
    "    - Monthly Debt - remove non-numeric characters, then transform strings to floats.\n",
    "    - Maximum Open Credit - remove non-numeric characters, then transform strings into floats."
   ]
  },
  {
   "cell_type": "code",
   "execution_count": 197,
   "metadata": {},
   "outputs": [],
   "source": [
    "def string_to_float(data, column_name):\n",
    "  data = data.copy()\n",
    "  data[column_name] = data[column_name].astype(str)\n",
    "  data[column_name] = data[column_name].str.replace(r'[^0-9.]', '', regex=True)\n",
    "  data[column_name] = data[column_name].replace('', np.nan)\n",
    "  data[column_name] = pd.to_numeric(data[column_name], errors='coerce')\n",
    "  return data"
   ]
  },
  {
   "cell_type": "code",
   "execution_count": 198,
   "metadata": {},
   "outputs": [],
   "source": [
    "monthly_debt_to_float_transformer = FunctionTransformer(lambda X: string_to_float(X, 'Monthly Debt'))\n",
    "max_credit_to_float_tranformer = FunctionTransformer(lambda X: string_to_float(X, 'Maximum Open Credit'))"
   ]
  },
  {
   "cell_type": "code",
   "execution_count": null,
   "metadata": {},
   "outputs": [
    {
     "name": "stdout",
     "output_type": "stream",
     "text": [
      "<class 'pandas.core.frame.DataFrame'>\n",
      "RangeIndex: 111107 entries, 0 to 111106\n",
      "Data columns (total 19 columns):\n",
      " #   Column                        Non-Null Count   Dtype  \n",
      "---  ------                        --------------   -----  \n",
      " 0   Loan ID                       111107 non-null  object \n",
      " 1   Customer ID                   111107 non-null  object \n",
      " 2   Loan Status                   111107 non-null  object \n",
      " 3   Current Loan Amount           111107 non-null  int64  \n",
      " 4   Term                          111107 non-null  object \n",
      " 5   Credit Score                  89769 non-null   float64\n",
      " 6   Years in current job          106414 non-null  object \n",
      " 7   Home Ownership                111107 non-null  object \n",
      " 8   Annual Income                 89769 non-null   float64\n",
      " 9   Purpose                       111107 non-null  object \n",
      " 10  Monthly Debt                  111107 non-null  float64\n",
      " 11  Years of Credit History       111107 non-null  float64\n",
      " 12  Months since last delinquent  52104 non-null   float64\n",
      " 13  Number of Open Accounts       111107 non-null  int64  \n",
      " 14  Number of Credit Problems     111107 non-null  int64  \n",
      " 15  Current Credit Balance        111107 non-null  int64  \n",
      " 16  Maximum Open Credit           111105 non-null  float64\n",
      " 17  Bankruptcies                  110879 non-null  float64\n",
      " 18  Tax Liens                     111096 non-null  float64\n",
      "dtypes: float64(8), int64(4), object(7)\n",
      "memory usage: 16.1+ MB\n"
     ]
    }
   ],
   "source": [
    "df = string_to_float(df, 'Monthly Debt')\n",
    "df = string_to_float(df, 'Maximum Open Credit')\n",
    "df.info()"
   ]
  },
  {
   "cell_type": "markdown",
   "metadata": {},
   "source": [
    "### Step 1: Data Cleaning - 2. Correct inconsistent values:\n",
    "    -  Home Ownership - change \"HaveMortgage\" to \"Home Mortgage\""
   ]
  },
  {
   "cell_type": "code",
   "execution_count": 161,
   "metadata": {},
   "outputs": [],
   "source": [
    "def correct_label(data, column_name, wrong_label, right_label):\n",
    "  \"\"\"\n",
    "  data = your dataframe\n",
    "  column_name = column name as a string\n",
    "  the incorrect label that you want to change\n",
    "  the correct label that you want to change it to\n",
    "  \"\"\"\n",
    "  data[column_name] = data[column_name].replace({wrong_label: right_label})\n",
    "  return data"
   ]
  },
  {
   "cell_type": "code",
   "execution_count": 162,
   "metadata": {},
   "outputs": [
    {
     "data": {
      "text/plain": [
       "array(['Rent', 'Home Mortgage', 'Own Home'], dtype=object)"
      ]
     },
     "execution_count": 162,
     "metadata": {},
     "output_type": "execute_result"
    }
   ],
   "source": [
    "correct_label(df, 'Home Ownership', 'HaveMortgage', 'Home Mortgage')\n",
    "df['Home Ownership'].unique()"
   ]
  },
  {
   "cell_type": "markdown",
   "metadata": {},
   "source": [
    "### Step 1: Data Cleaning - 3. Drop nulls\n",
    "Drop null values in the following features:\n",
    "   - Credit Score\n",
    "   - Annual Income\n",
    "   - Bankruptcies\n",
    "   - Tax Liens"
   ]
  },
  {
   "cell_type": "code",
   "execution_count": 163,
   "metadata": {},
   "outputs": [],
   "source": [
    "def drop_nulls(data, columns_list):\n",
    "  data = data.copy()\n",
    "  return data.dropna(subset=columns_list)"
   ]
  },
  {
   "cell_type": "code",
   "execution_count": 164,
   "metadata": {},
   "outputs": [
    {
     "name": "stdout",
     "output_type": "stream",
     "text": [
      "<class 'pandas.core.frame.DataFrame'>\n",
      "Index: 89586 entries, 0 to 111106\n",
      "Data columns (total 19 columns):\n",
      " #   Column                        Non-Null Count  Dtype  \n",
      "---  ------                        --------------  -----  \n",
      " 0   Loan ID                       89586 non-null  object \n",
      " 1   Customer ID                   89586 non-null  object \n",
      " 2   Loan Status                   89586 non-null  object \n",
      " 3   Current Loan Amount           89586 non-null  int64  \n",
      " 4   Term                          89586 non-null  object \n",
      " 5   Credit Score                  89586 non-null  float64\n",
      " 6   Years in current job          85799 non-null  object \n",
      " 7   Home Ownership                89586 non-null  object \n",
      " 8   Annual Income                 89586 non-null  float64\n",
      " 9   Purpose                       89586 non-null  object \n",
      " 10  Monthly Debt                  89586 non-null  float64\n",
      " 11  Years of Credit History       89586 non-null  float64\n",
      " 12  Months since last delinquent  42202 non-null  float64\n",
      " 13  Number of Open Accounts       89586 non-null  int64  \n",
      " 14  Number of Credit Problems     89586 non-null  int64  \n",
      " 15  Current Credit Balance        89586 non-null  int64  \n",
      " 16  Maximum Open Credit           89585 non-null  float64\n",
      " 17  Bankruptcies                  89586 non-null  float64\n",
      " 18  Tax Liens                     89586 non-null  float64\n",
      "dtypes: float64(8), int64(4), object(7)\n",
      "memory usage: 13.7+ MB\n"
     ]
    }
   ],
   "source": [
    "columns=['Credit Score','Annual Income','Bankruptcies','Tax Liens']\n",
    "df = drop_nulls(df, columns)\n",
    "df.info()"
   ]
  },
  {
   "cell_type": "markdown",
   "metadata": {},
   "source": [
    "### Step 1: Data Cleaning - 4. Drop bad values"
   ]
  },
  {
   "cell_type": "code",
   "execution_count": 165,
   "metadata": {},
   "outputs": [],
   "source": [
    "def drop_bad_values(data, column_name, bad_value):\n",
    "  data = data[data[column_name] != bad_value].copy()\n",
    "  return data"
   ]
  },
  {
   "cell_type": "code",
   "execution_count": 166,
   "metadata": {},
   "outputs": [
    {
     "name": "stdout",
     "output_type": "stream",
     "text": [
      "<class 'pandas.core.frame.DataFrame'>\n",
      "Index: 76879 entries, 0 to 111106\n",
      "Data columns (total 19 columns):\n",
      " #   Column                        Non-Null Count  Dtype  \n",
      "---  ------                        --------------  -----  \n",
      " 0   Loan ID                       76879 non-null  object \n",
      " 1   Customer ID                   76879 non-null  object \n",
      " 2   Loan Status                   76879 non-null  object \n",
      " 3   Current Loan Amount           76879 non-null  int64  \n",
      " 4   Term                          76879 non-null  object \n",
      " 5   Credit Score                  76879 non-null  float64\n",
      " 6   Years in current job          73567 non-null  object \n",
      " 7   Home Ownership                76879 non-null  object \n",
      " 8   Annual Income                 76879 non-null  float64\n",
      " 9   Purpose                       76879 non-null  object \n",
      " 10  Monthly Debt                  76879 non-null  float64\n",
      " 11  Years of Credit History       76879 non-null  float64\n",
      " 12  Months since last delinquent  36552 non-null  float64\n",
      " 13  Number of Open Accounts       76879 non-null  int64  \n",
      " 14  Number of Credit Problems     76879 non-null  int64  \n",
      " 15  Current Credit Balance        76879 non-null  int64  \n",
      " 16  Maximum Open Credit           76878 non-null  float64\n",
      " 17  Bankruptcies                  76879 non-null  float64\n",
      " 18  Tax Liens                     76879 non-null  float64\n",
      "dtypes: float64(8), int64(4), object(7)\n",
      "memory usage: 11.7+ MB\n"
     ]
    }
   ],
   "source": [
    "df = drop_bad_values(df, 'Current Loan Amount', 99999999)\n",
    "df.info()"
   ]
  },
  {
   "cell_type": "markdown",
   "metadata": {},
   "source": [
    "### Step 1: Data Cleaning - 5. Remove Duplicates"
   ]
  },
  {
   "cell_type": "code",
   "execution_count": 167,
   "metadata": {},
   "outputs": [],
   "source": [
    "def drop_duplicates(data):\n",
    "  data = data.copy()\n",
    "  return data.drop_duplicates()"
   ]
  },
  {
   "cell_type": "code",
   "execution_count": 168,
   "metadata": {},
   "outputs": [
    {
     "data": {
      "text/plain": [
       "np.int64(0)"
      ]
     },
     "execution_count": 168,
     "metadata": {},
     "output_type": "execute_result"
    }
   ],
   "source": [
    "df = drop_duplicates(df);\n",
    "df.duplicated().sum()"
   ]
  },
  {
   "cell_type": "code",
   "execution_count": 169,
   "metadata": {},
   "outputs": [
    {
     "data": {
      "text/plain": [
       "np.int64(0)"
      ]
     },
     "execution_count": 169,
     "metadata": {},
     "output_type": "execute_result"
    }
   ],
   "source": [
    "df['Loan ID'].duplicated().sum()"
   ]
  },
  {
   "cell_type": "markdown",
   "metadata": {},
   "source": [
    "### Step 1: Data Cleaning - 6. Verify No Duplicates and Set Index to Loan ID"
   ]
  },
  {
   "cell_type": "code",
   "execution_count": 170,
   "metadata": {},
   "outputs": [],
   "source": [
    "df.set_index('Loan ID', inplace=True)"
   ]
  },
  {
   "cell_type": "code",
   "execution_count": 171,
   "metadata": {},
   "outputs": [
    {
     "data": {
      "text/html": [
       "<div>\n",
       "<style scoped>\n",
       "    .dataframe tbody tr th:only-of-type {\n",
       "        vertical-align: middle;\n",
       "    }\n",
       "\n",
       "    .dataframe tbody tr th {\n",
       "        vertical-align: top;\n",
       "    }\n",
       "\n",
       "    .dataframe thead th {\n",
       "        text-align: right;\n",
       "    }\n",
       "</style>\n",
       "<table border=\"1\" class=\"dataframe\">\n",
       "  <thead>\n",
       "    <tr style=\"text-align: right;\">\n",
       "      <th></th>\n",
       "      <th>Customer ID</th>\n",
       "      <th>Loan Status</th>\n",
       "      <th>Current Loan Amount</th>\n",
       "      <th>Term</th>\n",
       "      <th>Credit Score</th>\n",
       "      <th>Years in current job</th>\n",
       "      <th>Home Ownership</th>\n",
       "      <th>Annual Income</th>\n",
       "      <th>Purpose</th>\n",
       "      <th>Monthly Debt</th>\n",
       "      <th>Years of Credit History</th>\n",
       "      <th>Months since last delinquent</th>\n",
       "      <th>Number of Open Accounts</th>\n",
       "      <th>Number of Credit Problems</th>\n",
       "      <th>Current Credit Balance</th>\n",
       "      <th>Maximum Open Credit</th>\n",
       "      <th>Bankruptcies</th>\n",
       "      <th>Tax Liens</th>\n",
       "    </tr>\n",
       "    <tr>\n",
       "      <th>Loan ID</th>\n",
       "      <th></th>\n",
       "      <th></th>\n",
       "      <th></th>\n",
       "      <th></th>\n",
       "      <th></th>\n",
       "      <th></th>\n",
       "      <th></th>\n",
       "      <th></th>\n",
       "      <th></th>\n",
       "      <th></th>\n",
       "      <th></th>\n",
       "      <th></th>\n",
       "      <th></th>\n",
       "      <th></th>\n",
       "      <th></th>\n",
       "      <th></th>\n",
       "      <th></th>\n",
       "      <th></th>\n",
       "    </tr>\n",
       "  </thead>\n",
       "  <tbody>\n",
       "    <tr>\n",
       "      <th>6cf51492-02a2-423e-b93d-676f05b9ad53</th>\n",
       "      <td>7c202b37-2add-44e8-9aea-d5b119aea935</td>\n",
       "      <td>Charged Off</td>\n",
       "      <td>12232</td>\n",
       "      <td>Short Term</td>\n",
       "      <td>7280.0</td>\n",
       "      <td>&lt; 1 year</td>\n",
       "      <td>Rent</td>\n",
       "      <td>46643.0</td>\n",
       "      <td>Debt Consolidation</td>\n",
       "      <td>777.39</td>\n",
       "      <td>18.0</td>\n",
       "      <td>10.0</td>\n",
       "      <td>12</td>\n",
       "      <td>0</td>\n",
       "      <td>6762</td>\n",
       "      <td>7946.0</td>\n",
       "      <td>0.0</td>\n",
       "      <td>0.0</td>\n",
       "    </tr>\n",
       "    <tr>\n",
       "      <th>552e7ade-4292-4354-9ff9-c48031697d72</th>\n",
       "      <td>e7217b0a-07ac-47dd-b379-577b5a35b7c6</td>\n",
       "      <td>Charged Off</td>\n",
       "      <td>25014</td>\n",
       "      <td>Long Term</td>\n",
       "      <td>7330.0</td>\n",
       "      <td>10+ years</td>\n",
       "      <td>Home Mortgage</td>\n",
       "      <td>81099.0</td>\n",
       "      <td>Debt Consolidation</td>\n",
       "      <td>892.09</td>\n",
       "      <td>26.7</td>\n",
       "      <td>NaN</td>\n",
       "      <td>14</td>\n",
       "      <td>0</td>\n",
       "      <td>35706</td>\n",
       "      <td>77961.0</td>\n",
       "      <td>0.0</td>\n",
       "      <td>0.0</td>\n",
       "    </tr>\n",
       "    <tr>\n",
       "      <th>9b5e32b3-8d76-4801-afc8-d729d5a2e6b9</th>\n",
       "      <td>0a62fc41-16c8-40b5-92ff-9e4b763ce714</td>\n",
       "      <td>Charged Off</td>\n",
       "      <td>16117</td>\n",
       "      <td>Short Term</td>\n",
       "      <td>7240.0</td>\n",
       "      <td>9 years</td>\n",
       "      <td>Home Mortgage</td>\n",
       "      <td>60438.0</td>\n",
       "      <td>Home Improvements</td>\n",
       "      <td>1244.02</td>\n",
       "      <td>16.7</td>\n",
       "      <td>32.0</td>\n",
       "      <td>11</td>\n",
       "      <td>1</td>\n",
       "      <td>11275</td>\n",
       "      <td>14815.0</td>\n",
       "      <td>1.0</td>\n",
       "      <td>0.0</td>\n",
       "    </tr>\n",
       "    <tr>\n",
       "      <th>5419b7c7-ac11-4be2-a8a7-b131fb6d6dbe</th>\n",
       "      <td>30f36c59-5182-4482-8bbb-5b736849ae43</td>\n",
       "      <td>Charged Off</td>\n",
       "      <td>11716</td>\n",
       "      <td>Short Term</td>\n",
       "      <td>7400.0</td>\n",
       "      <td>3 years</td>\n",
       "      <td>Rent</td>\n",
       "      <td>34171.0</td>\n",
       "      <td>Debt Consolidation</td>\n",
       "      <td>990.94</td>\n",
       "      <td>10.0</td>\n",
       "      <td>NaN</td>\n",
       "      <td>21</td>\n",
       "      <td>0</td>\n",
       "      <td>7009</td>\n",
       "      <td>43533.0</td>\n",
       "      <td>0.0</td>\n",
       "      <td>0.0</td>\n",
       "    </tr>\n",
       "    <tr>\n",
       "      <th>1450910f-9495-4fc9-afaf-9bdf4b9821df</th>\n",
       "      <td>70c26012-bba5-42c0-8dcb-75295ada31bb</td>\n",
       "      <td>Charged Off</td>\n",
       "      <td>9789</td>\n",
       "      <td>Long Term</td>\n",
       "      <td>6860.0</td>\n",
       "      <td>10+ years</td>\n",
       "      <td>Home Mortgage</td>\n",
       "      <td>47003.0</td>\n",
       "      <td>Home Improvements</td>\n",
       "      <td>503.71</td>\n",
       "      <td>16.7</td>\n",
       "      <td>25.0</td>\n",
       "      <td>13</td>\n",
       "      <td>1</td>\n",
       "      <td>16913</td>\n",
       "      <td>19553.0</td>\n",
       "      <td>1.0</td>\n",
       "      <td>0.0</td>\n",
       "    </tr>\n",
       "  </tbody>\n",
       "</table>\n",
       "</div>"
      ],
      "text/plain": [
       "                                                               Customer ID  \\\n",
       "Loan ID                                                                      \n",
       "6cf51492-02a2-423e-b93d-676f05b9ad53  7c202b37-2add-44e8-9aea-d5b119aea935   \n",
       "552e7ade-4292-4354-9ff9-c48031697d72  e7217b0a-07ac-47dd-b379-577b5a35b7c6   \n",
       "9b5e32b3-8d76-4801-afc8-d729d5a2e6b9  0a62fc41-16c8-40b5-92ff-9e4b763ce714   \n",
       "5419b7c7-ac11-4be2-a8a7-b131fb6d6dbe  30f36c59-5182-4482-8bbb-5b736849ae43   \n",
       "1450910f-9495-4fc9-afaf-9bdf4b9821df  70c26012-bba5-42c0-8dcb-75295ada31bb   \n",
       "\n",
       "                                      Loan Status  Current Loan Amount  \\\n",
       "Loan ID                                                                  \n",
       "6cf51492-02a2-423e-b93d-676f05b9ad53  Charged Off                12232   \n",
       "552e7ade-4292-4354-9ff9-c48031697d72  Charged Off                25014   \n",
       "9b5e32b3-8d76-4801-afc8-d729d5a2e6b9  Charged Off                16117   \n",
       "5419b7c7-ac11-4be2-a8a7-b131fb6d6dbe  Charged Off                11716   \n",
       "1450910f-9495-4fc9-afaf-9bdf4b9821df  Charged Off                 9789   \n",
       "\n",
       "                                            Term  Credit Score  \\\n",
       "Loan ID                                                          \n",
       "6cf51492-02a2-423e-b93d-676f05b9ad53  Short Term        7280.0   \n",
       "552e7ade-4292-4354-9ff9-c48031697d72   Long Term        7330.0   \n",
       "9b5e32b3-8d76-4801-afc8-d729d5a2e6b9  Short Term        7240.0   \n",
       "5419b7c7-ac11-4be2-a8a7-b131fb6d6dbe  Short Term        7400.0   \n",
       "1450910f-9495-4fc9-afaf-9bdf4b9821df   Long Term        6860.0   \n",
       "\n",
       "                                     Years in current job Home Ownership  \\\n",
       "Loan ID                                                                    \n",
       "6cf51492-02a2-423e-b93d-676f05b9ad53             < 1 year           Rent   \n",
       "552e7ade-4292-4354-9ff9-c48031697d72            10+ years  Home Mortgage   \n",
       "9b5e32b3-8d76-4801-afc8-d729d5a2e6b9              9 years  Home Mortgage   \n",
       "5419b7c7-ac11-4be2-a8a7-b131fb6d6dbe              3 years           Rent   \n",
       "1450910f-9495-4fc9-afaf-9bdf4b9821df            10+ years  Home Mortgage   \n",
       "\n",
       "                                      Annual Income             Purpose  \\\n",
       "Loan ID                                                                   \n",
       "6cf51492-02a2-423e-b93d-676f05b9ad53        46643.0  Debt Consolidation   \n",
       "552e7ade-4292-4354-9ff9-c48031697d72        81099.0  Debt Consolidation   \n",
       "9b5e32b3-8d76-4801-afc8-d729d5a2e6b9        60438.0   Home Improvements   \n",
       "5419b7c7-ac11-4be2-a8a7-b131fb6d6dbe        34171.0  Debt Consolidation   \n",
       "1450910f-9495-4fc9-afaf-9bdf4b9821df        47003.0   Home Improvements   \n",
       "\n",
       "                                      Monthly Debt  Years of Credit History  \\\n",
       "Loan ID                                                                       \n",
       "6cf51492-02a2-423e-b93d-676f05b9ad53        777.39                     18.0   \n",
       "552e7ade-4292-4354-9ff9-c48031697d72        892.09                     26.7   \n",
       "9b5e32b3-8d76-4801-afc8-d729d5a2e6b9       1244.02                     16.7   \n",
       "5419b7c7-ac11-4be2-a8a7-b131fb6d6dbe        990.94                     10.0   \n",
       "1450910f-9495-4fc9-afaf-9bdf4b9821df        503.71                     16.7   \n",
       "\n",
       "                                      Months since last delinquent  \\\n",
       "Loan ID                                                              \n",
       "6cf51492-02a2-423e-b93d-676f05b9ad53                          10.0   \n",
       "552e7ade-4292-4354-9ff9-c48031697d72                           NaN   \n",
       "9b5e32b3-8d76-4801-afc8-d729d5a2e6b9                          32.0   \n",
       "5419b7c7-ac11-4be2-a8a7-b131fb6d6dbe                           NaN   \n",
       "1450910f-9495-4fc9-afaf-9bdf4b9821df                          25.0   \n",
       "\n",
       "                                      Number of Open Accounts  \\\n",
       "Loan ID                                                         \n",
       "6cf51492-02a2-423e-b93d-676f05b9ad53                       12   \n",
       "552e7ade-4292-4354-9ff9-c48031697d72                       14   \n",
       "9b5e32b3-8d76-4801-afc8-d729d5a2e6b9                       11   \n",
       "5419b7c7-ac11-4be2-a8a7-b131fb6d6dbe                       21   \n",
       "1450910f-9495-4fc9-afaf-9bdf4b9821df                       13   \n",
       "\n",
       "                                      Number of Credit Problems  \\\n",
       "Loan ID                                                           \n",
       "6cf51492-02a2-423e-b93d-676f05b9ad53                          0   \n",
       "552e7ade-4292-4354-9ff9-c48031697d72                          0   \n",
       "9b5e32b3-8d76-4801-afc8-d729d5a2e6b9                          1   \n",
       "5419b7c7-ac11-4be2-a8a7-b131fb6d6dbe                          0   \n",
       "1450910f-9495-4fc9-afaf-9bdf4b9821df                          1   \n",
       "\n",
       "                                      Current Credit Balance  \\\n",
       "Loan ID                                                        \n",
       "6cf51492-02a2-423e-b93d-676f05b9ad53                    6762   \n",
       "552e7ade-4292-4354-9ff9-c48031697d72                   35706   \n",
       "9b5e32b3-8d76-4801-afc8-d729d5a2e6b9                   11275   \n",
       "5419b7c7-ac11-4be2-a8a7-b131fb6d6dbe                    7009   \n",
       "1450910f-9495-4fc9-afaf-9bdf4b9821df                   16913   \n",
       "\n",
       "                                      Maximum Open Credit  Bankruptcies  \\\n",
       "Loan ID                                                                   \n",
       "6cf51492-02a2-423e-b93d-676f05b9ad53               7946.0           0.0   \n",
       "552e7ade-4292-4354-9ff9-c48031697d72              77961.0           0.0   \n",
       "9b5e32b3-8d76-4801-afc8-d729d5a2e6b9              14815.0           1.0   \n",
       "5419b7c7-ac11-4be2-a8a7-b131fb6d6dbe              43533.0           0.0   \n",
       "1450910f-9495-4fc9-afaf-9bdf4b9821df              19553.0           1.0   \n",
       "\n",
       "                                      Tax Liens  \n",
       "Loan ID                                          \n",
       "6cf51492-02a2-423e-b93d-676f05b9ad53        0.0  \n",
       "552e7ade-4292-4354-9ff9-c48031697d72        0.0  \n",
       "9b5e32b3-8d76-4801-afc8-d729d5a2e6b9        0.0  \n",
       "5419b7c7-ac11-4be2-a8a7-b131fb6d6dbe        0.0  \n",
       "1450910f-9495-4fc9-afaf-9bdf4b9821df        0.0  "
      ]
     },
     "execution_count": 171,
     "metadata": {},
     "output_type": "execute_result"
    }
   ],
   "source": [
    "df.head()"
   ]
  },
  {
   "cell_type": "code",
   "execution_count": 172,
   "metadata": {},
   "outputs": [
    {
     "name": "stdout",
     "output_type": "stream",
     "text": [
      "<class 'pandas.core.frame.DataFrame'>\n",
      "Index: 64371 entries, 6cf51492-02a2-423e-b93d-676f05b9ad53 to f83ae0e1-bd30-46c7-9f72-f4f9fe2f36ca\n",
      "Data columns (total 18 columns):\n",
      " #   Column                        Non-Null Count  Dtype  \n",
      "---  ------                        --------------  -----  \n",
      " 0   Customer ID                   64371 non-null  object \n",
      " 1   Loan Status                   64371 non-null  object \n",
      " 2   Current Loan Amount           64371 non-null  int64  \n",
      " 3   Term                          64371 non-null  object \n",
      " 4   Credit Score                  64371 non-null  float64\n",
      " 5   Years in current job          61577 non-null  object \n",
      " 6   Home Ownership                64371 non-null  object \n",
      " 7   Annual Income                 64371 non-null  float64\n",
      " 8   Purpose                       64371 non-null  object \n",
      " 9   Monthly Debt                  64371 non-null  float64\n",
      " 10  Years of Credit History       64371 non-null  float64\n",
      " 11  Months since last delinquent  29944 non-null  float64\n",
      " 12  Number of Open Accounts       64371 non-null  int64  \n",
      " 13  Number of Credit Problems     64371 non-null  int64  \n",
      " 14  Current Credit Balance        64371 non-null  int64  \n",
      " 15  Maximum Open Credit           64370 non-null  float64\n",
      " 16  Bankruptcies                  64371 non-null  float64\n",
      " 17  Tax Liens                     64371 non-null  float64\n",
      "dtypes: float64(8), int64(4), object(6)\n",
      "memory usage: 9.3+ MB\n"
     ]
    }
   ],
   "source": [
    "df.info()"
   ]
  },
  {
   "cell_type": "markdown",
   "metadata": {},
   "source": [
    "# --- Step 2: Split train/test/val ---"
   ]
  },
  {
   "cell_type": "code",
   "execution_count": 173,
   "metadata": {},
   "outputs": [],
   "source": [
    "X = df.drop(columns='Loan Status')\n",
    "y = df['Loan Status'].copy()\n",
    "\n",
    "X_train, X_test, y_train, y_test = train_test_split(X, y, test_size=0.2, random_state=42)\n",
    "\n",
    "X_val, X_test, y_val, y_test = train_test_split(X_test, y_test, test_size=0.5, random_state=42)"
   ]
  },
  {
   "cell_type": "code",
   "execution_count": 174,
   "metadata": {},
   "outputs": [
    {
     "name": "stdout",
     "output_type": "stream",
     "text": [
      "Train shape: (51496, 17)\n",
      "Test shape: (6438, 17)\n",
      "Test shape: (6437, 17)\n"
     ]
    }
   ],
   "source": [
    "print(f'Train shape: {X_train.shape}')\n",
    "print(f'Test shape: {X_test.shape}')\n",
    "print(f'Test shape: {X_val.shape}')"
   ]
  },
  {
   "cell_type": "markdown",
   "metadata": {},
   "source": [
    "# --- Step 3: Function Transformers ---\n",
    "\n",
    "- Credit Score - For all values above 800, remove last 0. \n",
    "- Months since last delinquent - change to binary, null as \"0\", non-null as \"1\""
   ]
  },
  {
   "cell_type": "markdown",
   "metadata": {},
   "source": [
    "### Step 3: Function Transformers - 1. Credit Score\n",
    "- For all values above 800, remove last 0"
   ]
  },
  {
   "cell_type": "code",
   "execution_count": 175,
   "metadata": {},
   "outputs": [
    {
     "data": {
      "text/plain": [
       "np.int64(5034)"
      ]
     },
     "execution_count": 175,
     "metadata": {},
     "output_type": "execute_result"
    }
   ],
   "source": [
    "df[df['Credit Score'] > 800]['Credit Score'].count()"
   ]
  },
  {
   "cell_type": "code",
   "execution_count": 176,
   "metadata": {},
   "outputs": [],
   "source": [
    "def adjust_credit(data):\n",
    "  data = data.copy()\n",
    "  data.loc[data['Credit Score'] > 800, 'Credit Score'] /= 10\n",
    "  return data\n",
    "\n",
    "credit_transformer = FunctionTransformer(adjust_credit)"
   ]
  },
  {
   "cell_type": "markdown",
   "metadata": {},
   "source": [
    "### Step 3: Function Transformers - 2. Months since last delinquent\n",
    "- Change to binary, null as \"0\", non-null as \"1\"\n",
    "- Rename column to \"Ever Delinquent\""
   ]
  },
  {
   "cell_type": "code",
   "execution_count": 177,
   "metadata": {},
   "outputs": [
    {
     "data": {
      "text/plain": [
       "np.int64(34427)"
      ]
     },
     "execution_count": 177,
     "metadata": {},
     "output_type": "execute_result"
    }
   ],
   "source": [
    "df['Months since last delinquent'].isna().sum()"
   ]
  },
  {
   "cell_type": "code",
   "execution_count": 178,
   "metadata": {},
   "outputs": [],
   "source": [
    "def delinquent_binary(data):\n",
    "  data = data.copy()\n",
    "  data['Months since last delinquent'] = data['Months since last delinquent'].notna().astype(int)\n",
    "  data.rename(columns={'Months since last delinquent': 'Ever Delinquent'}, inplace=True)\n",
    "  return data"
   ]
  },
  {
   "cell_type": "code",
   "execution_count": 179,
   "metadata": {},
   "outputs": [
    {
     "data": {
      "text/html": [
       "<div>\n",
       "<style scoped>\n",
       "    .dataframe tbody tr th:only-of-type {\n",
       "        vertical-align: middle;\n",
       "    }\n",
       "\n",
       "    .dataframe tbody tr th {\n",
       "        vertical-align: top;\n",
       "    }\n",
       "\n",
       "    .dataframe thead th {\n",
       "        text-align: right;\n",
       "    }\n",
       "</style>\n",
       "<table border=\"1\" class=\"dataframe\">\n",
       "  <thead>\n",
       "    <tr style=\"text-align: right;\">\n",
       "      <th></th>\n",
       "      <th>Customer ID</th>\n",
       "      <th>Loan Status</th>\n",
       "      <th>Current Loan Amount</th>\n",
       "      <th>Term</th>\n",
       "      <th>Credit Score</th>\n",
       "      <th>Years in current job</th>\n",
       "      <th>Home Ownership</th>\n",
       "      <th>Annual Income</th>\n",
       "      <th>Purpose</th>\n",
       "      <th>Monthly Debt</th>\n",
       "      <th>Years of Credit History</th>\n",
       "      <th>Ever Delinquent</th>\n",
       "      <th>Number of Open Accounts</th>\n",
       "      <th>Number of Credit Problems</th>\n",
       "      <th>Current Credit Balance</th>\n",
       "      <th>Maximum Open Credit</th>\n",
       "      <th>Bankruptcies</th>\n",
       "      <th>Tax Liens</th>\n",
       "    </tr>\n",
       "    <tr>\n",
       "      <th>Loan ID</th>\n",
       "      <th></th>\n",
       "      <th></th>\n",
       "      <th></th>\n",
       "      <th></th>\n",
       "      <th></th>\n",
       "      <th></th>\n",
       "      <th></th>\n",
       "      <th></th>\n",
       "      <th></th>\n",
       "      <th></th>\n",
       "      <th></th>\n",
       "      <th></th>\n",
       "      <th></th>\n",
       "      <th></th>\n",
       "      <th></th>\n",
       "      <th></th>\n",
       "      <th></th>\n",
       "      <th></th>\n",
       "    </tr>\n",
       "  </thead>\n",
       "  <tbody>\n",
       "    <tr>\n",
       "      <th>6cf51492-02a2-423e-b93d-676f05b9ad53</th>\n",
       "      <td>7c202b37-2add-44e8-9aea-d5b119aea935</td>\n",
       "      <td>Charged Off</td>\n",
       "      <td>12232</td>\n",
       "      <td>Short Term</td>\n",
       "      <td>7280.0</td>\n",
       "      <td>&lt; 1 year</td>\n",
       "      <td>Rent</td>\n",
       "      <td>46643.0</td>\n",
       "      <td>Debt Consolidation</td>\n",
       "      <td>777.39</td>\n",
       "      <td>18.0</td>\n",
       "      <td>1</td>\n",
       "      <td>12</td>\n",
       "      <td>0</td>\n",
       "      <td>6762</td>\n",
       "      <td>7946.0</td>\n",
       "      <td>0.0</td>\n",
       "      <td>0.0</td>\n",
       "    </tr>\n",
       "    <tr>\n",
       "      <th>552e7ade-4292-4354-9ff9-c48031697d72</th>\n",
       "      <td>e7217b0a-07ac-47dd-b379-577b5a35b7c6</td>\n",
       "      <td>Charged Off</td>\n",
       "      <td>25014</td>\n",
       "      <td>Long Term</td>\n",
       "      <td>7330.0</td>\n",
       "      <td>10+ years</td>\n",
       "      <td>Home Mortgage</td>\n",
       "      <td>81099.0</td>\n",
       "      <td>Debt Consolidation</td>\n",
       "      <td>892.09</td>\n",
       "      <td>26.7</td>\n",
       "      <td>0</td>\n",
       "      <td>14</td>\n",
       "      <td>0</td>\n",
       "      <td>35706</td>\n",
       "      <td>77961.0</td>\n",
       "      <td>0.0</td>\n",
       "      <td>0.0</td>\n",
       "    </tr>\n",
       "    <tr>\n",
       "      <th>9b5e32b3-8d76-4801-afc8-d729d5a2e6b9</th>\n",
       "      <td>0a62fc41-16c8-40b5-92ff-9e4b763ce714</td>\n",
       "      <td>Charged Off</td>\n",
       "      <td>16117</td>\n",
       "      <td>Short Term</td>\n",
       "      <td>7240.0</td>\n",
       "      <td>9 years</td>\n",
       "      <td>Home Mortgage</td>\n",
       "      <td>60438.0</td>\n",
       "      <td>Home Improvements</td>\n",
       "      <td>1244.02</td>\n",
       "      <td>16.7</td>\n",
       "      <td>1</td>\n",
       "      <td>11</td>\n",
       "      <td>1</td>\n",
       "      <td>11275</td>\n",
       "      <td>14815.0</td>\n",
       "      <td>1.0</td>\n",
       "      <td>0.0</td>\n",
       "    </tr>\n",
       "    <tr>\n",
       "      <th>5419b7c7-ac11-4be2-a8a7-b131fb6d6dbe</th>\n",
       "      <td>30f36c59-5182-4482-8bbb-5b736849ae43</td>\n",
       "      <td>Charged Off</td>\n",
       "      <td>11716</td>\n",
       "      <td>Short Term</td>\n",
       "      <td>7400.0</td>\n",
       "      <td>3 years</td>\n",
       "      <td>Rent</td>\n",
       "      <td>34171.0</td>\n",
       "      <td>Debt Consolidation</td>\n",
       "      <td>990.94</td>\n",
       "      <td>10.0</td>\n",
       "      <td>0</td>\n",
       "      <td>21</td>\n",
       "      <td>0</td>\n",
       "      <td>7009</td>\n",
       "      <td>43533.0</td>\n",
       "      <td>0.0</td>\n",
       "      <td>0.0</td>\n",
       "    </tr>\n",
       "    <tr>\n",
       "      <th>1450910f-9495-4fc9-afaf-9bdf4b9821df</th>\n",
       "      <td>70c26012-bba5-42c0-8dcb-75295ada31bb</td>\n",
       "      <td>Charged Off</td>\n",
       "      <td>9789</td>\n",
       "      <td>Long Term</td>\n",
       "      <td>6860.0</td>\n",
       "      <td>10+ years</td>\n",
       "      <td>Home Mortgage</td>\n",
       "      <td>47003.0</td>\n",
       "      <td>Home Improvements</td>\n",
       "      <td>503.71</td>\n",
       "      <td>16.7</td>\n",
       "      <td>1</td>\n",
       "      <td>13</td>\n",
       "      <td>1</td>\n",
       "      <td>16913</td>\n",
       "      <td>19553.0</td>\n",
       "      <td>1.0</td>\n",
       "      <td>0.0</td>\n",
       "    </tr>\n",
       "  </tbody>\n",
       "</table>\n",
       "</div>"
      ],
      "text/plain": [
       "                                                               Customer ID  \\\n",
       "Loan ID                                                                      \n",
       "6cf51492-02a2-423e-b93d-676f05b9ad53  7c202b37-2add-44e8-9aea-d5b119aea935   \n",
       "552e7ade-4292-4354-9ff9-c48031697d72  e7217b0a-07ac-47dd-b379-577b5a35b7c6   \n",
       "9b5e32b3-8d76-4801-afc8-d729d5a2e6b9  0a62fc41-16c8-40b5-92ff-9e4b763ce714   \n",
       "5419b7c7-ac11-4be2-a8a7-b131fb6d6dbe  30f36c59-5182-4482-8bbb-5b736849ae43   \n",
       "1450910f-9495-4fc9-afaf-9bdf4b9821df  70c26012-bba5-42c0-8dcb-75295ada31bb   \n",
       "\n",
       "                                      Loan Status  Current Loan Amount  \\\n",
       "Loan ID                                                                  \n",
       "6cf51492-02a2-423e-b93d-676f05b9ad53  Charged Off                12232   \n",
       "552e7ade-4292-4354-9ff9-c48031697d72  Charged Off                25014   \n",
       "9b5e32b3-8d76-4801-afc8-d729d5a2e6b9  Charged Off                16117   \n",
       "5419b7c7-ac11-4be2-a8a7-b131fb6d6dbe  Charged Off                11716   \n",
       "1450910f-9495-4fc9-afaf-9bdf4b9821df  Charged Off                 9789   \n",
       "\n",
       "                                            Term  Credit Score  \\\n",
       "Loan ID                                                          \n",
       "6cf51492-02a2-423e-b93d-676f05b9ad53  Short Term        7280.0   \n",
       "552e7ade-4292-4354-9ff9-c48031697d72   Long Term        7330.0   \n",
       "9b5e32b3-8d76-4801-afc8-d729d5a2e6b9  Short Term        7240.0   \n",
       "5419b7c7-ac11-4be2-a8a7-b131fb6d6dbe  Short Term        7400.0   \n",
       "1450910f-9495-4fc9-afaf-9bdf4b9821df   Long Term        6860.0   \n",
       "\n",
       "                                     Years in current job Home Ownership  \\\n",
       "Loan ID                                                                    \n",
       "6cf51492-02a2-423e-b93d-676f05b9ad53             < 1 year           Rent   \n",
       "552e7ade-4292-4354-9ff9-c48031697d72            10+ years  Home Mortgage   \n",
       "9b5e32b3-8d76-4801-afc8-d729d5a2e6b9              9 years  Home Mortgage   \n",
       "5419b7c7-ac11-4be2-a8a7-b131fb6d6dbe              3 years           Rent   \n",
       "1450910f-9495-4fc9-afaf-9bdf4b9821df            10+ years  Home Mortgage   \n",
       "\n",
       "                                      Annual Income             Purpose  \\\n",
       "Loan ID                                                                   \n",
       "6cf51492-02a2-423e-b93d-676f05b9ad53        46643.0  Debt Consolidation   \n",
       "552e7ade-4292-4354-9ff9-c48031697d72        81099.0  Debt Consolidation   \n",
       "9b5e32b3-8d76-4801-afc8-d729d5a2e6b9        60438.0   Home Improvements   \n",
       "5419b7c7-ac11-4be2-a8a7-b131fb6d6dbe        34171.0  Debt Consolidation   \n",
       "1450910f-9495-4fc9-afaf-9bdf4b9821df        47003.0   Home Improvements   \n",
       "\n",
       "                                      Monthly Debt  Years of Credit History  \\\n",
       "Loan ID                                                                       \n",
       "6cf51492-02a2-423e-b93d-676f05b9ad53        777.39                     18.0   \n",
       "552e7ade-4292-4354-9ff9-c48031697d72        892.09                     26.7   \n",
       "9b5e32b3-8d76-4801-afc8-d729d5a2e6b9       1244.02                     16.7   \n",
       "5419b7c7-ac11-4be2-a8a7-b131fb6d6dbe        990.94                     10.0   \n",
       "1450910f-9495-4fc9-afaf-9bdf4b9821df        503.71                     16.7   \n",
       "\n",
       "                                      Ever Delinquent  \\\n",
       "Loan ID                                                 \n",
       "6cf51492-02a2-423e-b93d-676f05b9ad53                1   \n",
       "552e7ade-4292-4354-9ff9-c48031697d72                0   \n",
       "9b5e32b3-8d76-4801-afc8-d729d5a2e6b9                1   \n",
       "5419b7c7-ac11-4be2-a8a7-b131fb6d6dbe                0   \n",
       "1450910f-9495-4fc9-afaf-9bdf4b9821df                1   \n",
       "\n",
       "                                      Number of Open Accounts  \\\n",
       "Loan ID                                                         \n",
       "6cf51492-02a2-423e-b93d-676f05b9ad53                       12   \n",
       "552e7ade-4292-4354-9ff9-c48031697d72                       14   \n",
       "9b5e32b3-8d76-4801-afc8-d729d5a2e6b9                       11   \n",
       "5419b7c7-ac11-4be2-a8a7-b131fb6d6dbe                       21   \n",
       "1450910f-9495-4fc9-afaf-9bdf4b9821df                       13   \n",
       "\n",
       "                                      Number of Credit Problems  \\\n",
       "Loan ID                                                           \n",
       "6cf51492-02a2-423e-b93d-676f05b9ad53                          0   \n",
       "552e7ade-4292-4354-9ff9-c48031697d72                          0   \n",
       "9b5e32b3-8d76-4801-afc8-d729d5a2e6b9                          1   \n",
       "5419b7c7-ac11-4be2-a8a7-b131fb6d6dbe                          0   \n",
       "1450910f-9495-4fc9-afaf-9bdf4b9821df                          1   \n",
       "\n",
       "                                      Current Credit Balance  \\\n",
       "Loan ID                                                        \n",
       "6cf51492-02a2-423e-b93d-676f05b9ad53                    6762   \n",
       "552e7ade-4292-4354-9ff9-c48031697d72                   35706   \n",
       "9b5e32b3-8d76-4801-afc8-d729d5a2e6b9                   11275   \n",
       "5419b7c7-ac11-4be2-a8a7-b131fb6d6dbe                    7009   \n",
       "1450910f-9495-4fc9-afaf-9bdf4b9821df                   16913   \n",
       "\n",
       "                                      Maximum Open Credit  Bankruptcies  \\\n",
       "Loan ID                                                                   \n",
       "6cf51492-02a2-423e-b93d-676f05b9ad53               7946.0           0.0   \n",
       "552e7ade-4292-4354-9ff9-c48031697d72              77961.0           0.0   \n",
       "9b5e32b3-8d76-4801-afc8-d729d5a2e6b9              14815.0           1.0   \n",
       "5419b7c7-ac11-4be2-a8a7-b131fb6d6dbe              43533.0           0.0   \n",
       "1450910f-9495-4fc9-afaf-9bdf4b9821df              19553.0           1.0   \n",
       "\n",
       "                                      Tax Liens  \n",
       "Loan ID                                          \n",
       "6cf51492-02a2-423e-b93d-676f05b9ad53        0.0  \n",
       "552e7ade-4292-4354-9ff9-c48031697d72        0.0  \n",
       "9b5e32b3-8d76-4801-afc8-d729d5a2e6b9        0.0  \n",
       "5419b7c7-ac11-4be2-a8a7-b131fb6d6dbe        0.0  \n",
       "1450910f-9495-4fc9-afaf-9bdf4b9821df        0.0  "
      ]
     },
     "execution_count": 179,
     "metadata": {},
     "output_type": "execute_result"
    }
   ],
   "source": [
    "df = delinquent_binary(df)\n",
    "df.head(5)"
   ]
  },
  {
   "cell_type": "code",
   "execution_count": 180,
   "metadata": {},
   "outputs": [],
   "source": [
    "delinquent_transformer = FunctionTransformer(delinquent_binary)"
   ]
  },
  {
   "cell_type": "markdown",
   "metadata": {},
   "source": [
    "# --- Step 4: Imputers ---\n",
    "1. Years in current job - impute null as constant value \"missing data\"\n",
    "2. Maximum Open Credit - impute with median"
   ]
  },
  {
   "cell_type": "markdown",
   "metadata": {},
   "source": [
    "### Step 4: Imputers - 1. Years in current job \n",
    "- impute null as constant value \"missing data\""
   ]
  },
  {
   "cell_type": "code",
   "execution_count": 181,
   "metadata": {},
   "outputs": [],
   "source": [
    "ConstantImputer = SimpleImputer(strategy='constant', fill_value=0)"
   ]
  },
  {
   "cell_type": "markdown",
   "metadata": {},
   "source": [
    "### Step 4: Imputers - 2. Maximum Open Credit\n",
    "- Impute with median"
   ]
  },
  {
   "cell_type": "code",
   "execution_count": 182,
   "metadata": {},
   "outputs": [],
   "source": [
    "MedianImputer = SimpleImputer(strategy='median')"
   ]
  },
  {
   "cell_type": "markdown",
   "metadata": {},
   "source": [
    "# --- Step 5: Feature Engineering ---\n",
    "1. Debt to Income Ratio (Monthly Debt / Annual Income)\n",
    "2. Credit Usage Ratio (Current Credit Balance / Maximum Open Credit)\n",
    "3. Have Bankruptcies (Binary Yes/No)(Bankruptcies = 0 vs all others)\n",
    "4. Have Tax Liens (Binary Yes/No)(Tax Liens = 0 vs all others)\n",
    "5. Have Credit Problems (Binary Yes/No)(Number of Credit Problems = 0 vs all others)"
   ]
  },
  {
   "cell_type": "markdown",
   "metadata": {},
   "source": [
    "### 1. Debt to Income Ratio (Monthly Debt / Annual Income)"
   ]
  },
  {
   "cell_type": "code",
   "execution_count": 183,
   "metadata": {},
   "outputs": [],
   "source": [
    "def add_debt_to_income(data):\n",
    "  data = data.copy()\n",
    "  data['Debt to Income Ratio'] = data['Monthly Debt'] / data['Annual Income']\n",
    "  return data"
   ]
  },
  {
   "cell_type": "code",
   "execution_count": 184,
   "metadata": {},
   "outputs": [],
   "source": [
    "debt_income_transformer = FunctionTransformer(add_debt_to_income)"
   ]
  },
  {
   "cell_type": "markdown",
   "metadata": {},
   "source": [
    "### 2. Credit Usage Ratio (Current Credit Balance / Maximum Open Credit)"
   ]
  },
  {
   "cell_type": "code",
   "execution_count": 185,
   "metadata": {},
   "outputs": [],
   "source": [
    "def add_credit_usage(data):\n",
    "  data = data.copy()\n",
    "  data['Credit Usage Ratio'] = data['Current Credit Balance'] / data['Maximum Open Credit'].replace(0, 1e-6)\n",
    "  return data  "
   ]
  },
  {
   "cell_type": "code",
   "execution_count": 186,
   "metadata": {},
   "outputs": [],
   "source": [
    "credit_usage_transformer = FunctionTransformer(add_credit_usage)"
   ]
  },
  {
   "cell_type": "markdown",
   "metadata": {},
   "source": [
    "### 3. Have Bankruptcies (Binary Yes/No)(Bankruptcies = 0 vs all others)"
   ]
  },
  {
   "cell_type": "code",
   "execution_count": 187,
   "metadata": {},
   "outputs": [],
   "source": [
    "def bankruptices_binary(data):\n",
    "  data = data.copy()\n",
    "  data['Bankruptcies'] = data['Bankruptcies'].ne(0).astype(int)\n",
    "  return data"
   ]
  },
  {
   "cell_type": "code",
   "execution_count": 188,
   "metadata": {},
   "outputs": [],
   "source": [
    "bankruptices_transformer = FunctionTransformer(bankruptices_binary)"
   ]
  },
  {
   "cell_type": "markdown",
   "metadata": {},
   "source": [
    "### 4. Have Tax Liens (Binary Yes/No)(Tax Liens = 0 vs all others)"
   ]
  },
  {
   "cell_type": "code",
   "execution_count": 189,
   "metadata": {},
   "outputs": [],
   "source": [
    "def tax_liens_binary(data):\n",
    "  data = data.copy()\n",
    "  data['Tax Liens'] = data['Tax Liens'].ne(0).astype(int)\n",
    "  return data"
   ]
  },
  {
   "cell_type": "code",
   "execution_count": 190,
   "metadata": {},
   "outputs": [],
   "source": [
    "tax_liens_transformer = FunctionTransformer(tax_liens_binary)"
   ]
  },
  {
   "cell_type": "markdown",
   "metadata": {},
   "source": [
    "### 5. Have Credit Problems (Binary Yes/No)(Tax Liens = 0 vs all others)"
   ]
  },
  {
   "cell_type": "code",
   "execution_count": 191,
   "metadata": {},
   "outputs": [],
   "source": [
    "def credit_problems_binary(data):\n",
    "  data = data.copy()\n",
    "  data['Number of Credit Problems'] = data['Number of Credit Problems'].ne(0).astype(int)\n",
    "  return data"
   ]
  },
  {
   "cell_type": "code",
   "execution_count": 192,
   "metadata": {},
   "outputs": [],
   "source": [
    "credit_problems_transformer = FunctionTransformer(credit_problems_binary)"
   ]
  },
  {
   "cell_type": "markdown",
   "metadata": {},
   "source": [
    "# --- 5. Encoding & Scaling: ---\n",
    "Categorical, nominal - OHE\n",
    "  1. Loan Status\n",
    "  2. Term\n",
    "  3. Home Ownership\n",
    "  4. Purpose\n",
    "\n",
    "Categorical, ordinal - Ordinal Encoder\n",
    "  1. Years in current job\n",
    "\n",
    "Numercial - StandardScaler:\n",
    "  1. Current Loan Amount\n",
    "  2. Credit Score\n",
    "  3. Years of Credit History\n",
    "\n",
    "Numerical - RobustScaler:\n",
    "  1. Annual Income\n",
    "  2. Monthly Debt\n",
    "  3. Number of Open Accounts\n",
    "  4. Current Credit Balance\n",
    "  5. Maximum Open Credit\n",
    "\n",
    "Feature is ready, no encoding or scaling:\n",
    "  1. Ever Delinquent\n",
    "  2. Bankruptcies\n",
    "  3. Tax Liens\n",
    "  4. Number of Credit Problems\n",
    "  5. Debt to Income Ratio\n",
    "  6. Credit Usage Ratio"
   ]
  },
  {
   "cell_type": "code",
   "execution_count": 193,
   "metadata": {},
   "outputs": [],
   "source": [
    "categorical_nominal = ['Loan Status', 'Term', 'Home Ownership', 'Purpose']\n",
    "categorical_ordinal = ['Years in current job']\n",
    "numeric_standard = ['Current Loan Amount', 'Credit Score', 'Years of Credit History']\n",
    "numeric_robust = ['Annual Income', 'Monthly Debt', 'Number of Open Accounts', 'Current Credit Balance', 'Maximum Open Credit']\n",
    "ready_features = ['Ever Delinquent', 'Bankruptcies', 'Tax Liens', 'Number of Credit Problems', 'Debt to Income Ratio', 'Credit Usage Ratio']\n",
    "\n",
    "\n",
    "preprocessor = ColumnTransformer(transformers=[\n",
    "  ('ohe', OneHotEncoder(sparse_output=False, handle_unknown='ignore'), categorical_nominal),\n",
    "  ('ordinal', ce.OrdinalEncoder(mapping = [\n",
    "    {'col': 'Years in current job', 'mapping': {\n",
    "      np.nan: 0, '< 1 year': 1, '1 year': 2, '2 years': 3, '3 years': 4, '4 years': 5, \n",
    "      '5 years': 6, '6 years': 7, '7 years': 8, '8 years': 9, '9 years': 10, '10+ years': 11\n",
    "    }}\n",
    "  ]), categorical_ordinal),\n",
    "  ('standardscaler', StandardScaler(), numeric_standard),\n",
    "  ('robustscaler', RobustScaler(), numeric_robust),\n",
    "  ('passthrough', 'passthrough', ready_features)\n",
    "], remainder='drop')\n",
    "\n"
   ]
  },
  {
   "cell_type": "code",
   "execution_count": null,
   "metadata": {},
   "outputs": [],
   "source": [
    "pipeline = Pipeline([\n",
    "  ('')\n",
    "])"
   ]
  },
  {
   "cell_type": "markdown",
   "metadata": {},
   "source": []
  },
  {
   "cell_type": "code",
   "execution_count": 194,
   "metadata": {},
   "outputs": [
    {
     "ename": "ValueError",
     "evalue": "A given column is not a column of the dataframe",
     "output_type": "error",
     "traceback": [
      "\u001b[0;31m---------------------------------------------------------------------------\u001b[0m",
      "\u001b[0;31mKeyError\u001b[0m                                  Traceback (most recent call last)",
      "File \u001b[0;32m~/Documents/GitHub/learning-fuze/live_class_W1D2_0125/.conda/lib/python3.12/site-packages/pandas/core/indexes/base.py:3805\u001b[0m, in \u001b[0;36mIndex.get_loc\u001b[0;34m(self, key)\u001b[0m\n\u001b[1;32m   3804\u001b[0m \u001b[38;5;28;01mtry\u001b[39;00m:\n\u001b[0;32m-> 3805\u001b[0m     \u001b[38;5;28;01mreturn\u001b[39;00m \u001b[38;5;28;43mself\u001b[39;49m\u001b[38;5;241;43m.\u001b[39;49m\u001b[43m_engine\u001b[49m\u001b[38;5;241;43m.\u001b[39;49m\u001b[43mget_loc\u001b[49m\u001b[43m(\u001b[49m\u001b[43mcasted_key\u001b[49m\u001b[43m)\u001b[49m\n\u001b[1;32m   3806\u001b[0m \u001b[38;5;28;01mexcept\u001b[39;00m \u001b[38;5;167;01mKeyError\u001b[39;00m \u001b[38;5;28;01mas\u001b[39;00m err:\n",
      "File \u001b[0;32mindex.pyx:167\u001b[0m, in \u001b[0;36mpandas._libs.index.IndexEngine.get_loc\u001b[0;34m()\u001b[0m\n",
      "File \u001b[0;32mindex.pyx:196\u001b[0m, in \u001b[0;36mpandas._libs.index.IndexEngine.get_loc\u001b[0;34m()\u001b[0m\n",
      "File \u001b[0;32mpandas/_libs/hashtable_class_helper.pxi:7081\u001b[0m, in \u001b[0;36mpandas._libs.hashtable.PyObjectHashTable.get_item\u001b[0;34m()\u001b[0m\n",
      "File \u001b[0;32mpandas/_libs/hashtable_class_helper.pxi:7089\u001b[0m, in \u001b[0;36mpandas._libs.hashtable.PyObjectHashTable.get_item\u001b[0;34m()\u001b[0m\n",
      "\u001b[0;31mKeyError\u001b[0m: 'Loan Status'",
      "\nThe above exception was the direct cause of the following exception:\n",
      "\u001b[0;31mKeyError\u001b[0m                                  Traceback (most recent call last)",
      "File \u001b[0;32m~/Documents/GitHub/learning-fuze/live_class_W1D2_0125/.conda/lib/python3.12/site-packages/sklearn/utils/_indexing.py:364\u001b[0m, in \u001b[0;36m_get_column_indices\u001b[0;34m(X, key)\u001b[0m\n\u001b[1;32m    363\u001b[0m \u001b[38;5;28;01mfor\u001b[39;00m col \u001b[38;5;129;01min\u001b[39;00m columns:\n\u001b[0;32m--> 364\u001b[0m     col_idx \u001b[38;5;241m=\u001b[39m \u001b[43mall_columns\u001b[49m\u001b[38;5;241;43m.\u001b[39;49m\u001b[43mget_loc\u001b[49m\u001b[43m(\u001b[49m\u001b[43mcol\u001b[49m\u001b[43m)\u001b[49m\n\u001b[1;32m    365\u001b[0m     \u001b[38;5;28;01mif\u001b[39;00m \u001b[38;5;129;01mnot\u001b[39;00m \u001b[38;5;28misinstance\u001b[39m(col_idx, numbers\u001b[38;5;241m.\u001b[39mIntegral):\n",
      "File \u001b[0;32m~/Documents/GitHub/learning-fuze/live_class_W1D2_0125/.conda/lib/python3.12/site-packages/pandas/core/indexes/base.py:3812\u001b[0m, in \u001b[0;36mIndex.get_loc\u001b[0;34m(self, key)\u001b[0m\n\u001b[1;32m   3811\u001b[0m         \u001b[38;5;28;01mraise\u001b[39;00m InvalidIndexError(key)\n\u001b[0;32m-> 3812\u001b[0m     \u001b[38;5;28;01mraise\u001b[39;00m \u001b[38;5;167;01mKeyError\u001b[39;00m(key) \u001b[38;5;28;01mfrom\u001b[39;00m\u001b[38;5;250m \u001b[39m\u001b[38;5;21;01merr\u001b[39;00m\n\u001b[1;32m   3813\u001b[0m \u001b[38;5;28;01mexcept\u001b[39;00m \u001b[38;5;167;01mTypeError\u001b[39;00m:\n\u001b[1;32m   3814\u001b[0m     \u001b[38;5;66;03m# If we have a listlike key, _check_indexing_error will raise\u001b[39;00m\n\u001b[1;32m   3815\u001b[0m     \u001b[38;5;66;03m#  InvalidIndexError. Otherwise we fall through and re-raise\u001b[39;00m\n\u001b[1;32m   3816\u001b[0m     \u001b[38;5;66;03m#  the TypeError.\u001b[39;00m\n",
      "\u001b[0;31mKeyError\u001b[0m: 'Loan Status'",
      "\nThe above exception was the direct cause of the following exception:\n",
      "\u001b[0;31mValueError\u001b[0m                                Traceback (most recent call last)",
      "Cell \u001b[0;32mIn[194], line 1\u001b[0m\n\u001b[0;32m----> 1\u001b[0m \u001b[43mpreprocessor\u001b[49m\u001b[38;5;241;43m.\u001b[39;49m\u001b[43mfit\u001b[49m\u001b[43m(\u001b[49m\u001b[43mX_train\u001b[49m\u001b[43m)\u001b[49m\n\u001b[1;32m      2\u001b[0m X_train_proc \u001b[38;5;241m=\u001b[39m preprocessor\u001b[38;5;241m.\u001b[39mtransform(X_train)\n\u001b[1;32m      3\u001b[0m X_test_proc \u001b[38;5;241m=\u001b[39m preprocessor\u001b[38;5;241m.\u001b[39mtransform(X_test)\n",
      "File \u001b[0;32m~/Documents/GitHub/learning-fuze/live_class_W1D2_0125/.conda/lib/python3.12/site-packages/sklearn/compose/_column_transformer.py:947\u001b[0m, in \u001b[0;36mColumnTransformer.fit\u001b[0;34m(self, X, y, **params)\u001b[0m\n\u001b[1;32m    944\u001b[0m _raise_for_params(params, \u001b[38;5;28mself\u001b[39m, \u001b[38;5;124m\"\u001b[39m\u001b[38;5;124mfit\u001b[39m\u001b[38;5;124m\"\u001b[39m)\n\u001b[1;32m    945\u001b[0m \u001b[38;5;66;03m# we use fit_transform to make sure to set sparse_output_ (for which we\u001b[39;00m\n\u001b[1;32m    946\u001b[0m \u001b[38;5;66;03m# need the transformed data) to have consistent output type in predict\u001b[39;00m\n\u001b[0;32m--> 947\u001b[0m \u001b[38;5;28;43mself\u001b[39;49m\u001b[38;5;241;43m.\u001b[39;49m\u001b[43mfit_transform\u001b[49m\u001b[43m(\u001b[49m\u001b[43mX\u001b[49m\u001b[43m,\u001b[49m\u001b[43m \u001b[49m\u001b[43my\u001b[49m\u001b[38;5;241;43m=\u001b[39;49m\u001b[43my\u001b[49m\u001b[43m,\u001b[49m\u001b[43m \u001b[49m\u001b[38;5;241;43m*\u001b[39;49m\u001b[38;5;241;43m*\u001b[39;49m\u001b[43mparams\u001b[49m\u001b[43m)\u001b[49m\n\u001b[1;32m    948\u001b[0m \u001b[38;5;28;01mreturn\u001b[39;00m \u001b[38;5;28mself\u001b[39m\n",
      "File \u001b[0;32m~/Documents/GitHub/learning-fuze/live_class_W1D2_0125/.conda/lib/python3.12/site-packages/sklearn/utils/_set_output.py:319\u001b[0m, in \u001b[0;36m_wrap_method_output.<locals>.wrapped\u001b[0;34m(self, X, *args, **kwargs)\u001b[0m\n\u001b[1;32m    317\u001b[0m \u001b[38;5;129m@wraps\u001b[39m(f)\n\u001b[1;32m    318\u001b[0m \u001b[38;5;28;01mdef\u001b[39;00m\u001b[38;5;250m \u001b[39m\u001b[38;5;21mwrapped\u001b[39m(\u001b[38;5;28mself\u001b[39m, X, \u001b[38;5;241m*\u001b[39margs, \u001b[38;5;241m*\u001b[39m\u001b[38;5;241m*\u001b[39mkwargs):\n\u001b[0;32m--> 319\u001b[0m     data_to_wrap \u001b[38;5;241m=\u001b[39m \u001b[43mf\u001b[49m\u001b[43m(\u001b[49m\u001b[38;5;28;43mself\u001b[39;49m\u001b[43m,\u001b[49m\u001b[43m \u001b[49m\u001b[43mX\u001b[49m\u001b[43m,\u001b[49m\u001b[43m \u001b[49m\u001b[38;5;241;43m*\u001b[39;49m\u001b[43margs\u001b[49m\u001b[43m,\u001b[49m\u001b[43m \u001b[49m\u001b[38;5;241;43m*\u001b[39;49m\u001b[38;5;241;43m*\u001b[39;49m\u001b[43mkwargs\u001b[49m\u001b[43m)\u001b[49m\n\u001b[1;32m    320\u001b[0m     \u001b[38;5;28;01mif\u001b[39;00m \u001b[38;5;28misinstance\u001b[39m(data_to_wrap, \u001b[38;5;28mtuple\u001b[39m):\n\u001b[1;32m    321\u001b[0m         \u001b[38;5;66;03m# only wrap the first output for cross decomposition\u001b[39;00m\n\u001b[1;32m    322\u001b[0m         return_tuple \u001b[38;5;241m=\u001b[39m (\n\u001b[1;32m    323\u001b[0m             _wrap_data_with_container(method, data_to_wrap[\u001b[38;5;241m0\u001b[39m], X, \u001b[38;5;28mself\u001b[39m),\n\u001b[1;32m    324\u001b[0m             \u001b[38;5;241m*\u001b[39mdata_to_wrap[\u001b[38;5;241m1\u001b[39m:],\n\u001b[1;32m    325\u001b[0m         )\n",
      "File \u001b[0;32m~/Documents/GitHub/learning-fuze/live_class_W1D2_0125/.conda/lib/python3.12/site-packages/sklearn/base.py:1389\u001b[0m, in \u001b[0;36m_fit_context.<locals>.decorator.<locals>.wrapper\u001b[0;34m(estimator, *args, **kwargs)\u001b[0m\n\u001b[1;32m   1382\u001b[0m     estimator\u001b[38;5;241m.\u001b[39m_validate_params()\n\u001b[1;32m   1384\u001b[0m \u001b[38;5;28;01mwith\u001b[39;00m config_context(\n\u001b[1;32m   1385\u001b[0m     skip_parameter_validation\u001b[38;5;241m=\u001b[39m(\n\u001b[1;32m   1386\u001b[0m         prefer_skip_nested_validation \u001b[38;5;129;01mor\u001b[39;00m global_skip_validation\n\u001b[1;32m   1387\u001b[0m     )\n\u001b[1;32m   1388\u001b[0m ):\n\u001b[0;32m-> 1389\u001b[0m     \u001b[38;5;28;01mreturn\u001b[39;00m \u001b[43mfit_method\u001b[49m\u001b[43m(\u001b[49m\u001b[43mestimator\u001b[49m\u001b[43m,\u001b[49m\u001b[43m \u001b[49m\u001b[38;5;241;43m*\u001b[39;49m\u001b[43margs\u001b[49m\u001b[43m,\u001b[49m\u001b[43m \u001b[49m\u001b[38;5;241;43m*\u001b[39;49m\u001b[38;5;241;43m*\u001b[39;49m\u001b[43mkwargs\u001b[49m\u001b[43m)\u001b[49m\n",
      "File \u001b[0;32m~/Documents/GitHub/learning-fuze/live_class_W1D2_0125/.conda/lib/python3.12/site-packages/sklearn/compose/_column_transformer.py:993\u001b[0m, in \u001b[0;36mColumnTransformer.fit_transform\u001b[0;34m(self, X, y, **params)\u001b[0m\n\u001b[1;32m    990\u001b[0m \u001b[38;5;28mself\u001b[39m\u001b[38;5;241m.\u001b[39m_validate_transformers()\n\u001b[1;32m    991\u001b[0m n_samples \u001b[38;5;241m=\u001b[39m _num_samples(X)\n\u001b[0;32m--> 993\u001b[0m \u001b[38;5;28;43mself\u001b[39;49m\u001b[38;5;241;43m.\u001b[39;49m\u001b[43m_validate_column_callables\u001b[49m\u001b[43m(\u001b[49m\u001b[43mX\u001b[49m\u001b[43m)\u001b[49m\n\u001b[1;32m    994\u001b[0m \u001b[38;5;28mself\u001b[39m\u001b[38;5;241m.\u001b[39m_validate_remainder(X)\n\u001b[1;32m    996\u001b[0m \u001b[38;5;28;01mif\u001b[39;00m _routing_enabled():\n",
      "File \u001b[0;32m~/Documents/GitHub/learning-fuze/live_class_W1D2_0125/.conda/lib/python3.12/site-packages/sklearn/compose/_column_transformer.py:552\u001b[0m, in \u001b[0;36mColumnTransformer._validate_column_callables\u001b[0;34m(self, X)\u001b[0m\n\u001b[1;32m    550\u001b[0m         columns \u001b[38;5;241m=\u001b[39m columns(X)\n\u001b[1;32m    551\u001b[0m     all_columns\u001b[38;5;241m.\u001b[39mappend(columns)\n\u001b[0;32m--> 552\u001b[0m     transformer_to_input_indices[name] \u001b[38;5;241m=\u001b[39m \u001b[43m_get_column_indices\u001b[49m\u001b[43m(\u001b[49m\u001b[43mX\u001b[49m\u001b[43m,\u001b[49m\u001b[43m \u001b[49m\u001b[43mcolumns\u001b[49m\u001b[43m)\u001b[49m\n\u001b[1;32m    554\u001b[0m \u001b[38;5;28mself\u001b[39m\u001b[38;5;241m.\u001b[39m_columns \u001b[38;5;241m=\u001b[39m all_columns\n\u001b[1;32m    555\u001b[0m \u001b[38;5;28mself\u001b[39m\u001b[38;5;241m.\u001b[39m_transformer_to_input_indices \u001b[38;5;241m=\u001b[39m transformer_to_input_indices\n",
      "File \u001b[0;32m~/Documents/GitHub/learning-fuze/live_class_W1D2_0125/.conda/lib/python3.12/site-packages/sklearn/utils/_indexing.py:372\u001b[0m, in \u001b[0;36m_get_column_indices\u001b[0;34m(X, key)\u001b[0m\n\u001b[1;32m    369\u001b[0m         column_indices\u001b[38;5;241m.\u001b[39mappend(col_idx)\n\u001b[1;32m    371\u001b[0m \u001b[38;5;28;01mexcept\u001b[39;00m \u001b[38;5;167;01mKeyError\u001b[39;00m \u001b[38;5;28;01mas\u001b[39;00m e:\n\u001b[0;32m--> 372\u001b[0m     \u001b[38;5;28;01mraise\u001b[39;00m \u001b[38;5;167;01mValueError\u001b[39;00m(\u001b[38;5;124m\"\u001b[39m\u001b[38;5;124mA given column is not a column of the dataframe\u001b[39m\u001b[38;5;124m\"\u001b[39m) \u001b[38;5;28;01mfrom\u001b[39;00m\u001b[38;5;250m \u001b[39m\u001b[38;5;21;01me\u001b[39;00m\n\u001b[1;32m    374\u001b[0m \u001b[38;5;28;01mreturn\u001b[39;00m column_indices\n",
      "\u001b[0;31mValueError\u001b[0m: A given column is not a column of the dataframe"
     ]
    }
   ],
   "source": [
    "preprocessor.fit(X_train)\n",
    "X_train_proc = preprocessor.transform(X_train)\n",
    "X_test_proc = preprocessor.transform(X_test)"
   ]
  },
  {
   "cell_type": "code",
   "execution_count": 195,
   "metadata": {},
   "outputs": [
    {
     "data": {
      "text/plain": [
       "Index(['Customer ID', 'Loan Status', 'Current Loan Amount', 'Term',\n",
       "       'Credit Score', 'Years in current job', 'Home Ownership',\n",
       "       'Annual Income', 'Purpose', 'Monthly Debt', 'Years of Credit History',\n",
       "       'Ever Delinquent', 'Number of Open Accounts',\n",
       "       'Number of Credit Problems', 'Current Credit Balance',\n",
       "       'Maximum Open Credit', 'Bankruptcies', 'Tax Liens'],\n",
       "      dtype='object')"
      ]
     },
     "execution_count": 195,
     "metadata": {},
     "output_type": "execute_result"
    }
   ],
   "source": [
    "df.columns"
   ]
  },
  {
   "cell_type": "code",
   "execution_count": null,
   "metadata": {},
   "outputs": [],
   "source": []
  }
 ],
 "metadata": {
  "kernelspec": {
   "display_name": "Python 3",
   "language": "python",
   "name": "python3"
  },
  "language_info": {
   "codemirror_mode": {
    "name": "ipython",
    "version": 3
   },
   "file_extension": ".py",
   "mimetype": "text/x-python",
   "name": "python",
   "nbconvert_exporter": "python",
   "pygments_lexer": "ipython3",
   "version": "3.12.8"
  }
 },
 "nbformat": 4,
 "nbformat_minor": 2
}

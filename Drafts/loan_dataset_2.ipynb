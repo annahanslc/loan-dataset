{
 "cells": [
  {
   "cell_type": "markdown",
   "metadata": {},
   "source": [
    "# Pipeline\n",
    "\n",
    "### Function Transformers to use before split:\n",
    "1. Remove Duplicates\n",
    "2. Drop null values\n",
    "  - Credit Score\n",
    "  - Annual Income\n",
    "  - Bankruptcies\n",
    "  - Tax Liens\n",
    "3. Monthly Debt - remove $ from strings, transform strings into floats. \n",
    "4. Maximum Open Credit - drop rows that not satisfy .str.contains(r'[^0-9.]', na=False). Change to float.\n",
    "  another way to do it: change it to string first (change all to string)\n",
    "5. Home Ownership - correct \"HaveMortgage\" to \"Home Mortgage\".\n",
    "6. Current Loan Amount - drop all rows where amount equals 99999999 \n",
    "3. Drop useless columns\n",
    "    - Loan ID, drop Customer ID. Use remainder=drop, to only keep what we want, avoid extra new columns.\n",
    "    - this is a setting on the column transformer\n",
    "\n",
    "\n",
    "### Split:\n",
    "1. Loan Status = target column\n",
    "2. split twice, separate validation from test\n",
    "\n",
    "\n",
    "### Function Transformers:\n",
    "\n",
    "1. Credit Score - For all values above 800, remove last 0. \n",
    "2. Months since last delinquent - change to binary, null as \"0\", non-null as \"1\"\n",
    "\n",
    "\n",
    "### SimpleImputer:\n",
    "1. Years in current job - impute null as \"missing data\"\n",
    "2. Maximum Open Credit - impute with median\n",
    "\n",
    "\n",
    "### Feature Engineering:\n",
    "1. Debt to Income Ratio (Monthly Debt / Annual Income)\n",
    "2. Credit Usage Ratio (Current Credit Balance / Maximum Open Credit)\n",
    "3. Have Bankruptcies (Binary Yes/No)(Bankruptcies = 0 vs all others)\n",
    "4. Have Tax Liens (Binary Yes/No)(Tax Liens = 0 vs all others)\n",
    "\n",
    "\n",
    "### Encoding & Scaling:\n",
    "1. Loan Status - OHE, drop binary\n",
    "3. Term - OHE\n",
    "6. Home Ownership - OHE\n",
    "8. Purpose - OHE\n",
    "\n",
    "5. Years in current job - Ordinal Encoder\n",
    "\n",
    "2. Current Loan Amount - StandardScaler. \n",
    "4. Credit Score - StandardScaler.\n",
    "10. Years of Credit History - StandardScaler.\n",
    "FE.1. Debt to Income Ratio - StandardScaler.\n",
    "FE.2. Credit Usage Ratio - StandardScaler.\n",
    "\n",
    "7. Annual Income - RobustScaler.\n",
    "9. Monthly Debt - RobustScaler.\n",
    "12. Number of Open Accounts - RobustScalers\n",
    "13. Number of Credit Problems - RobustScaler.\n",
    "14. Current Credit Balance - RobustScaler.\n",
    "15. Maximum Open Credit - RobustScaler. \n",
    "\n",
    "\n",
    "Ready:\n",
    "11. Ever delinquent\n",
    "FE.4. Have Bankruptcies \n",
    "FE.5. Have Tax Liens\n",
    "\n",
    "\n",
    "\n",
    "\n"
   ]
  },
  {
   "cell_type": "markdown",
   "metadata": {},
   "source": [
    "*Create a new categorical ordinal column where the categories are: {‘0-12’: 1, ‘13-24’: 2, ‘25-36’: 3, ‘37-48’: 4, ‘49-60’: 5, ‘61-72’: 6, ‘73-84’: 7, ‘85-96’: 8, '97-108': 9, '109-120\": 10, '120+': 11, 'missing': 12}. Impute null values as 'missing'. "
   ]
  },
  {
   "cell_type": "markdown",
   "metadata": {},
   "source": [
    "#NOTES (double click)\n",
    "<!-- Encoding & Scaling:\n",
    "2. Loan Status - target column. Encoding: OHE\n",
    "3. Current Loan Amount - drop all rows where amount equals 99999999. StandardScaler. \n",
    "4. Term - Encoding: OHE\n",
    "5. Credit Score - drop nulls. for all values above 850, remove last 0. StandardScaler.\n",
    "6. Years in current job - impute null as \"missing data\": 0. Encoding: Ordinal Encoder\n",
    "7. Home Ownership - correct \"HaveMortgage\" to \"Home Mortgage\", Encoding: OHE\n",
    "8. Annual Income - Drop nulls. RobustScaler.\n",
    "9. Purpose - OHE\n",
    "10. Monthly Debt - remove $ from strings, transform strings into floats. RobustScaler.\n",
    "11. Years of Credit History - StandardScaler.\n",
    "12. Months since last delinquent - change numbers to bucket strings\n",
    "Create a new categorical ordinal column where the categories are: \n",
    "{‘0-12’: 1, ‘13-24’: 2, ‘25-36’: 3, ‘37-48’: 4, ‘49-60’: 5, ‘61-72’: 6, ‘73-84’: 7, ‘85-96’: 8, '97-108': 9, '109-120\": 10, '120+': 11, 'missing': 12}. Impute null values as 'missing'. Ordinal Encoder. \n",
    "13. Number of Open Accounts - RobustScaler.\n",
    "14. Number of Credit Problems - RobustScaler.\n",
    "15. Current Credit Balance - RobustScaler.\n",
    "16. Maximum Open Credit - drop rows that not satisfy .str.contains(r'[^0-9.]', na=False). Change to float.\n",
    "17. Bankrupticies - drop null values. \n",
    "18. Tax Liens - drop null values.  -->\n"
   ]
  },
  {
   "cell_type": "markdown",
   "metadata": {},
   "source": [
    "Pre-split pipeline:\n",
    "\n"
   ]
  },
  {
   "cell_type": "code",
   "execution_count": null,
   "metadata": {
    "vscode": {
     "languageId": "plaintext"
    }
   },
   "outputs": [],
   "source": []
  },
  {
   "cell_type": "markdown",
   "metadata": {},
   "source": []
  }
 ],
 "metadata": {
  "language_info": {
   "name": "python"
  }
 },
 "nbformat": 4,
 "nbformat_minor": 2
}

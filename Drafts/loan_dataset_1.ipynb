{
 "cells": [
  {
   "cell_type": "markdown",
   "metadata": {},
   "source": [
    "# Loans Dataset"
   ]
  },
  {
   "cell_type": "code",
   "execution_count": 2,
   "metadata": {},
   "outputs": [],
   "source": [
    "import pandas as pd\n",
    "import numpy as np\n",
    "import seaborn as sns\n",
    "import matplotlib.pyplot as plt"
   ]
  },
  {
   "cell_type": "code",
   "execution_count": 3,
   "metadata": {},
   "outputs": [
    {
     "name": "stderr",
     "output_type": "stream",
     "text": [
      "/var/folders/bh/crnltg950_n8l07mfm97qdtc0000gn/T/ipykernel_30656/2955071538.py:1: DtypeWarning: Columns (10,16) have mixed types. Specify dtype option on import or set low_memory=False.\n",
      "  df = pd.read_csv('LoansDataset.csv')\n"
     ]
    },
    {
     "data": {
      "text/html": [
       "<div>\n",
       "<style scoped>\n",
       "    .dataframe tbody tr th:only-of-type {\n",
       "        vertical-align: middle;\n",
       "    }\n",
       "\n",
       "    .dataframe tbody tr th {\n",
       "        vertical-align: top;\n",
       "    }\n",
       "\n",
       "    .dataframe thead th {\n",
       "        text-align: right;\n",
       "    }\n",
       "</style>\n",
       "<table border=\"1\" class=\"dataframe\">\n",
       "  <thead>\n",
       "    <tr style=\"text-align: right;\">\n",
       "      <th></th>\n",
       "      <th>Loan ID</th>\n",
       "      <th>Customer ID</th>\n",
       "      <th>Loan Status</th>\n",
       "      <th>Current Loan Amount</th>\n",
       "      <th>Term</th>\n",
       "      <th>Credit Score</th>\n",
       "      <th>Years in current job</th>\n",
       "      <th>Home Ownership</th>\n",
       "      <th>Annual Income</th>\n",
       "      <th>Purpose</th>\n",
       "      <th>Monthly Debt</th>\n",
       "      <th>Years of Credit History</th>\n",
       "      <th>Months since last delinquent</th>\n",
       "      <th>Number of Open Accounts</th>\n",
       "      <th>Number of Credit Problems</th>\n",
       "      <th>Current Credit Balance</th>\n",
       "      <th>Maximum Open Credit</th>\n",
       "      <th>Bankruptcies</th>\n",
       "      <th>Tax Liens</th>\n",
       "    </tr>\n",
       "  </thead>\n",
       "  <tbody>\n",
       "    <tr>\n",
       "      <th>0</th>\n",
       "      <td>6cf51492-02a2-423e-b93d-676f05b9ad53</td>\n",
       "      <td>7c202b37-2add-44e8-9aea-d5b119aea935</td>\n",
       "      <td>Charged Off</td>\n",
       "      <td>12232</td>\n",
       "      <td>Short Term</td>\n",
       "      <td>7280.0</td>\n",
       "      <td>&lt; 1 year</td>\n",
       "      <td>Rent</td>\n",
       "      <td>46643.0</td>\n",
       "      <td>Debt Consolidation</td>\n",
       "      <td>777.39</td>\n",
       "      <td>18.0</td>\n",
       "      <td>10.0</td>\n",
       "      <td>12</td>\n",
       "      <td>0</td>\n",
       "      <td>6762</td>\n",
       "      <td>7946</td>\n",
       "      <td>0.0</td>\n",
       "      <td>0.0</td>\n",
       "    </tr>\n",
       "    <tr>\n",
       "      <th>1</th>\n",
       "      <td>552e7ade-4292-4354-9ff9-c48031697d72</td>\n",
       "      <td>e7217b0a-07ac-47dd-b379-577b5a35b7c6</td>\n",
       "      <td>Charged Off</td>\n",
       "      <td>25014</td>\n",
       "      <td>Long Term</td>\n",
       "      <td>7330.0</td>\n",
       "      <td>10+ years</td>\n",
       "      <td>Home Mortgage</td>\n",
       "      <td>81099.0</td>\n",
       "      <td>Debt Consolidation</td>\n",
       "      <td>892.09</td>\n",
       "      <td>26.7</td>\n",
       "      <td>NaN</td>\n",
       "      <td>14</td>\n",
       "      <td>0</td>\n",
       "      <td>35706</td>\n",
       "      <td>77961</td>\n",
       "      <td>0.0</td>\n",
       "      <td>0.0</td>\n",
       "    </tr>\n",
       "    <tr>\n",
       "      <th>2</th>\n",
       "      <td>9b5e32b3-8d76-4801-afc8-d729d5a2e6b9</td>\n",
       "      <td>0a62fc41-16c8-40b5-92ff-9e4b763ce714</td>\n",
       "      <td>Charged Off</td>\n",
       "      <td>16117</td>\n",
       "      <td>Short Term</td>\n",
       "      <td>7240.0</td>\n",
       "      <td>9 years</td>\n",
       "      <td>Home Mortgage</td>\n",
       "      <td>60438.0</td>\n",
       "      <td>Home Improvements</td>\n",
       "      <td>1244.02</td>\n",
       "      <td>16.7</td>\n",
       "      <td>32.0</td>\n",
       "      <td>11</td>\n",
       "      <td>1</td>\n",
       "      <td>11275</td>\n",
       "      <td>14815</td>\n",
       "      <td>1.0</td>\n",
       "      <td>0.0</td>\n",
       "    </tr>\n",
       "    <tr>\n",
       "      <th>3</th>\n",
       "      <td>5419b7c7-ac11-4be2-a8a7-b131fb6d6dbe</td>\n",
       "      <td>30f36c59-5182-4482-8bbb-5b736849ae43</td>\n",
       "      <td>Charged Off</td>\n",
       "      <td>11716</td>\n",
       "      <td>Short Term</td>\n",
       "      <td>7400.0</td>\n",
       "      <td>3 years</td>\n",
       "      <td>Rent</td>\n",
       "      <td>34171.0</td>\n",
       "      <td>Debt Consolidation</td>\n",
       "      <td>990.94</td>\n",
       "      <td>10.0</td>\n",
       "      <td>NaN</td>\n",
       "      <td>21</td>\n",
       "      <td>0</td>\n",
       "      <td>7009</td>\n",
       "      <td>43533</td>\n",
       "      <td>0.0</td>\n",
       "      <td>0.0</td>\n",
       "    </tr>\n",
       "    <tr>\n",
       "      <th>4</th>\n",
       "      <td>1450910f-9495-4fc9-afaf-9bdf4b9821df</td>\n",
       "      <td>70c26012-bba5-42c0-8dcb-75295ada31bb</td>\n",
       "      <td>Charged Off</td>\n",
       "      <td>9789</td>\n",
       "      <td>Long Term</td>\n",
       "      <td>6860.0</td>\n",
       "      <td>10+ years</td>\n",
       "      <td>Home Mortgage</td>\n",
       "      <td>47003.0</td>\n",
       "      <td>Home Improvements</td>\n",
       "      <td>503.71</td>\n",
       "      <td>16.7</td>\n",
       "      <td>25.0</td>\n",
       "      <td>13</td>\n",
       "      <td>1</td>\n",
       "      <td>16913</td>\n",
       "      <td>19553</td>\n",
       "      <td>1.0</td>\n",
       "      <td>0.0</td>\n",
       "    </tr>\n",
       "  </tbody>\n",
       "</table>\n",
       "</div>"
      ],
      "text/plain": [
       "                                Loan ID                           Customer ID  \\\n",
       "0  6cf51492-02a2-423e-b93d-676f05b9ad53  7c202b37-2add-44e8-9aea-d5b119aea935   \n",
       "1  552e7ade-4292-4354-9ff9-c48031697d72  e7217b0a-07ac-47dd-b379-577b5a35b7c6   \n",
       "2  9b5e32b3-8d76-4801-afc8-d729d5a2e6b9  0a62fc41-16c8-40b5-92ff-9e4b763ce714   \n",
       "3  5419b7c7-ac11-4be2-a8a7-b131fb6d6dbe  30f36c59-5182-4482-8bbb-5b736849ae43   \n",
       "4  1450910f-9495-4fc9-afaf-9bdf4b9821df  70c26012-bba5-42c0-8dcb-75295ada31bb   \n",
       "\n",
       "   Loan Status  Current Loan Amount        Term  Credit Score  \\\n",
       "0  Charged Off                12232  Short Term        7280.0   \n",
       "1  Charged Off                25014   Long Term        7330.0   \n",
       "2  Charged Off                16117  Short Term        7240.0   \n",
       "3  Charged Off                11716  Short Term        7400.0   \n",
       "4  Charged Off                 9789   Long Term        6860.0   \n",
       "\n",
       "  Years in current job Home Ownership  Annual Income             Purpose  \\\n",
       "0             < 1 year           Rent        46643.0  Debt Consolidation   \n",
       "1            10+ years  Home Mortgage        81099.0  Debt Consolidation   \n",
       "2              9 years  Home Mortgage        60438.0   Home Improvements   \n",
       "3              3 years           Rent        34171.0  Debt Consolidation   \n",
       "4            10+ years  Home Mortgage        47003.0   Home Improvements   \n",
       "\n",
       "  Monthly Debt  Years of Credit History  Months since last delinquent  \\\n",
       "0       777.39                     18.0                          10.0   \n",
       "1       892.09                     26.7                           NaN   \n",
       "2      1244.02                     16.7                          32.0   \n",
       "3       990.94                     10.0                           NaN   \n",
       "4       503.71                     16.7                          25.0   \n",
       "\n",
       "   Number of Open Accounts  Number of Credit Problems  Current Credit Balance  \\\n",
       "0                       12                          0                    6762   \n",
       "1                       14                          0                   35706   \n",
       "2                       11                          1                   11275   \n",
       "3                       21                          0                    7009   \n",
       "4                       13                          1                   16913   \n",
       "\n",
       "  Maximum Open Credit  Bankruptcies  Tax Liens  \n",
       "0                7946           0.0        0.0  \n",
       "1               77961           0.0        0.0  \n",
       "2               14815           1.0        0.0  \n",
       "3               43533           0.0        0.0  \n",
       "4               19553           1.0        0.0  "
      ]
     },
     "execution_count": 3,
     "metadata": {},
     "output_type": "execute_result"
    }
   ],
   "source": [
    "df = pd.read_csv('LoansDataset.csv')\n",
    "df.head()"
   ]
  },
  {
   "cell_type": "code",
   "execution_count": 4,
   "metadata": {},
   "outputs": [
    {
     "name": "stdout",
     "output_type": "stream",
     "text": [
      "<class 'pandas.core.frame.DataFrame'>\n",
      "RangeIndex: 111107 entries, 0 to 111106\n",
      "Data columns (total 19 columns):\n",
      " #   Column                        Non-Null Count   Dtype  \n",
      "---  ------                        --------------   -----  \n",
      " 0   Loan ID                       111107 non-null  object \n",
      " 1   Customer ID                   111107 non-null  object \n",
      " 2   Loan Status                   111107 non-null  object \n",
      " 3   Current Loan Amount           111107 non-null  int64  \n",
      " 4   Term                          111107 non-null  object \n",
      " 5   Credit Score                  89769 non-null   float64\n",
      " 6   Years in current job          106414 non-null  object \n",
      " 7   Home Ownership                111107 non-null  object \n",
      " 8   Annual Income                 89769 non-null   float64\n",
      " 9   Purpose                       111107 non-null  object \n",
      " 10  Monthly Debt                  111107 non-null  object \n",
      " 11  Years of Credit History       111107 non-null  float64\n",
      " 12  Months since last delinquent  52104 non-null   float64\n",
      " 13  Number of Open Accounts       111107 non-null  int64  \n",
      " 14  Number of Credit Problems     111107 non-null  int64  \n",
      " 15  Current Credit Balance        111107 non-null  int64  \n",
      " 16  Maximum Open Credit           111107 non-null  object \n",
      " 17  Bankruptcies                  110879 non-null  float64\n",
      " 18  Tax Liens                     111096 non-null  float64\n",
      "dtypes: float64(6), int64(4), object(9)\n",
      "memory usage: 16.1+ MB\n"
     ]
    }
   ],
   "source": [
    "df.info()"
   ]
  },
  {
   "cell_type": "code",
   "execution_count": 5,
   "metadata": {},
   "outputs": [
    {
     "data": {
      "text/plain": [
       "np.int64(5869)"
      ]
     },
     "execution_count": 5,
     "metadata": {},
     "output_type": "execute_result"
    }
   ],
   "source": [
    "df.duplicated().sum()"
   ]
  },
  {
   "cell_type": "code",
   "execution_count": 6,
   "metadata": {},
   "outputs": [
    {
     "data": {
      "text/plain": [
       "Loan ID                             0\n",
       "Customer ID                         0\n",
       "Loan Status                         0\n",
       "Current Loan Amount                 0\n",
       "Term                                0\n",
       "Credit Score                    21338\n",
       "Years in current job             4693\n",
       "Home Ownership                      0\n",
       "Annual Income                   21338\n",
       "Purpose                             0\n",
       "Monthly Debt                        0\n",
       "Years of Credit History             0\n",
       "Months since last delinquent    59003\n",
       "Number of Open Accounts             0\n",
       "Number of Credit Problems           0\n",
       "Current Credit Balance              0\n",
       "Maximum Open Credit                 0\n",
       "Bankruptcies                      228\n",
       "Tax Liens                          11\n",
       "dtype: int64"
      ]
     },
     "execution_count": 6,
     "metadata": {},
     "output_type": "execute_result"
    }
   ],
   "source": [
    "df.isna().sum()"
   ]
  },
  {
   "cell_type": "code",
   "execution_count": 7,
   "metadata": {},
   "outputs": [
    {
     "data": {
      "text/plain": [
       "Loan ID                         0.000000\n",
       "Customer ID                     0.000000\n",
       "Loan Status                     0.000000\n",
       "Current Loan Amount             0.000000\n",
       "Term                            0.000000\n",
       "Credit Score                    0.192049\n",
       "Years in current job            0.042239\n",
       "Home Ownership                  0.000000\n",
       "Annual Income                   0.192049\n",
       "Purpose                         0.000000\n",
       "Monthly Debt                    0.000000\n",
       "Years of Credit History         0.000000\n",
       "Months since last delinquent    0.531047\n",
       "Number of Open Accounts         0.000000\n",
       "Number of Credit Problems       0.000000\n",
       "Current Credit Balance          0.000000\n",
       "Maximum Open Credit             0.000000\n",
       "Bankruptcies                    0.002052\n",
       "Tax Liens                       0.000099\n",
       "dtype: float64"
      ]
     },
     "execution_count": 7,
     "metadata": {},
     "output_type": "execute_result"
    }
   ],
   "source": [
    "df.isna().sum()/df.shape[0]"
   ]
  },
  {
   "cell_type": "code",
   "execution_count": 8,
   "metadata": {},
   "outputs": [
    {
     "data": {
      "text/plain": [
       "Loan ID                         88910\n",
       "Customer ID                     88910\n",
       "Loan Status                         2\n",
       "Current Loan Amount             22541\n",
       "Term                                2\n",
       "Credit Score                      326\n",
       "Years in current job               11\n",
       "Home Ownership                      4\n",
       "Annual Income                   37983\n",
       "Purpose                            16\n",
       "Monthly Debt                    90362\n",
       "Years of Credit History           508\n",
       "Months since last delinquent      116\n",
       "Number of Open Accounts            52\n",
       "Number of Credit Problems          14\n",
       "Current Credit Balance          33716\n",
       "Maximum Open Credit             67309\n",
       "Bankruptcies                        8\n",
       "Tax Liens                          13\n",
       "dtype: int64"
      ]
     },
     "execution_count": 8,
     "metadata": {},
     "output_type": "execute_result"
    }
   ],
   "source": [
    "df.nunique()"
   ]
  },
  {
   "cell_type": "code",
   "execution_count": 9,
   "metadata": {},
   "outputs": [],
   "source": [
    "freq_mo_last_delinquent = df['Months since last delinquent'].value_counts()"
   ]
  },
  {
   "cell_type": "code",
   "execution_count": 10,
   "metadata": {},
   "outputs": [
    {
     "data": {
      "text/plain": [
       "(array([33.,  1.,  1., 10., 25.,  2., 10., 13.,  8., 13.]),\n",
       " array([1.000e+00, 1.011e+02, 2.012e+02, 3.013e+02, 4.014e+02, 5.015e+02,\n",
       "        6.016e+02, 7.017e+02, 8.018e+02, 9.019e+02, 1.002e+03]),\n",
       " <BarContainer object of 10 artists>)"
      ]
     },
     "execution_count": 10,
     "metadata": {},
     "output_type": "execute_result"
    },
    {
     "data": {
      "image/png": "[encoded data removed]",
      "text/plain": [
       "<Figure size 640x480 with 1 Axes>"
      ]
     },
     "metadata": {},
     "output_type": "display_data"
    }
   ],
   "source": [
    "plt.hist(freq_mo_last_delinquent)"
   ]
  },
  {
   "cell_type": "code",
   "execution_count": 11,
   "metadata": {},
   "outputs": [
    {
     "data": {
      "text/plain": [
       "np.int64(235)"
      ]
     },
     "execution_count": 11,
     "metadata": {},
     "output_type": "execute_result"
    }
   ],
   "source": [
    "freq_mo_last_delinquent[0]"
   ]
  },
  {
   "cell_type": "code",
   "execution_count": 12,
   "metadata": {},
   "outputs": [
    {
     "data": {
      "text/plain": [
       "<Axes: >"
      ]
     },
     "execution_count": 12,
     "metadata": {},
     "output_type": "execute_result"
    },
    {
     "data": {
      "image/png": "[encoded data removed]",
      "text/plain": [
       "<Figure size 640x480 with 2 Axes>"
      ]
     },
     "metadata": {},
     "output_type": "display_data"
    }
   ],
   "source": [
    "corr = df.select_dtypes(include='number').corr()\n",
    "sns.heatmap(corr, cmap='crest', annot=True, center=0.5)"
   ]
  },
  {
   "cell_type": "code",
   "execution_count": 13,
   "metadata": {},
   "outputs": [
    {
     "data": {
      "text/plain": [
       "Text(0.5, 0, 'Annual Income')"
      ]
     },
     "execution_count": 13,
     "metadata": {},
     "output_type": "execute_result"
    },
    {
     "data": {
      "image/png": "[encoded data removed]",
      "text/plain": [
       "<Figure size 640x480 with 1 Axes>"
      ]
     },
     "metadata": {},
     "output_type": "display_data"
    }
   ],
   "source": [
    "plt.scatter(df['Annual Income'], df['Credit Score'])\n",
    "plt.ylabel('Credit Score')\n",
    "plt.xlabel('Annual Income')"
   ]
  },
  {
   "cell_type": "code",
   "execution_count": 14,
   "metadata": {},
   "outputs": [
    {
     "data": {
      "text/plain": [
       "np.float64(8713547.0)"
      ]
     },
     "execution_count": 14,
     "metadata": {},
     "output_type": "execute_result"
    }
   ],
   "source": [
    "df['Annual Income'].describe().max()"
   ]
  },
  {
   "cell_type": "code",
   "execution_count": 15,
   "metadata": {},
   "outputs": [
    {
     "data": {
      "text/plain": [
       "Index([3671], dtype='int64')"
      ]
     },
     "execution_count": 15,
     "metadata": {},
     "output_type": "execute_result"
    }
   ],
   "source": [
    "outlier_index = df[df['Annual Income'] == 8713547.0].index\n",
    "outlier_index"
   ]
  },
  {
   "cell_type": "code",
   "execution_count": 16,
   "metadata": {},
   "outputs": [],
   "source": [
    "df_1_remove_outlier = df.drop(outlier_index)"
   ]
  },
  {
   "cell_type": "code",
   "execution_count": 17,
   "metadata": {},
   "outputs": [
    {
     "data": {
      "text/plain": [
       "Loan ID                         111107\n",
       "Customer ID                     111107\n",
       "Loan Status                     111107\n",
       "Current Loan Amount             111107\n",
       "Term                            111107\n",
       "Credit Score                     89769\n",
       "Years in current job            106414\n",
       "Home Ownership                  111107\n",
       "Annual Income                    89769\n",
       "Purpose                         111107\n",
       "Monthly Debt                    111107\n",
       "Years of Credit History         111107\n",
       "Months since last delinquent     52104\n",
       "Number of Open Accounts         111107\n",
       "Number of Credit Problems       111107\n",
       "Current Credit Balance          111107\n",
       "Maximum Open Credit             111107\n",
       "Bankruptcies                    110879\n",
       "Tax Liens                       111096\n",
       "dtype: int64"
      ]
     },
     "execution_count": 17,
     "metadata": {},
     "output_type": "execute_result"
    }
   ],
   "source": [
    "df.count()"
   ]
  },
  {
   "cell_type": "code",
   "execution_count": 18,
   "metadata": {},
   "outputs": [
    {
     "data": {
      "text/plain": [
       "Loan ID                         111106\n",
       "Customer ID                     111106\n",
       "Loan Status                     111106\n",
       "Current Loan Amount             111106\n",
       "Term                            111106\n",
       "Credit Score                     89768\n",
       "Years in current job            106413\n",
       "Home Ownership                  111106\n",
       "Annual Income                    89768\n",
       "Purpose                         111106\n",
       "Monthly Debt                    111106\n",
       "Years of Credit History         111106\n",
       "Months since last delinquent     52104\n",
       "Number of Open Accounts         111106\n",
       "Number of Credit Problems       111106\n",
       "Current Credit Balance          111106\n",
       "Maximum Open Credit             111106\n",
       "Bankruptcies                    110878\n",
       "Tax Liens                       111095\n",
       "dtype: int64"
      ]
     },
     "execution_count": 18,
     "metadata": {},
     "output_type": "execute_result"
    }
   ],
   "source": [
    "df_1_remove_outlier.count()"
   ]
  },
  {
   "cell_type": "code",
   "execution_count": 19,
   "metadata": {},
   "outputs": [
    {
     "data": {
      "text/plain": [
       "Text(0.5, 0, 'Annual Income')"
      ]
     },
     "execution_count": 19,
     "metadata": {},
     "output_type": "execute_result"
    },
    {
     "data": {
      "image/png": "[encoded data removed]",
      "text/plain": [
       "<Figure size 640x480 with 1 Axes>"
      ]
     },
     "metadata": {},
     "output_type": "display_data"
    }
   ],
   "source": [
    "plt.scatter(df_1_remove_outlier['Annual Income'], df_1_remove_outlier['Credit Score'])\n",
    "plt.ylabel('Credit Score')\n",
    "plt.xlabel('Annual Income')"
   ]
  },
  {
   "cell_type": "code",
   "execution_count": 20,
   "metadata": {},
   "outputs": [
    {
     "data": {
      "text/plain": [
       "(array([8.4725e+04, 0.0000e+00, 0.0000e+00, 0.0000e+00, 0.0000e+00,\n",
       "        0.0000e+00, 0.0000e+00, 3.9000e+01, 7.8000e+02, 4.2240e+03]),\n",
       " array([ 585. , 1277.5, 1970. , 2662.5, 3355. , 4047.5, 4740. , 5432.5,\n",
       "        6125. , 6817.5, 7510. ]),\n",
       " <BarContainer object of 10 artists>)"
      ]
     },
     "execution_count": 20,
     "metadata": {},
     "output_type": "execute_result"
    },
    {
     "data": {
      "image/png": "[encoded data removed]",
      "text/plain": [
       "<Figure size 640x480 with 1 Axes>"
      ]
     },
     "metadata": {},
     "output_type": "display_data"
    }
   ],
   "source": [
    "plt.hist(df_1_remove_outlier['Credit Score'])"
   ]
  },
  {
   "cell_type": "code",
   "execution_count": 21,
   "metadata": {},
   "outputs": [
    {
     "data": {
      "text/plain": [
       "Credit Score\n",
       "747.0     2040\n",
       "740.0     1954\n",
       "746.0     1932\n",
       "741.0     1922\n",
       "742.0     1911\n",
       "          ... \n",
       "5960.0       1\n",
       "5860.0       1\n",
       "5880.0       1\n",
       "5900.0       1\n",
       "6000.0       1\n",
       "Name: count, Length: 326, dtype: int64"
      ]
     },
     "execution_count": 21,
     "metadata": {},
     "output_type": "execute_result"
    }
   ],
   "source": [
    "df_1_remove_outlier['Credit Score'].value_counts()"
   ]
  },
  {
   "cell_type": "code",
   "execution_count": 22,
   "metadata": {},
   "outputs": [
    {
     "data": {
      "text/plain": [
       "Years in current job\n",
       "10+ years    34551\n",
       "2 years      10158\n",
       "3 years       9133\n",
       "< 1 year      9055\n",
       "5 years       7559\n",
       "1 year        7175\n",
       "4 years       6828\n",
       "6 years       6310\n",
       "7 years       6186\n",
       "8 years       5105\n",
       "9 years       4354\n",
       "Name: count, dtype: int64"
      ]
     },
     "execution_count": 22,
     "metadata": {},
     "output_type": "execute_result"
    }
   ],
   "source": [
    "df['Years in current job'].value_counts()"
   ]
  },
  {
   "cell_type": "code",
   "execution_count": 23,
   "metadata": {},
   "outputs": [
    {
     "data": {
      "text/plain": [
       "Years in current job\n",
       "10+ years    34551\n",
       "2 years      10158\n",
       "3 years       9133\n",
       "< 1 year      9055\n",
       "5 years       7559\n",
       "1 year        7175\n",
       "4 years       6828\n",
       "6 years       6310\n",
       "7 years       6186\n",
       "8 years       5105\n",
       "9 years       4354\n",
       "Name: count, dtype: int64"
      ]
     },
     "execution_count": 23,
     "metadata": {},
     "output_type": "execute_result"
    }
   ],
   "source": [
    "job_year_counts = df['Years in current job'].value_counts()\n",
    "job_year_counts"
   ]
  },
  {
   "cell_type": "code",
   "execution_count": 24,
   "metadata": {},
   "outputs": [
    {
     "data": {
      "image/png": "[encoded data removed]",
      "text/plain": [
       "<Figure size 640x480 with 1 Axes>"
      ]
     },
     "metadata": {},
     "output_type": "display_data"
    }
   ],
   "source": [
    "plt.bar(job_year_counts.index, job_year_counts.values)\n",
    "plt.xlabel('Years in Current Job')\n",
    "plt.ylabel('Count')\n",
    "plt.title('Distribution of Years in Current Job')\n",
    "plt.xticks(rotation=45)\n",
    "plt.show()"
   ]
  },
  {
   "cell_type": "code",
   "execution_count": 25,
   "metadata": {},
   "outputs": [],
   "source": [
    "custom_order = ['< 1 year', '1 year', '2 years', '3 years', '4 years', '5 years', '6 years', '7 years', '8 years', '9 years', '10+ years']\n",
    "\n",
    "job_year_counts = job_year_counts.reindex(custom_order)"
   ]
  },
  {
   "cell_type": "code",
   "execution_count": 26,
   "metadata": {},
   "outputs": [
    {
     "data": {
      "image/png": "[encoded data removed]",
      "text/plain": [
       "<Figure size 640x480 with 1 Axes>"
      ]
     },
     "metadata": {},
     "output_type": "display_data"
    }
   ],
   "source": [
    "plt.bar(job_year_counts.index, job_year_counts.values)\n",
    "plt.xlabel('Years in Current Job')\n",
    "plt.ylabel('Count')\n",
    "plt.title('Distribution of Years in Current Job')\n",
    "plt.xticks(rotation=45)\n",
    "plt.show()"
   ]
  },
  {
   "cell_type": "code",
   "execution_count": 27,
   "metadata": {},
   "outputs": [],
   "source": [
    "df['Annual Income'].isnull();"
   ]
  },
  {
   "cell_type": "code",
   "execution_count": 28,
   "metadata": {},
   "outputs": [],
   "source": [
    "income_null_rows_df = df[df['Annual Income'].isnull()]"
   ]
  },
  {
   "cell_type": "code",
   "execution_count": 29,
   "metadata": {},
   "outputs": [
    {
     "data": {
      "text/plain": [
       "Loan ID                             0\n",
       "Customer ID                         0\n",
       "Loan Status                         0\n",
       "Current Loan Amount                 0\n",
       "Term                                0\n",
       "Credit Score                    21338\n",
       "Years in current job              906\n",
       "Home Ownership                      0\n",
       "Annual Income                   21338\n",
       "Purpose                             0\n",
       "Monthly Debt                        0\n",
       "Years of Credit History             0\n",
       "Months since last delinquent    11619\n",
       "Number of Open Accounts             0\n",
       "Number of Credit Problems           0\n",
       "Current Credit Balance              0\n",
       "Maximum Open Credit                 0\n",
       "Bankruptcies                       45\n",
       "Tax Liens                           4\n",
       "dtype: int64"
      ]
     },
     "execution_count": 29,
     "metadata": {},
     "output_type": "execute_result"
    }
   ],
   "source": [
    "income_null_rows_df.isna().sum()"
   ]
  },
  {
   "cell_type": "code",
   "execution_count": 30,
   "metadata": {},
   "outputs": [
    {
     "data": {
      "text/html": [
       "<div>\n",
       "<style scoped>\n",
       "    .dataframe tbody tr th:only-of-type {\n",
       "        vertical-align: middle;\n",
       "    }\n",
       "\n",
       "    .dataframe tbody tr th {\n",
       "        vertical-align: top;\n",
       "    }\n",
       "\n",
       "    .dataframe thead th {\n",
       "        text-align: right;\n",
       "    }\n",
       "</style>\n",
       "<table border=\"1\" class=\"dataframe\">\n",
       "  <thead>\n",
       "    <tr style=\"text-align: right;\">\n",
       "      <th></th>\n",
       "      <th>Loan ID</th>\n",
       "      <th>Customer ID</th>\n",
       "      <th>Loan Status</th>\n",
       "      <th>Current Loan Amount</th>\n",
       "      <th>Term</th>\n",
       "      <th>Credit Score</th>\n",
       "      <th>Years in current job</th>\n",
       "      <th>Home Ownership</th>\n",
       "      <th>Annual Income</th>\n",
       "      <th>Purpose</th>\n",
       "      <th>Monthly Debt</th>\n",
       "      <th>Years of Credit History</th>\n",
       "      <th>Months since last delinquent</th>\n",
       "      <th>Number of Open Accounts</th>\n",
       "      <th>Number of Credit Problems</th>\n",
       "      <th>Current Credit Balance</th>\n",
       "      <th>Maximum Open Credit</th>\n",
       "      <th>Bankruptcies</th>\n",
       "      <th>Tax Liens</th>\n",
       "    </tr>\n",
       "  </thead>\n",
       "  <tbody>\n",
       "    <tr>\n",
       "      <th>0</th>\n",
       "      <td>6cf51492-02a2-423e-b93d-676f05b9ad53</td>\n",
       "      <td>7c202b37-2add-44e8-9aea-d5b119aea935</td>\n",
       "      <td>Charged Off</td>\n",
       "      <td>12232</td>\n",
       "      <td>Short Term</td>\n",
       "      <td>7280.0</td>\n",
       "      <td>&lt; 1 year</td>\n",
       "      <td>Rent</td>\n",
       "      <td>46643.0</td>\n",
       "      <td>Debt Consolidation</td>\n",
       "      <td>777.39</td>\n",
       "      <td>18.0</td>\n",
       "      <td>10.0</td>\n",
       "      <td>12</td>\n",
       "      <td>0</td>\n",
       "      <td>6762</td>\n",
       "      <td>7946</td>\n",
       "      <td>0.0</td>\n",
       "      <td>0.0</td>\n",
       "    </tr>\n",
       "    <tr>\n",
       "      <th>1</th>\n",
       "      <td>552e7ade-4292-4354-9ff9-c48031697d72</td>\n",
       "      <td>e7217b0a-07ac-47dd-b379-577b5a35b7c6</td>\n",
       "      <td>Charged Off</td>\n",
       "      <td>25014</td>\n",
       "      <td>Long Term</td>\n",
       "      <td>7330.0</td>\n",
       "      <td>10+ years</td>\n",
       "      <td>Home Mortgage</td>\n",
       "      <td>81099.0</td>\n",
       "      <td>Debt Consolidation</td>\n",
       "      <td>892.09</td>\n",
       "      <td>26.7</td>\n",
       "      <td>NaN</td>\n",
       "      <td>14</td>\n",
       "      <td>0</td>\n",
       "      <td>35706</td>\n",
       "      <td>77961</td>\n",
       "      <td>0.0</td>\n",
       "      <td>0.0</td>\n",
       "    </tr>\n",
       "    <tr>\n",
       "      <th>2</th>\n",
       "      <td>9b5e32b3-8d76-4801-afc8-d729d5a2e6b9</td>\n",
       "      <td>0a62fc41-16c8-40b5-92ff-9e4b763ce714</td>\n",
       "      <td>Charged Off</td>\n",
       "      <td>16117</td>\n",
       "      <td>Short Term</td>\n",
       "      <td>7240.0</td>\n",
       "      <td>9 years</td>\n",
       "      <td>Home Mortgage</td>\n",
       "      <td>60438.0</td>\n",
       "      <td>Home Improvements</td>\n",
       "      <td>1244.02</td>\n",
       "      <td>16.7</td>\n",
       "      <td>32.0</td>\n",
       "      <td>11</td>\n",
       "      <td>1</td>\n",
       "      <td>11275</td>\n",
       "      <td>14815</td>\n",
       "      <td>1.0</td>\n",
       "      <td>0.0</td>\n",
       "    </tr>\n",
       "    <tr>\n",
       "      <th>3</th>\n",
       "      <td>5419b7c7-ac11-4be2-a8a7-b131fb6d6dbe</td>\n",
       "      <td>30f36c59-5182-4482-8bbb-5b736849ae43</td>\n",
       "      <td>Charged Off</td>\n",
       "      <td>11716</td>\n",
       "      <td>Short Term</td>\n",
       "      <td>7400.0</td>\n",
       "      <td>3 years</td>\n",
       "      <td>Rent</td>\n",
       "      <td>34171.0</td>\n",
       "      <td>Debt Consolidation</td>\n",
       "      <td>990.94</td>\n",
       "      <td>10.0</td>\n",
       "      <td>NaN</td>\n",
       "      <td>21</td>\n",
       "      <td>0</td>\n",
       "      <td>7009</td>\n",
       "      <td>43533</td>\n",
       "      <td>0.0</td>\n",
       "      <td>0.0</td>\n",
       "    </tr>\n",
       "    <tr>\n",
       "      <th>4</th>\n",
       "      <td>1450910f-9495-4fc9-afaf-9bdf4b9821df</td>\n",
       "      <td>70c26012-bba5-42c0-8dcb-75295ada31bb</td>\n",
       "      <td>Charged Off</td>\n",
       "      <td>9789</td>\n",
       "      <td>Long Term</td>\n",
       "      <td>6860.0</td>\n",
       "      <td>10+ years</td>\n",
       "      <td>Home Mortgage</td>\n",
       "      <td>47003.0</td>\n",
       "      <td>Home Improvements</td>\n",
       "      <td>503.71</td>\n",
       "      <td>16.7</td>\n",
       "      <td>25.0</td>\n",
       "      <td>13</td>\n",
       "      <td>1</td>\n",
       "      <td>16913</td>\n",
       "      <td>19553</td>\n",
       "      <td>1.0</td>\n",
       "      <td>0.0</td>\n",
       "    </tr>\n",
       "    <tr>\n",
       "      <th>...</th>\n",
       "      <td>...</td>\n",
       "      <td>...</td>\n",
       "      <td>...</td>\n",
       "      <td>...</td>\n",
       "      <td>...</td>\n",
       "      <td>...</td>\n",
       "      <td>...</td>\n",
       "      <td>...</td>\n",
       "      <td>...</td>\n",
       "      <td>...</td>\n",
       "      <td>...</td>\n",
       "      <td>...</td>\n",
       "      <td>...</td>\n",
       "      <td>...</td>\n",
       "      <td>...</td>\n",
       "      <td>...</td>\n",
       "      <td>...</td>\n",
       "      <td>...</td>\n",
       "      <td>...</td>\n",
       "    </tr>\n",
       "    <tr>\n",
       "      <th>5039</th>\n",
       "      <td>dddda579-91fc-479b-98b7-e035de24e924</td>\n",
       "      <td>fcd51025-8954-4b5b-816f-39cb1e66fc1f</td>\n",
       "      <td>Charged Off</td>\n",
       "      <td>19874</td>\n",
       "      <td>Long Term</td>\n",
       "      <td>7010.0</td>\n",
       "      <td>6 years</td>\n",
       "      <td>Own Home</td>\n",
       "      <td>54654.0</td>\n",
       "      <td>Debt Consolidation</td>\n",
       "      <td>1202.38</td>\n",
       "      <td>14.3</td>\n",
       "      <td>NaN</td>\n",
       "      <td>15</td>\n",
       "      <td>0</td>\n",
       "      <td>21693</td>\n",
       "      <td>25949</td>\n",
       "      <td>0.0</td>\n",
       "      <td>0.0</td>\n",
       "    </tr>\n",
       "    <tr>\n",
       "      <th>5040</th>\n",
       "      <td>5154e83f-4f72-431b-b6e5-c5a94f08a74a</td>\n",
       "      <td>dd2602f3-fba7-4a44-b2c6-2e722638838a</td>\n",
       "      <td>Charged Off</td>\n",
       "      <td>11199</td>\n",
       "      <td>Short Term</td>\n",
       "      <td>7180.0</td>\n",
       "      <td>3 years</td>\n",
       "      <td>Rent</td>\n",
       "      <td>40176.0</td>\n",
       "      <td>Debt Consolidation</td>\n",
       "      <td>736.56</td>\n",
       "      <td>8.8</td>\n",
       "      <td>NaN</td>\n",
       "      <td>17</td>\n",
       "      <td>0</td>\n",
       "      <td>5674</td>\n",
       "      <td>14079</td>\n",
       "      <td>0.0</td>\n",
       "      <td>0.0</td>\n",
       "    </tr>\n",
       "    <tr>\n",
       "      <th>5041</th>\n",
       "      <td>bebce2e5-bd21-4f6b-a5df-0e042b17ad24</td>\n",
       "      <td>9cd162b4-defa-4ab7-b5c4-252ff1be0e0c</td>\n",
       "      <td>Charged Off</td>\n",
       "      <td>12072</td>\n",
       "      <td>Long Term</td>\n",
       "      <td>7110.0</td>\n",
       "      <td>5 years</td>\n",
       "      <td>Home Mortgage</td>\n",
       "      <td>130780.0</td>\n",
       "      <td>Debt Consolidation</td>\n",
       "      <td>1547.56</td>\n",
       "      <td>9.8</td>\n",
       "      <td>NaN</td>\n",
       "      <td>17</td>\n",
       "      <td>0</td>\n",
       "      <td>18863</td>\n",
       "      <td>21532</td>\n",
       "      <td>0.0</td>\n",
       "      <td>0.0</td>\n",
       "    </tr>\n",
       "    <tr>\n",
       "      <th>5042</th>\n",
       "      <td>031a7b4f-2b0f-4f09-97c0-942da5ec7d98</td>\n",
       "      <td>d22f8176-c506-4fba-b8b9-fb97a47a7cd2</td>\n",
       "      <td>Charged Off</td>\n",
       "      <td>5612</td>\n",
       "      <td>Short Term</td>\n",
       "      <td>7330.0</td>\n",
       "      <td>10+ years</td>\n",
       "      <td>Rent</td>\n",
       "      <td>68915.0</td>\n",
       "      <td>Debt Consolidation</td>\n",
       "      <td>1349.58</td>\n",
       "      <td>15.6</td>\n",
       "      <td>NaN</td>\n",
       "      <td>14</td>\n",
       "      <td>1</td>\n",
       "      <td>2262</td>\n",
       "      <td>12927</td>\n",
       "      <td>1.0</td>\n",
       "      <td>0.0</td>\n",
       "    </tr>\n",
       "    <tr>\n",
       "      <th>5043</th>\n",
       "      <td>72ec6d5f-fb20-4497-9d9c-24857c735886</td>\n",
       "      <td>ec927f22-bda8-4efb-b342-4855cb9b55cd</td>\n",
       "      <td>Charged Off</td>\n",
       "      <td>16085</td>\n",
       "      <td>Short Term</td>\n",
       "      <td>6920.0</td>\n",
       "      <td>&lt; 1 year</td>\n",
       "      <td>Rent</td>\n",
       "      <td>48254.0</td>\n",
       "      <td>Debt Consolidation</td>\n",
       "      <td>828.37</td>\n",
       "      <td>18.0</td>\n",
       "      <td>23.0</td>\n",
       "      <td>21</td>\n",
       "      <td>0</td>\n",
       "      <td>10496</td>\n",
       "      <td>20703</td>\n",
       "      <td>0.0</td>\n",
       "      <td>0.0</td>\n",
       "    </tr>\n",
       "  </tbody>\n",
       "</table>\n",
       "<p>5043 rows × 19 columns</p>\n",
       "</div>"
      ],
      "text/plain": [
       "                                   Loan ID  \\\n",
       "0     6cf51492-02a2-423e-b93d-676f05b9ad53   \n",
       "1     552e7ade-4292-4354-9ff9-c48031697d72   \n",
       "2     9b5e32b3-8d76-4801-afc8-d729d5a2e6b9   \n",
       "3     5419b7c7-ac11-4be2-a8a7-b131fb6d6dbe   \n",
       "4     1450910f-9495-4fc9-afaf-9bdf4b9821df   \n",
       "...                                    ...   \n",
       "5039  dddda579-91fc-479b-98b7-e035de24e924   \n",
       "5040  5154e83f-4f72-431b-b6e5-c5a94f08a74a   \n",
       "5041  bebce2e5-bd21-4f6b-a5df-0e042b17ad24   \n",
       "5042  031a7b4f-2b0f-4f09-97c0-942da5ec7d98   \n",
       "5043  72ec6d5f-fb20-4497-9d9c-24857c735886   \n",
       "\n",
       "                               Customer ID  Loan Status  Current Loan Amount  \\\n",
       "0     7c202b37-2add-44e8-9aea-d5b119aea935  Charged Off                12232   \n",
       "1     e7217b0a-07ac-47dd-b379-577b5a35b7c6  Charged Off                25014   \n",
       "2     0a62fc41-16c8-40b5-92ff-9e4b763ce714  Charged Off                16117   \n",
       "3     30f36c59-5182-4482-8bbb-5b736849ae43  Charged Off                11716   \n",
       "4     70c26012-bba5-42c0-8dcb-75295ada31bb  Charged Off                 9789   \n",
       "...                                    ...          ...                  ...   \n",
       "5039  fcd51025-8954-4b5b-816f-39cb1e66fc1f  Charged Off                19874   \n",
       "5040  dd2602f3-fba7-4a44-b2c6-2e722638838a  Charged Off                11199   \n",
       "5041  9cd162b4-defa-4ab7-b5c4-252ff1be0e0c  Charged Off                12072   \n",
       "5042  d22f8176-c506-4fba-b8b9-fb97a47a7cd2  Charged Off                 5612   \n",
       "5043  ec927f22-bda8-4efb-b342-4855cb9b55cd  Charged Off                16085   \n",
       "\n",
       "            Term  Credit Score Years in current job Home Ownership  \\\n",
       "0     Short Term        7280.0             < 1 year           Rent   \n",
       "1      Long Term        7330.0            10+ years  Home Mortgage   \n",
       "2     Short Term        7240.0              9 years  Home Mortgage   \n",
       "3     Short Term        7400.0              3 years           Rent   \n",
       "4      Long Term        6860.0            10+ years  Home Mortgage   \n",
       "...          ...           ...                  ...            ...   \n",
       "5039   Long Term        7010.0              6 years       Own Home   \n",
       "5040  Short Term        7180.0              3 years           Rent   \n",
       "5041   Long Term        7110.0              5 years  Home Mortgage   \n",
       "5042  Short Term        7330.0            10+ years           Rent   \n",
       "5043  Short Term        6920.0             < 1 year           Rent   \n",
       "\n",
       "      Annual Income             Purpose Monthly Debt  Years of Credit History  \\\n",
       "0           46643.0  Debt Consolidation       777.39                     18.0   \n",
       "1           81099.0  Debt Consolidation       892.09                     26.7   \n",
       "2           60438.0   Home Improvements      1244.02                     16.7   \n",
       "3           34171.0  Debt Consolidation       990.94                     10.0   \n",
       "4           47003.0   Home Improvements       503.71                     16.7   \n",
       "...             ...                 ...          ...                      ...   \n",
       "5039        54654.0  Debt Consolidation      1202.38                     14.3   \n",
       "5040        40176.0  Debt Consolidation       736.56                      8.8   \n",
       "5041       130780.0  Debt Consolidation      1547.56                      9.8   \n",
       "5042        68915.0  Debt Consolidation      1349.58                     15.6   \n",
       "5043        48254.0  Debt Consolidation       828.37                     18.0   \n",
       "\n",
       "      Months since last delinquent  Number of Open Accounts  \\\n",
       "0                             10.0                       12   \n",
       "1                              NaN                       14   \n",
       "2                             32.0                       11   \n",
       "3                              NaN                       21   \n",
       "4                             25.0                       13   \n",
       "...                            ...                      ...   \n",
       "5039                           NaN                       15   \n",
       "5040                           NaN                       17   \n",
       "5041                           NaN                       17   \n",
       "5042                           NaN                       14   \n",
       "5043                          23.0                       21   \n",
       "\n",
       "      Number of Credit Problems  Current Credit Balance Maximum Open Credit  \\\n",
       "0                             0                    6762                7946   \n",
       "1                             0                   35706               77961   \n",
       "2                             1                   11275               14815   \n",
       "3                             0                    7009               43533   \n",
       "4                             1                   16913               19553   \n",
       "...                         ...                     ...                 ...   \n",
       "5039                          0                   21693               25949   \n",
       "5040                          0                    5674               14079   \n",
       "5041                          0                   18863               21532   \n",
       "5042                          1                    2262               12927   \n",
       "5043                          0                   10496               20703   \n",
       "\n",
       "      Bankruptcies  Tax Liens  \n",
       "0              0.0        0.0  \n",
       "1              0.0        0.0  \n",
       "2              1.0        0.0  \n",
       "3              0.0        0.0  \n",
       "4              1.0        0.0  \n",
       "...            ...        ...  \n",
       "5039           0.0        0.0  \n",
       "5040           0.0        0.0  \n",
       "5041           0.0        0.0  \n",
       "5042           1.0        0.0  \n",
       "5043           0.0        0.0  \n",
       "\n",
       "[5043 rows x 19 columns]"
      ]
     },
     "execution_count": 30,
     "metadata": {},
     "output_type": "execute_result"
    }
   ],
   "source": [
    "df_credit_over_5000 = df_1_remove_outlier[df_1_remove_outlier['Credit Score'] > 5000]\n",
    "df_credit_over_5000"
   ]
  },
  {
   "cell_type": "code",
   "execution_count": 31,
   "metadata": {},
   "outputs": [
    {
     "data": {
      "text/html": [
       "<div>\n",
       "<style scoped>\n",
       "    .dataframe tbody tr th:only-of-type {\n",
       "        vertical-align: middle;\n",
       "    }\n",
       "\n",
       "    .dataframe tbody tr th {\n",
       "        vertical-align: top;\n",
       "    }\n",
       "\n",
       "    .dataframe thead th {\n",
       "        text-align: right;\n",
       "    }\n",
       "</style>\n",
       "<table border=\"1\" class=\"dataframe\">\n",
       "  <thead>\n",
       "    <tr style=\"text-align: right;\">\n",
       "      <th></th>\n",
       "      <th>Loan ID</th>\n",
       "      <th>Customer ID</th>\n",
       "      <th>Loan Status</th>\n",
       "      <th>Current Loan Amount</th>\n",
       "      <th>Term</th>\n",
       "      <th>Credit Score</th>\n",
       "      <th>Years in current job</th>\n",
       "      <th>Home Ownership</th>\n",
       "      <th>Annual Income</th>\n",
       "      <th>Purpose</th>\n",
       "      <th>Monthly Debt</th>\n",
       "      <th>Years of Credit History</th>\n",
       "      <th>Months since last delinquent</th>\n",
       "      <th>Number of Open Accounts</th>\n",
       "      <th>Number of Credit Problems</th>\n",
       "      <th>Current Credit Balance</th>\n",
       "      <th>Maximum Open Credit</th>\n",
       "      <th>Bankruptcies</th>\n",
       "      <th>Tax Liens</th>\n",
       "    </tr>\n",
       "  </thead>\n",
       "  <tbody>\n",
       "    <tr>\n",
       "      <th>5044</th>\n",
       "      <td>bac918fa-35e0-40a2-af65-58b456a742e7</td>\n",
       "      <td>c96da120-30d2-4acd-9740-e4d280f4bfcb</td>\n",
       "      <td>Fully Paid</td>\n",
       "      <td>99999999</td>\n",
       "      <td>Short Term</td>\n",
       "      <td>739.0</td>\n",
       "      <td>3 years</td>\n",
       "      <td>Home Mortgage</td>\n",
       "      <td>60012.0</td>\n",
       "      <td>Home Improvements</td>\n",
       "      <td>1295.26</td>\n",
       "      <td>16.6</td>\n",
       "      <td>33.0</td>\n",
       "      <td>16</td>\n",
       "      <td>0</td>\n",
       "      <td>427</td>\n",
       "      <td>8542</td>\n",
       "      <td>0.0</td>\n",
       "      <td>0.0</td>\n",
       "    </tr>\n",
       "    <tr>\n",
       "      <th>5045</th>\n",
       "      <td>bb983383-0aa0-4d13-9b7f-05f694672374</td>\n",
       "      <td>d602647a-0820-4025-b93d-9f962f958acf</td>\n",
       "      <td>Fully Paid</td>\n",
       "      <td>99999999</td>\n",
       "      <td>Short Term</td>\n",
       "      <td>704.0</td>\n",
       "      <td>9 years</td>\n",
       "      <td>Rent</td>\n",
       "      <td>54802.0</td>\n",
       "      <td>Debt Consolidation</td>\n",
       "      <td>1114.31</td>\n",
       "      <td>16.9</td>\n",
       "      <td>30.0</td>\n",
       "      <td>12</td>\n",
       "      <td>0</td>\n",
       "      <td>4716</td>\n",
       "      <td>5822</td>\n",
       "      <td>0.0</td>\n",
       "      <td>0.0</td>\n",
       "    </tr>\n",
       "    <tr>\n",
       "      <th>5046</th>\n",
       "      <td>0c7fcf5e-ec4a-46d5-8175-15c846df7c74</td>\n",
       "      <td>a709e893-b6b6-49ed-b775-bdef1155c78d</td>\n",
       "      <td>Fully Paid</td>\n",
       "      <td>99999999</td>\n",
       "      <td>Short Term</td>\n",
       "      <td>751.0</td>\n",
       "      <td>5 years</td>\n",
       "      <td>Rent</td>\n",
       "      <td>35693.0</td>\n",
       "      <td>Debt Consolidation</td>\n",
       "      <td>626.12</td>\n",
       "      <td>11.0</td>\n",
       "      <td>NaN</td>\n",
       "      <td>7</td>\n",
       "      <td>0</td>\n",
       "      <td>742</td>\n",
       "      <td>9166</td>\n",
       "      <td>0.0</td>\n",
       "      <td>0.0</td>\n",
       "    </tr>\n",
       "    <tr>\n",
       "      <th>5047</th>\n",
       "      <td>878c4189-bd53-4836-a16d-203519034758</td>\n",
       "      <td>64fa8876-80fa-4a69-b16b-144a8ecfb14a</td>\n",
       "      <td>Fully Paid</td>\n",
       "      <td>99999999</td>\n",
       "      <td>Short Term</td>\n",
       "      <td>735.0</td>\n",
       "      <td>NaN</td>\n",
       "      <td>Home Mortgage</td>\n",
       "      <td>33884.0</td>\n",
       "      <td>Debt Consolidation</td>\n",
       "      <td>683.34</td>\n",
       "      <td>18.9</td>\n",
       "      <td>10.0</td>\n",
       "      <td>12</td>\n",
       "      <td>0</td>\n",
       "      <td>10835</td>\n",
       "      <td>18028</td>\n",
       "      <td>0.0</td>\n",
       "      <td>0.0</td>\n",
       "    </tr>\n",
       "    <tr>\n",
       "      <th>5048</th>\n",
       "      <td>193ac878-4d50-4be0-995b-20896ebc9ad8</td>\n",
       "      <td>02a4bc6d-db02-406b-9bf6-8e0dd42782eb</td>\n",
       "      <td>Fully Paid</td>\n",
       "      <td>99999999</td>\n",
       "      <td>Short Term</td>\n",
       "      <td>745.0</td>\n",
       "      <td>3 years</td>\n",
       "      <td>Own Home</td>\n",
       "      <td>103343.0</td>\n",
       "      <td>Debt Consolidation</td>\n",
       "      <td>1300.41</td>\n",
       "      <td>14.1</td>\n",
       "      <td>NaN</td>\n",
       "      <td>14</td>\n",
       "      <td>0</td>\n",
       "      <td>22746</td>\n",
       "      <td>42835</td>\n",
       "      <td>0.0</td>\n",
       "      <td>0.0</td>\n",
       "    </tr>\n",
       "    <tr>\n",
       "      <th>...</th>\n",
       "      <td>...</td>\n",
       "      <td>...</td>\n",
       "      <td>...</td>\n",
       "      <td>...</td>\n",
       "      <td>...</td>\n",
       "      <td>...</td>\n",
       "      <td>...</td>\n",
       "      <td>...</td>\n",
       "      <td>...</td>\n",
       "      <td>...</td>\n",
       "      <td>...</td>\n",
       "      <td>...</td>\n",
       "      <td>...</td>\n",
       "      <td>...</td>\n",
       "      <td>...</td>\n",
       "      <td>...</td>\n",
       "      <td>...</td>\n",
       "      <td>...</td>\n",
       "      <td>...</td>\n",
       "    </tr>\n",
       "    <tr>\n",
       "      <th>111102</th>\n",
       "      <td>503f01e2-c3c4-4b10-886e-f15de57b6f1a</td>\n",
       "      <td>27a17610-1d8c-48a7-b0db-2d81a4fa099a</td>\n",
       "      <td>Fully Paid</td>\n",
       "      <td>15654</td>\n",
       "      <td>Long Term</td>\n",
       "      <td>686.0</td>\n",
       "      <td>10+ years</td>\n",
       "      <td>Rent</td>\n",
       "      <td>43050.0</td>\n",
       "      <td>Debt Consolidation</td>\n",
       "      <td>889.69</td>\n",
       "      <td>14.1</td>\n",
       "      <td>49.0</td>\n",
       "      <td>18</td>\n",
       "      <td>0</td>\n",
       "      <td>14730</td>\n",
       "      <td>29757</td>\n",
       "      <td>0.0</td>\n",
       "      <td>0.0</td>\n",
       "    </tr>\n",
       "    <tr>\n",
       "      <th>111103</th>\n",
       "      <td>8af53bc0-56a4-4801-a960-52a46a90b33f</td>\n",
       "      <td>c124ca71-f42a-47cc-8ec2-236f7e9868a5</td>\n",
       "      <td>Fully Paid</td>\n",
       "      <td>15237</td>\n",
       "      <td>Short Term</td>\n",
       "      <td>706.0</td>\n",
       "      <td>10+ years</td>\n",
       "      <td>Home Mortgage</td>\n",
       "      <td>60948.0</td>\n",
       "      <td>Debt Consolidation</td>\n",
       "      <td>700.9</td>\n",
       "      <td>15.9</td>\n",
       "      <td>48.0</td>\n",
       "      <td>11</td>\n",
       "      <td>0</td>\n",
       "      <td>17733</td>\n",
       "      <td>23060</td>\n",
       "      <td>0.0</td>\n",
       "      <td>0.0</td>\n",
       "    </tr>\n",
       "    <tr>\n",
       "      <th>111104</th>\n",
       "      <td>96efd327-f965-42ae-8b2b-d2555205ce19</td>\n",
       "      <td>7d959a54-8eeb-4df6-b582-046f889e4cff</td>\n",
       "      <td>Fully Paid</td>\n",
       "      <td>10413</td>\n",
       "      <td>Short Term</td>\n",
       "      <td>719.0</td>\n",
       "      <td>5 years</td>\n",
       "      <td>Home Mortgage</td>\n",
       "      <td>66945.0</td>\n",
       "      <td>Debt Consolidation</td>\n",
       "      <td>1210.59</td>\n",
       "      <td>8.7</td>\n",
       "      <td>NaN</td>\n",
       "      <td>11</td>\n",
       "      <td>0</td>\n",
       "      <td>5205</td>\n",
       "      <td>6348</td>\n",
       "      <td>0.0</td>\n",
       "      <td>0.0</td>\n",
       "    </tr>\n",
       "    <tr>\n",
       "      <th>111105</th>\n",
       "      <td>ec19166c-70c5-4d49-adb6-fb3fc15024a2</td>\n",
       "      <td>5723fbf2-1ce8-4752-8bee-1bebf339f278</td>\n",
       "      <td>Fully Paid</td>\n",
       "      <td>34447</td>\n",
       "      <td>Short Term</td>\n",
       "      <td>626.0</td>\n",
       "      <td>10+ years</td>\n",
       "      <td>Home Mortgage</td>\n",
       "      <td>78736.0</td>\n",
       "      <td>Debt Consolidation</td>\n",
       "      <td>1476.3</td>\n",
       "      <td>30.4</td>\n",
       "      <td>9.0</td>\n",
       "      <td>12</td>\n",
       "      <td>0</td>\n",
       "      <td>32318</td>\n",
       "      <td>37580</td>\n",
       "      <td>0.0</td>\n",
       "      <td>0.0</td>\n",
       "    </tr>\n",
       "    <tr>\n",
       "      <th>111106</th>\n",
       "      <td>f83ae0e1-bd30-46c7-9f72-f4f9fe2f36ca</td>\n",
       "      <td>74187e35-39c2-4010-ae0d-8bcd0544189e</td>\n",
       "      <td>Fully Paid</td>\n",
       "      <td>9209</td>\n",
       "      <td>Long Term</td>\n",
       "      <td>708.0</td>\n",
       "      <td>&lt; 1 year</td>\n",
       "      <td>Own Home</td>\n",
       "      <td>123454.0</td>\n",
       "      <td>Debt Consolidation</td>\n",
       "      <td>668.71</td>\n",
       "      <td>20.1</td>\n",
       "      <td>16.0</td>\n",
       "      <td>8</td>\n",
       "      <td>0</td>\n",
       "      <td>6835</td>\n",
       "      <td>9261</td>\n",
       "      <td>0.0</td>\n",
       "      <td>0.0</td>\n",
       "    </tr>\n",
       "  </tbody>\n",
       "</table>\n",
       "<p>84725 rows × 19 columns</p>\n",
       "</div>"
      ],
      "text/plain": [
       "                                     Loan ID  \\\n",
       "5044    bac918fa-35e0-40a2-af65-58b456a742e7   \n",
       "5045    bb983383-0aa0-4d13-9b7f-05f694672374   \n",
       "5046    0c7fcf5e-ec4a-46d5-8175-15c846df7c74   \n",
       "5047    878c4189-bd53-4836-a16d-203519034758   \n",
       "5048    193ac878-4d50-4be0-995b-20896ebc9ad8   \n",
       "...                                      ...   \n",
       "111102  503f01e2-c3c4-4b10-886e-f15de57b6f1a   \n",
       "111103  8af53bc0-56a4-4801-a960-52a46a90b33f   \n",
       "111104  96efd327-f965-42ae-8b2b-d2555205ce19   \n",
       "111105  ec19166c-70c5-4d49-adb6-fb3fc15024a2   \n",
       "111106  f83ae0e1-bd30-46c7-9f72-f4f9fe2f36ca   \n",
       "\n",
       "                                 Customer ID Loan Status  Current Loan Amount  \\\n",
       "5044    c96da120-30d2-4acd-9740-e4d280f4bfcb  Fully Paid             99999999   \n",
       "5045    d602647a-0820-4025-b93d-9f962f958acf  Fully Paid             99999999   \n",
       "5046    a709e893-b6b6-49ed-b775-bdef1155c78d  Fully Paid             99999999   \n",
       "5047    64fa8876-80fa-4a69-b16b-144a8ecfb14a  Fully Paid             99999999   \n",
       "5048    02a4bc6d-db02-406b-9bf6-8e0dd42782eb  Fully Paid             99999999   \n",
       "...                                      ...         ...                  ...   \n",
       "111102  27a17610-1d8c-48a7-b0db-2d81a4fa099a  Fully Paid                15654   \n",
       "111103  c124ca71-f42a-47cc-8ec2-236f7e9868a5  Fully Paid                15237   \n",
       "111104  7d959a54-8eeb-4df6-b582-046f889e4cff  Fully Paid                10413   \n",
       "111105  5723fbf2-1ce8-4752-8bee-1bebf339f278  Fully Paid                34447   \n",
       "111106  74187e35-39c2-4010-ae0d-8bcd0544189e  Fully Paid                 9209   \n",
       "\n",
       "              Term  Credit Score Years in current job Home Ownership  \\\n",
       "5044    Short Term         739.0              3 years  Home Mortgage   \n",
       "5045    Short Term         704.0              9 years           Rent   \n",
       "5046    Short Term         751.0              5 years           Rent   \n",
       "5047    Short Term         735.0                  NaN  Home Mortgage   \n",
       "5048    Short Term         745.0              3 years       Own Home   \n",
       "...            ...           ...                  ...            ...   \n",
       "111102   Long Term         686.0            10+ years           Rent   \n",
       "111103  Short Term         706.0            10+ years  Home Mortgage   \n",
       "111104  Short Term         719.0              5 years  Home Mortgage   \n",
       "111105  Short Term         626.0            10+ years  Home Mortgage   \n",
       "111106   Long Term         708.0             < 1 year       Own Home   \n",
       "\n",
       "        Annual Income             Purpose Monthly Debt  \\\n",
       "5044          60012.0   Home Improvements      1295.26   \n",
       "5045          54802.0  Debt Consolidation      1114.31   \n",
       "5046          35693.0  Debt Consolidation       626.12   \n",
       "5047          33884.0  Debt Consolidation       683.34   \n",
       "5048         103343.0  Debt Consolidation      1300.41   \n",
       "...               ...                 ...          ...   \n",
       "111102        43050.0  Debt Consolidation       889.69   \n",
       "111103        60948.0  Debt Consolidation        700.9   \n",
       "111104        66945.0  Debt Consolidation      1210.59   \n",
       "111105        78736.0  Debt Consolidation       1476.3   \n",
       "111106       123454.0  Debt Consolidation       668.71   \n",
       "\n",
       "        Years of Credit History  Months since last delinquent  \\\n",
       "5044                       16.6                          33.0   \n",
       "5045                       16.9                          30.0   \n",
       "5046                       11.0                           NaN   \n",
       "5047                       18.9                          10.0   \n",
       "5048                       14.1                           NaN   \n",
       "...                         ...                           ...   \n",
       "111102                     14.1                          49.0   \n",
       "111103                     15.9                          48.0   \n",
       "111104                      8.7                           NaN   \n",
       "111105                     30.4                           9.0   \n",
       "111106                     20.1                          16.0   \n",
       "\n",
       "        Number of Open Accounts  Number of Credit Problems  \\\n",
       "5044                         16                          0   \n",
       "5045                         12                          0   \n",
       "5046                          7                          0   \n",
       "5047                         12                          0   \n",
       "5048                         14                          0   \n",
       "...                         ...                        ...   \n",
       "111102                       18                          0   \n",
       "111103                       11                          0   \n",
       "111104                       11                          0   \n",
       "111105                       12                          0   \n",
       "111106                        8                          0   \n",
       "\n",
       "        Current Credit Balance Maximum Open Credit  Bankruptcies  Tax Liens  \n",
       "5044                       427                8542           0.0        0.0  \n",
       "5045                      4716                5822           0.0        0.0  \n",
       "5046                       742                9166           0.0        0.0  \n",
       "5047                     10835               18028           0.0        0.0  \n",
       "5048                     22746               42835           0.0        0.0  \n",
       "...                        ...                 ...           ...        ...  \n",
       "111102                   14730               29757           0.0        0.0  \n",
       "111103                   17733               23060           0.0        0.0  \n",
       "111104                    5205                6348           0.0        0.0  \n",
       "111105                   32318               37580           0.0        0.0  \n",
       "111106                    6835                9261           0.0        0.0  \n",
       "\n",
       "[84725 rows x 19 columns]"
      ]
     },
     "execution_count": 31,
     "metadata": {},
     "output_type": "execute_result"
    }
   ],
   "source": [
    "df_credit_under_5000 = df_1_remove_outlier[df_1_remove_outlier['Credit Score'] < 5000]\n",
    "df_credit_under_5000"
   ]
  },
  {
   "cell_type": "code",
   "execution_count": 32,
   "metadata": {},
   "outputs": [
    {
     "data": {
      "text/plain": [
       "<matplotlib.collections.PathCollection at 0x1358462d0>"
      ]
     },
     "execution_count": 32,
     "metadata": {},
     "output_type": "execute_result"
    },
    {
     "data": {
      "image/png": "[encoded data removed]",
      "text/plain": [
       "<Figure size 640x480 with 1 Axes>"
      ]
     },
     "metadata": {},
     "output_type": "display_data"
    }
   ],
   "source": [
    "plt.scatter(df_credit_under_5000['Credit Score'],df_credit_under_5000['Annual Income'])"
   ]
  },
  {
   "cell_type": "code",
   "execution_count": 33,
   "metadata": {},
   "outputs": [],
   "source": [
    "df_creditunder500_annualincome = df_credit_under_5000[['Credit Score', 'Annual Income']]"
   ]
  },
  {
   "cell_type": "code",
   "execution_count": 34,
   "metadata": {},
   "outputs": [
    {
     "data": {
      "text/html": [
       "<div>\n",
       "<style scoped>\n",
       "    .dataframe tbody tr th:only-of-type {\n",
       "        vertical-align: middle;\n",
       "    }\n",
       "\n",
       "    .dataframe tbody tr th {\n",
       "        vertical-align: top;\n",
       "    }\n",
       "\n",
       "    .dataframe thead th {\n",
       "        text-align: right;\n",
       "    }\n",
       "</style>\n",
       "<table border=\"1\" class=\"dataframe\">\n",
       "  <thead>\n",
       "    <tr style=\"text-align: right;\">\n",
       "      <th></th>\n",
       "      <th>Credit Score</th>\n",
       "      <th>Annual Income</th>\n",
       "    </tr>\n",
       "  </thead>\n",
       "  <tbody>\n",
       "    <tr>\n",
       "      <th>Credit Score</th>\n",
       "      <td>1.000000</td>\n",
       "      <td>-0.003906</td>\n",
       "    </tr>\n",
       "    <tr>\n",
       "      <th>Annual Income</th>\n",
       "      <td>-0.003906</td>\n",
       "      <td>1.000000</td>\n",
       "    </tr>\n",
       "  </tbody>\n",
       "</table>\n",
       "</div>"
      ],
      "text/plain": [
       "               Credit Score  Annual Income\n",
       "Credit Score       1.000000      -0.003906\n",
       "Annual Income     -0.003906       1.000000"
      ]
     },
     "execution_count": 34,
     "metadata": {},
     "output_type": "execute_result"
    }
   ],
   "source": [
    "df_creditunder500_annualincome.corr()"
   ]
  },
  {
   "cell_type": "code",
   "execution_count": 35,
   "metadata": {},
   "outputs": [
    {
     "data": {
      "text/plain": [
       "(array([98369.,     0.,     0.,     0.,     0.,     0.,     0.,     0.,\n",
       "            0., 12738.]),\n",
       " array([4.91000000e+02, 1.00004418e+07, 2.00003926e+07, 3.00003434e+07,\n",
       "        4.00002942e+07, 5.00002450e+07, 6.00001958e+07, 7.00001466e+07,\n",
       "        8.00000974e+07, 9.00000482e+07, 9.99999990e+07]),\n",
       " <BarContainer object of 10 artists>)"
      ]
     },
     "execution_count": 35,
     "metadata": {},
     "output_type": "execute_result"
    },
    {
     "data": {
      "image/png": "[encoded data removed]",
      "text/plain": [
       "<Figure size 640x480 with 1 Axes>"
      ]
     },
     "metadata": {},
     "output_type": "display_data"
    }
   ],
   "source": [
    "plt.hist(df['Current Loan Amount'])"
   ]
  },
  {
   "cell_type": "code",
   "execution_count": 36,
   "metadata": {},
   "outputs": [
    {
     "data": {
      "text/plain": [
       "np.int64(0)"
      ]
     },
     "execution_count": 36,
     "metadata": {},
     "output_type": "execute_result"
    }
   ],
   "source": [
    "df['Term'].isna().sum()"
   ]
  },
  {
   "cell_type": "code",
   "execution_count": 37,
   "metadata": {},
   "outputs": [
    {
     "data": {
      "text/plain": [
       "88910"
      ]
     },
     "execution_count": 37,
     "metadata": {},
     "output_type": "execute_result"
    }
   ],
   "source": [
    "df['Loan ID'].nunique()"
   ]
  },
  {
   "cell_type": "code",
   "execution_count": 38,
   "metadata": {},
   "outputs": [
    {
     "data": {
      "text/plain": [
       "np.int64(22197)"
      ]
     },
     "execution_count": 38,
     "metadata": {},
     "output_type": "execute_result"
    }
   ],
   "source": [
    "df['Loan ID'].duplicated().sum()"
   ]
  },
  {
   "cell_type": "code",
   "execution_count": 39,
   "metadata": {},
   "outputs": [
    {
     "data": {
      "text/plain": [
       "np.int64(22197)"
      ]
     },
     "execution_count": 39,
     "metadata": {},
     "output_type": "execute_result"
    }
   ],
   "source": [
    "df['Customer ID'].duplicated().sum()"
   ]
  },
  {
   "cell_type": "code",
   "execution_count": 40,
   "metadata": {},
   "outputs": [
    {
     "data": {
      "text/plain": [
       "np.int64(0)"
      ]
     },
     "execution_count": 40,
     "metadata": {},
     "output_type": "execute_result"
    }
   ],
   "source": [
    "df['Loan Status'].isna().sum()"
   ]
  },
  {
   "cell_type": "code",
   "execution_count": 41,
   "metadata": {},
   "outputs": [
    {
     "data": {
      "text/plain": [
       "array(['Rent', 'Home Mortgage', 'Own Home', 'HaveMortgage'], dtype=object)"
      ]
     },
     "execution_count": 41,
     "metadata": {},
     "output_type": "execute_result"
    }
   ],
   "source": [
    "df['Home Ownership'].unique()"
   ]
  },
  {
   "cell_type": "code",
   "execution_count": 42,
   "metadata": {},
   "outputs": [
    {
     "data": {
      "text/html": [
       "<div>\n",
       "<style scoped>\n",
       "    .dataframe tbody tr th:only-of-type {\n",
       "        vertical-align: middle;\n",
       "    }\n",
       "\n",
       "    .dataframe tbody tr th {\n",
       "        vertical-align: top;\n",
       "    }\n",
       "\n",
       "    .dataframe thead th {\n",
       "        text-align: right;\n",
       "    }\n",
       "</style>\n",
       "<table border=\"1\" class=\"dataframe\">\n",
       "  <thead>\n",
       "    <tr style=\"text-align: right;\">\n",
       "      <th></th>\n",
       "      <th>Loan ID</th>\n",
       "      <th>Customer ID</th>\n",
       "      <th>Loan Status</th>\n",
       "      <th>Current Loan Amount</th>\n",
       "      <th>Term</th>\n",
       "      <th>Credit Score</th>\n",
       "      <th>Years in current job</th>\n",
       "      <th>Annual Income</th>\n",
       "      <th>Purpose</th>\n",
       "      <th>Monthly Debt</th>\n",
       "      <th>Years of Credit History</th>\n",
       "      <th>Months since last delinquent</th>\n",
       "      <th>Number of Open Accounts</th>\n",
       "      <th>Number of Credit Problems</th>\n",
       "      <th>Current Credit Balance</th>\n",
       "      <th>Maximum Open Credit</th>\n",
       "      <th>Bankruptcies</th>\n",
       "      <th>Tax Liens</th>\n",
       "    </tr>\n",
       "    <tr>\n",
       "      <th>Home Ownership</th>\n",
       "      <th></th>\n",
       "      <th></th>\n",
       "      <th></th>\n",
       "      <th></th>\n",
       "      <th></th>\n",
       "      <th></th>\n",
       "      <th></th>\n",
       "      <th></th>\n",
       "      <th></th>\n",
       "      <th></th>\n",
       "      <th></th>\n",
       "      <th></th>\n",
       "      <th></th>\n",
       "      <th></th>\n",
       "      <th></th>\n",
       "      <th></th>\n",
       "      <th></th>\n",
       "      <th></th>\n",
       "    </tr>\n",
       "  </thead>\n",
       "  <tbody>\n",
       "    <tr>\n",
       "      <th>HaveMortgage</th>\n",
       "      <td>233</td>\n",
       "      <td>233</td>\n",
       "      <td>233</td>\n",
       "      <td>233</td>\n",
       "      <td>233</td>\n",
       "      <td>199</td>\n",
       "      <td>222</td>\n",
       "      <td>199</td>\n",
       "      <td>233</td>\n",
       "      <td>233</td>\n",
       "      <td>233</td>\n",
       "      <td>116</td>\n",
       "      <td>233</td>\n",
       "      <td>233</td>\n",
       "      <td>233</td>\n",
       "      <td>233</td>\n",
       "      <td>232</td>\n",
       "      <td>233</td>\n",
       "    </tr>\n",
       "    <tr>\n",
       "      <th>Home Mortgage</th>\n",
       "      <td>53818</td>\n",
       "      <td>53818</td>\n",
       "      <td>53818</td>\n",
       "      <td>53818</td>\n",
       "      <td>53818</td>\n",
       "      <td>43393</td>\n",
       "      <td>51682</td>\n",
       "      <td>43393</td>\n",
       "      <td>53818</td>\n",
       "      <td>53818</td>\n",
       "      <td>53818</td>\n",
       "      <td>26886</td>\n",
       "      <td>53818</td>\n",
       "      <td>53818</td>\n",
       "      <td>53818</td>\n",
       "      <td>53818</td>\n",
       "      <td>53733</td>\n",
       "      <td>53814</td>\n",
       "    </tr>\n",
       "    <tr>\n",
       "      <th>Own Home</th>\n",
       "      <td>10188</td>\n",
       "      <td>10188</td>\n",
       "      <td>10188</td>\n",
       "      <td>10188</td>\n",
       "      <td>10188</td>\n",
       "      <td>8299</td>\n",
       "      <td>9339</td>\n",
       "      <td>8299</td>\n",
       "      <td>10188</td>\n",
       "      <td>10188</td>\n",
       "      <td>10188</td>\n",
       "      <td>4707</td>\n",
       "      <td>10188</td>\n",
       "      <td>10188</td>\n",
       "      <td>10188</td>\n",
       "      <td>10188</td>\n",
       "      <td>10166</td>\n",
       "      <td>10184</td>\n",
       "    </tr>\n",
       "    <tr>\n",
       "      <th>Rent</th>\n",
       "      <td>46868</td>\n",
       "      <td>46868</td>\n",
       "      <td>46868</td>\n",
       "      <td>46868</td>\n",
       "      <td>46868</td>\n",
       "      <td>37878</td>\n",
       "      <td>45171</td>\n",
       "      <td>37878</td>\n",
       "      <td>46868</td>\n",
       "      <td>46868</td>\n",
       "      <td>46868</td>\n",
       "      <td>20395</td>\n",
       "      <td>46868</td>\n",
       "      <td>46868</td>\n",
       "      <td>46868</td>\n",
       "      <td>46868</td>\n",
       "      <td>46748</td>\n",
       "      <td>46865</td>\n",
       "    </tr>\n",
       "  </tbody>\n",
       "</table>\n",
       "</div>"
      ],
      "text/plain": [
       "                Loan ID  Customer ID  Loan Status  Current Loan Amount   Term  \\\n",
       "Home Ownership                                                                  \n",
       "HaveMortgage        233          233          233                  233    233   \n",
       "Home Mortgage     53818        53818        53818                53818  53818   \n",
       "Own Home          10188        10188        10188                10188  10188   \n",
       "Rent              46868        46868        46868                46868  46868   \n",
       "\n",
       "                Credit Score  Years in current job  Annual Income  Purpose  \\\n",
       "Home Ownership                                                               \n",
       "HaveMortgage             199                   222            199      233   \n",
       "Home Mortgage          43393                 51682          43393    53818   \n",
       "Own Home                8299                  9339           8299    10188   \n",
       "Rent                   37878                 45171          37878    46868   \n",
       "\n",
       "                Monthly Debt  Years of Credit History  \\\n",
       "Home Ownership                                          \n",
       "HaveMortgage             233                      233   \n",
       "Home Mortgage          53818                    53818   \n",
       "Own Home               10188                    10188   \n",
       "Rent                   46868                    46868   \n",
       "\n",
       "                Months since last delinquent  Number of Open Accounts  \\\n",
       "Home Ownership                                                          \n",
       "HaveMortgage                             116                      233   \n",
       "Home Mortgage                          26886                    53818   \n",
       "Own Home                                4707                    10188   \n",
       "Rent                                   20395                    46868   \n",
       "\n",
       "                Number of Credit Problems  Current Credit Balance  \\\n",
       "Home Ownership                                                      \n",
       "HaveMortgage                          233                     233   \n",
       "Home Mortgage                       53818                   53818   \n",
       "Own Home                            10188                   10188   \n",
       "Rent                                46868                   46868   \n",
       "\n",
       "                Maximum Open Credit  Bankruptcies  Tax Liens  \n",
       "Home Ownership                                                \n",
       "HaveMortgage                    233           232        233  \n",
       "Home Mortgage                 53818         53733      53814  \n",
       "Own Home                      10188         10166      10184  \n",
       "Rent                          46868         46748      46865  "
      ]
     },
     "execution_count": 42,
     "metadata": {},
     "output_type": "execute_result"
    }
   ],
   "source": [
    "df.groupby(df['Home Ownership']).count()"
   ]
  },
  {
   "cell_type": "code",
   "execution_count": 43,
   "metadata": {},
   "outputs": [
    {
     "data": {
      "text/plain": [
       "Text(0, 0.5, 'Annual Income')"
      ]
     },
     "execution_count": 43,
     "metadata": {},
     "output_type": "execute_result"
    },
    {
     "data": {
      "image/png": "[encoded data removed]",
      "text/plain": [
       "<Figure size 640x480 with 1 Axes>"
      ]
     },
     "metadata": {},
     "output_type": "display_data"
    }
   ],
   "source": [
    "plt.scatter(df_1_remove_outlier['Years of Credit History'], df_1_remove_outlier['Annual Income'])\n",
    "plt.title('Annual Income vs Years of Credit History')\n",
    "plt.xlabel('Years of Credit History')\n",
    "plt.ylabel('Annual Income')"
   ]
  },
  {
   "cell_type": "code",
   "execution_count": 44,
   "metadata": {},
   "outputs": [
    {
     "data": {
      "text/plain": [
       "np.int64(0)"
      ]
     },
     "execution_count": 44,
     "metadata": {},
     "output_type": "execute_result"
    }
   ],
   "source": [
    "df['Years of Credit History'].isna().sum()"
   ]
  },
  {
   "cell_type": "code",
   "execution_count": 45,
   "metadata": {},
   "outputs": [
    {
     "data": {
      "text/plain": [
       "array(['Debt Consolidation', 'Home Improvements', 'other',\n",
       "       'Business Loan', 'small_business', 'Other', 'moving', 'Buy a Car',\n",
       "       'Medical Bills', 'Buy House', 'Take a Trip', 'vacation',\n",
       "       'major_purchase', 'Educational Expenses', 'wedding',\n",
       "       'renewable_energy'], dtype=object)"
      ]
     },
     "execution_count": 45,
     "metadata": {},
     "output_type": "execute_result"
    }
   ],
   "source": [
    "df['Purpose'].unique()"
   ]
  },
  {
   "cell_type": "code",
   "execution_count": 46,
   "metadata": {},
   "outputs": [
    {
     "data": {
      "image/png": "[encoded data removed]",
      "text/plain": [
       "<Figure size 640x480 with 1 Axes>"
      ]
     },
     "metadata": {},
     "output_type": "display_data"
    }
   ],
   "source": [
    "plt.hist(df['Purpose'])\n",
    "plt.xticks(rotation=90)\n",
    "plt.tight_layout()"
   ]
  },
  {
   "cell_type": "code",
   "execution_count": 47,
   "metadata": {},
   "outputs": [
    {
     "data": {
      "text/plain": [
       "str"
      ]
     },
     "execution_count": 47,
     "metadata": {},
     "output_type": "execute_result"
    }
   ],
   "source": [
    "type(df['Monthly Debt'][1])"
   ]
  },
  {
   "cell_type": "code",
   "execution_count": 48,
   "metadata": {},
   "outputs": [
    {
     "data": {
      "text/plain": [
       "0          777.39\n",
       "1          892.09\n",
       "2         1244.02\n",
       "3          990.94\n",
       "4          503.71\n",
       "           ...   \n",
       "111102     889.69\n",
       "111103      700.9\n",
       "111104    1210.59\n",
       "111105     1476.3\n",
       "111106     668.71\n",
       "Name: Monthly Debt, Length: 111107, dtype: object"
      ]
     },
     "execution_count": 48,
     "metadata": {},
     "output_type": "execute_result"
    }
   ],
   "source": [
    "df['Monthly Debt']"
   ]
  },
  {
   "cell_type": "code",
   "execution_count": 49,
   "metadata": {},
   "outputs": [
    {
     "ename": "ValueError",
     "evalue": "could not convert string to float: '$1051.41'",
     "output_type": "error",
     "traceback": [
      "\u001b[0;31m---------------------------------------------------------------------------\u001b[0m",
      "\u001b[0;31mValueError\u001b[0m                                Traceback (most recent call last)",
      "Cell \u001b[0;32mIn[49], line 1\u001b[0m\n\u001b[0;32m----> 1\u001b[0m df_1_remove_outlier[\u001b[38;5;124m'\u001b[39m\u001b[38;5;124mMonthly Debt\u001b[39m\u001b[38;5;124m'\u001b[39m] \u001b[38;5;241m=\u001b[39m \u001b[43mdf\u001b[49m\u001b[43m[\u001b[49m\u001b[38;5;124;43m'\u001b[39;49m\u001b[38;5;124;43mMonthly Debt\u001b[39;49m\u001b[38;5;124;43m'\u001b[39;49m\u001b[43m]\u001b[49m\u001b[38;5;241;43m.\u001b[39;49m\u001b[43mastype\u001b[49m\u001b[43m(\u001b[49m\u001b[38;5;28;43mfloat\u001b[39;49m\u001b[43m)\u001b[49m\n",
      "File \u001b[0;32m~/Documents/GitHub/learning-fuze/live_class_W1D2_0125/.conda/lib/python3.12/site-packages/pandas/core/generic.py:6643\u001b[0m, in \u001b[0;36mNDFrame.astype\u001b[0;34m(self, dtype, copy, errors)\u001b[0m\n\u001b[1;32m   6637\u001b[0m     results \u001b[38;5;241m=\u001b[39m [\n\u001b[1;32m   6638\u001b[0m         ser\u001b[38;5;241m.\u001b[39mastype(dtype, copy\u001b[38;5;241m=\u001b[39mcopy, errors\u001b[38;5;241m=\u001b[39merrors) \u001b[38;5;28;01mfor\u001b[39;00m _, ser \u001b[38;5;129;01min\u001b[39;00m \u001b[38;5;28mself\u001b[39m\u001b[38;5;241m.\u001b[39mitems()\n\u001b[1;32m   6639\u001b[0m     ]\n\u001b[1;32m   6641\u001b[0m \u001b[38;5;28;01melse\u001b[39;00m:\n\u001b[1;32m   6642\u001b[0m     \u001b[38;5;66;03m# else, only a single dtype is given\u001b[39;00m\n\u001b[0;32m-> 6643\u001b[0m     new_data \u001b[38;5;241m=\u001b[39m \u001b[38;5;28;43mself\u001b[39;49m\u001b[38;5;241;43m.\u001b[39;49m\u001b[43m_mgr\u001b[49m\u001b[38;5;241;43m.\u001b[39;49m\u001b[43mastype\u001b[49m\u001b[43m(\u001b[49m\u001b[43mdtype\u001b[49m\u001b[38;5;241;43m=\u001b[39;49m\u001b[43mdtype\u001b[49m\u001b[43m,\u001b[49m\u001b[43m \u001b[49m\u001b[43mcopy\u001b[49m\u001b[38;5;241;43m=\u001b[39;49m\u001b[43mcopy\u001b[49m\u001b[43m,\u001b[49m\u001b[43m \u001b[49m\u001b[43merrors\u001b[49m\u001b[38;5;241;43m=\u001b[39;49m\u001b[43merrors\u001b[49m\u001b[43m)\u001b[49m\n\u001b[1;32m   6644\u001b[0m     res \u001b[38;5;241m=\u001b[39m \u001b[38;5;28mself\u001b[39m\u001b[38;5;241m.\u001b[39m_constructor_from_mgr(new_data, axes\u001b[38;5;241m=\u001b[39mnew_data\u001b[38;5;241m.\u001b[39maxes)\n\u001b[1;32m   6645\u001b[0m     \u001b[38;5;28;01mreturn\u001b[39;00m res\u001b[38;5;241m.\u001b[39m__finalize__(\u001b[38;5;28mself\u001b[39m, method\u001b[38;5;241m=\u001b[39m\u001b[38;5;124m\"\u001b[39m\u001b[38;5;124mastype\u001b[39m\u001b[38;5;124m\"\u001b[39m)\n",
      "File \u001b[0;32m~/Documents/GitHub/learning-fuze/live_class_W1D2_0125/.conda/lib/python3.12/site-packages/pandas/core/internals/managers.py:430\u001b[0m, in \u001b[0;36mBaseBlockManager.astype\u001b[0;34m(self, dtype, copy, errors)\u001b[0m\n\u001b[1;32m    427\u001b[0m \u001b[38;5;28;01melif\u001b[39;00m using_copy_on_write():\n\u001b[1;32m    428\u001b[0m     copy \u001b[38;5;241m=\u001b[39m \u001b[38;5;28;01mFalse\u001b[39;00m\n\u001b[0;32m--> 430\u001b[0m \u001b[38;5;28;01mreturn\u001b[39;00m \u001b[38;5;28;43mself\u001b[39;49m\u001b[38;5;241;43m.\u001b[39;49m\u001b[43mapply\u001b[49m\u001b[43m(\u001b[49m\n\u001b[1;32m    431\u001b[0m \u001b[43m    \u001b[49m\u001b[38;5;124;43m\"\u001b[39;49m\u001b[38;5;124;43mastype\u001b[39;49m\u001b[38;5;124;43m\"\u001b[39;49m\u001b[43m,\u001b[49m\n\u001b[1;32m    432\u001b[0m \u001b[43m    \u001b[49m\u001b[43mdtype\u001b[49m\u001b[38;5;241;43m=\u001b[39;49m\u001b[43mdtype\u001b[49m\u001b[43m,\u001b[49m\n\u001b[1;32m    433\u001b[0m \u001b[43m    \u001b[49m\u001b[43mcopy\u001b[49m\u001b[38;5;241;43m=\u001b[39;49m\u001b[43mcopy\u001b[49m\u001b[43m,\u001b[49m\n\u001b[1;32m    434\u001b[0m \u001b[43m    \u001b[49m\u001b[43merrors\u001b[49m\u001b[38;5;241;43m=\u001b[39;49m\u001b[43merrors\u001b[49m\u001b[43m,\u001b[49m\n\u001b[1;32m    435\u001b[0m \u001b[43m    \u001b[49m\u001b[43musing_cow\u001b[49m\u001b[38;5;241;43m=\u001b[39;49m\u001b[43musing_copy_on_write\u001b[49m\u001b[43m(\u001b[49m\u001b[43m)\u001b[49m\u001b[43m,\u001b[49m\n\u001b[1;32m    436\u001b[0m \u001b[43m\u001b[49m\u001b[43m)\u001b[49m\n",
      "File \u001b[0;32m~/Documents/GitHub/learning-fuze/live_class_W1D2_0125/.conda/lib/python3.12/site-packages/pandas/core/internals/managers.py:363\u001b[0m, in \u001b[0;36mBaseBlockManager.apply\u001b[0;34m(self, f, align_keys, **kwargs)\u001b[0m\n\u001b[1;32m    361\u001b[0m         applied \u001b[38;5;241m=\u001b[39m b\u001b[38;5;241m.\u001b[39mapply(f, \u001b[38;5;241m*\u001b[39m\u001b[38;5;241m*\u001b[39mkwargs)\n\u001b[1;32m    362\u001b[0m     \u001b[38;5;28;01melse\u001b[39;00m:\n\u001b[0;32m--> 363\u001b[0m         applied \u001b[38;5;241m=\u001b[39m \u001b[38;5;28;43mgetattr\u001b[39;49m\u001b[43m(\u001b[49m\u001b[43mb\u001b[49m\u001b[43m,\u001b[49m\u001b[43m \u001b[49m\u001b[43mf\u001b[49m\u001b[43m)\u001b[49m\u001b[43m(\u001b[49m\u001b[38;5;241;43m*\u001b[39;49m\u001b[38;5;241;43m*\u001b[39;49m\u001b[43mkwargs\u001b[49m\u001b[43m)\u001b[49m\n\u001b[1;32m    364\u001b[0m     result_blocks \u001b[38;5;241m=\u001b[39m extend_blocks(applied, result_blocks)\n\u001b[1;32m    366\u001b[0m out \u001b[38;5;241m=\u001b[39m \u001b[38;5;28mtype\u001b[39m(\u001b[38;5;28mself\u001b[39m)\u001b[38;5;241m.\u001b[39mfrom_blocks(result_blocks, \u001b[38;5;28mself\u001b[39m\u001b[38;5;241m.\u001b[39maxes)\n",
      "File \u001b[0;32m~/Documents/GitHub/learning-fuze/live_class_W1D2_0125/.conda/lib/python3.12/site-packages/pandas/core/internals/blocks.py:758\u001b[0m, in \u001b[0;36mBlock.astype\u001b[0;34m(self, dtype, copy, errors, using_cow, squeeze)\u001b[0m\n\u001b[1;32m    755\u001b[0m         \u001b[38;5;28;01mraise\u001b[39;00m \u001b[38;5;167;01mValueError\u001b[39;00m(\u001b[38;5;124m\"\u001b[39m\u001b[38;5;124mCan not squeeze with more than one column.\u001b[39m\u001b[38;5;124m\"\u001b[39m)\n\u001b[1;32m    756\u001b[0m     values \u001b[38;5;241m=\u001b[39m values[\u001b[38;5;241m0\u001b[39m, :]  \u001b[38;5;66;03m# type: ignore[call-overload]\u001b[39;00m\n\u001b[0;32m--> 758\u001b[0m new_values \u001b[38;5;241m=\u001b[39m \u001b[43mastype_array_safe\u001b[49m\u001b[43m(\u001b[49m\u001b[43mvalues\u001b[49m\u001b[43m,\u001b[49m\u001b[43m \u001b[49m\u001b[43mdtype\u001b[49m\u001b[43m,\u001b[49m\u001b[43m \u001b[49m\u001b[43mcopy\u001b[49m\u001b[38;5;241;43m=\u001b[39;49m\u001b[43mcopy\u001b[49m\u001b[43m,\u001b[49m\u001b[43m \u001b[49m\u001b[43merrors\u001b[49m\u001b[38;5;241;43m=\u001b[39;49m\u001b[43merrors\u001b[49m\u001b[43m)\u001b[49m\n\u001b[1;32m    760\u001b[0m new_values \u001b[38;5;241m=\u001b[39m maybe_coerce_values(new_values)\n\u001b[1;32m    762\u001b[0m refs \u001b[38;5;241m=\u001b[39m \u001b[38;5;28;01mNone\u001b[39;00m\n",
      "File \u001b[0;32m~/Documents/GitHub/learning-fuze/live_class_W1D2_0125/.conda/lib/python3.12/site-packages/pandas/core/dtypes/astype.py:237\u001b[0m, in \u001b[0;36mastype_array_safe\u001b[0;34m(values, dtype, copy, errors)\u001b[0m\n\u001b[1;32m    234\u001b[0m     dtype \u001b[38;5;241m=\u001b[39m dtype\u001b[38;5;241m.\u001b[39mnumpy_dtype\n\u001b[1;32m    236\u001b[0m \u001b[38;5;28;01mtry\u001b[39;00m:\n\u001b[0;32m--> 237\u001b[0m     new_values \u001b[38;5;241m=\u001b[39m \u001b[43mastype_array\u001b[49m\u001b[43m(\u001b[49m\u001b[43mvalues\u001b[49m\u001b[43m,\u001b[49m\u001b[43m \u001b[49m\u001b[43mdtype\u001b[49m\u001b[43m,\u001b[49m\u001b[43m \u001b[49m\u001b[43mcopy\u001b[49m\u001b[38;5;241;43m=\u001b[39;49m\u001b[43mcopy\u001b[49m\u001b[43m)\u001b[49m\n\u001b[1;32m    238\u001b[0m \u001b[38;5;28;01mexcept\u001b[39;00m (\u001b[38;5;167;01mValueError\u001b[39;00m, \u001b[38;5;167;01mTypeError\u001b[39;00m):\n\u001b[1;32m    239\u001b[0m     \u001b[38;5;66;03m# e.g. _astype_nansafe can fail on object-dtype of strings\u001b[39;00m\n\u001b[1;32m    240\u001b[0m     \u001b[38;5;66;03m#  trying to convert to float\u001b[39;00m\n\u001b[1;32m    241\u001b[0m     \u001b[38;5;28;01mif\u001b[39;00m errors \u001b[38;5;241m==\u001b[39m \u001b[38;5;124m\"\u001b[39m\u001b[38;5;124mignore\u001b[39m\u001b[38;5;124m\"\u001b[39m:\n",
      "File \u001b[0;32m~/Documents/GitHub/learning-fuze/live_class_W1D2_0125/.conda/lib/python3.12/site-packages/pandas/core/dtypes/astype.py:182\u001b[0m, in \u001b[0;36mastype_array\u001b[0;34m(values, dtype, copy)\u001b[0m\n\u001b[1;32m    179\u001b[0m     values \u001b[38;5;241m=\u001b[39m values\u001b[38;5;241m.\u001b[39mastype(dtype, copy\u001b[38;5;241m=\u001b[39mcopy)\n\u001b[1;32m    181\u001b[0m \u001b[38;5;28;01melse\u001b[39;00m:\n\u001b[0;32m--> 182\u001b[0m     values \u001b[38;5;241m=\u001b[39m \u001b[43m_astype_nansafe\u001b[49m\u001b[43m(\u001b[49m\u001b[43mvalues\u001b[49m\u001b[43m,\u001b[49m\u001b[43m \u001b[49m\u001b[43mdtype\u001b[49m\u001b[43m,\u001b[49m\u001b[43m \u001b[49m\u001b[43mcopy\u001b[49m\u001b[38;5;241;43m=\u001b[39;49m\u001b[43mcopy\u001b[49m\u001b[43m)\u001b[49m\n\u001b[1;32m    184\u001b[0m \u001b[38;5;66;03m# in pandas we don't store numpy str dtypes, so convert to object\u001b[39;00m\n\u001b[1;32m    185\u001b[0m \u001b[38;5;28;01mif\u001b[39;00m \u001b[38;5;28misinstance\u001b[39m(dtype, np\u001b[38;5;241m.\u001b[39mdtype) \u001b[38;5;129;01mand\u001b[39;00m \u001b[38;5;28missubclass\u001b[39m(values\u001b[38;5;241m.\u001b[39mdtype\u001b[38;5;241m.\u001b[39mtype, \u001b[38;5;28mstr\u001b[39m):\n",
      "File \u001b[0;32m~/Documents/GitHub/learning-fuze/live_class_W1D2_0125/.conda/lib/python3.12/site-packages/pandas/core/dtypes/astype.py:133\u001b[0m, in \u001b[0;36m_astype_nansafe\u001b[0;34m(arr, dtype, copy, skipna)\u001b[0m\n\u001b[1;32m    129\u001b[0m     \u001b[38;5;28;01mraise\u001b[39;00m \u001b[38;5;167;01mValueError\u001b[39;00m(msg)\n\u001b[1;32m    131\u001b[0m \u001b[38;5;28;01mif\u001b[39;00m copy \u001b[38;5;129;01mor\u001b[39;00m arr\u001b[38;5;241m.\u001b[39mdtype \u001b[38;5;241m==\u001b[39m \u001b[38;5;28mobject\u001b[39m \u001b[38;5;129;01mor\u001b[39;00m dtype \u001b[38;5;241m==\u001b[39m \u001b[38;5;28mobject\u001b[39m:\n\u001b[1;32m    132\u001b[0m     \u001b[38;5;66;03m# Explicit copy, or required since NumPy can't view from / to object.\u001b[39;00m\n\u001b[0;32m--> 133\u001b[0m     \u001b[38;5;28;01mreturn\u001b[39;00m \u001b[43marr\u001b[49m\u001b[38;5;241;43m.\u001b[39;49m\u001b[43mastype\u001b[49m\u001b[43m(\u001b[49m\u001b[43mdtype\u001b[49m\u001b[43m,\u001b[49m\u001b[43m \u001b[49m\u001b[43mcopy\u001b[49m\u001b[38;5;241;43m=\u001b[39;49m\u001b[38;5;28;43;01mTrue\u001b[39;49;00m\u001b[43m)\u001b[49m\n\u001b[1;32m    135\u001b[0m \u001b[38;5;28;01mreturn\u001b[39;00m arr\u001b[38;5;241m.\u001b[39mastype(dtype, copy\u001b[38;5;241m=\u001b[39mcopy)\n",
      "\u001b[0;31mValueError\u001b[0m: could not convert string to float: '$1051.41'"
     ]
    }
   ],
   "source": [
    "df_1_remove_outlier['Monthly Debt'] = df['Monthly Debt'].astype(float)\n"
   ]
  },
  {
   "cell_type": "code",
   "execution_count": null,
   "metadata": {},
   "outputs": [
    {
     "data": {
      "text/html": [
       "<div>\n",
       "<style scoped>\n",
       "    .dataframe tbody tr th:only-of-type {\n",
       "        vertical-align: middle;\n",
       "    }\n",
       "\n",
       "    .dataframe tbody tr th {\n",
       "        vertical-align: top;\n",
       "    }\n",
       "\n",
       "    .dataframe thead th {\n",
       "        text-align: right;\n",
       "    }\n",
       "</style>\n",
       "<table border=\"1\" class=\"dataframe\">\n",
       "  <thead>\n",
       "    <tr style=\"text-align: right;\">\n",
       "      <th></th>\n",
       "      <th>Loan ID</th>\n",
       "      <th>Customer ID</th>\n",
       "      <th>Loan Status</th>\n",
       "      <th>Current Loan Amount</th>\n",
       "      <th>Term</th>\n",
       "      <th>Credit Score</th>\n",
       "      <th>Years in current job</th>\n",
       "      <th>Home Ownership</th>\n",
       "      <th>Annual Income</th>\n",
       "      <th>Purpose</th>\n",
       "      <th>Monthly Debt</th>\n",
       "      <th>Years of Credit History</th>\n",
       "      <th>Months since last delinquent</th>\n",
       "      <th>Number of Open Accounts</th>\n",
       "      <th>Number of Credit Problems</th>\n",
       "      <th>Current Credit Balance</th>\n",
       "      <th>Maximum Open Credit</th>\n",
       "      <th>Bankruptcies</th>\n",
       "      <th>Tax Liens</th>\n",
       "    </tr>\n",
       "  </thead>\n",
       "  <tbody>\n",
       "    <tr>\n",
       "      <th>10</th>\n",
       "      <td>9634dd33-b16d-49f8-b9f6-2d9e1578798c</td>\n",
       "      <td>0d82eca5-ee60-4ebe-8387-54f1153a326f</td>\n",
       "      <td>Charged Off</td>\n",
       "      <td>19838</td>\n",
       "      <td>Long Term</td>\n",
       "      <td>7010.0</td>\n",
       "      <td>6 years</td>\n",
       "      <td>Home Mortgage</td>\n",
       "      <td>79352.0</td>\n",
       "      <td>Debt Consolidation</td>\n",
       "      <td>$1051.41</td>\n",
       "      <td>14.3</td>\n",
       "      <td>6.0</td>\n",
       "      <td>13</td>\n",
       "      <td>0</td>\n",
       "      <td>15780</td>\n",
       "      <td>22511</td>\n",
       "      <td>0.0</td>\n",
       "      <td>0.0</td>\n",
       "    </tr>\n",
       "    <tr>\n",
       "      <th>55</th>\n",
       "      <td>ae31692e-3e18-40ce-b169-72b8f558b0ff</td>\n",
       "      <td>208ac22f-e48d-4f52-beb0-7ac79d8f8d21</td>\n",
       "      <td>Charged Off</td>\n",
       "      <td>4407</td>\n",
       "      <td>Short Term</td>\n",
       "      <td>7340.0</td>\n",
       "      <td>3 years</td>\n",
       "      <td>Home Mortgage</td>\n",
       "      <td>36058.0</td>\n",
       "      <td>other</td>\n",
       "      <td>$157.15</td>\n",
       "      <td>13.1</td>\n",
       "      <td>28.0</td>\n",
       "      <td>6</td>\n",
       "      <td>0</td>\n",
       "      <td>2517</td>\n",
       "      <td>6308</td>\n",
       "      <td>0.0</td>\n",
       "      <td>0.0</td>\n",
       "    </tr>\n",
       "    <tr>\n",
       "      <th>105</th>\n",
       "      <td>963c40c3-84cf-4b77-a476-5219ec71a482</td>\n",
       "      <td>f8993407-f975-4b5a-818b-92ce25569b0b</td>\n",
       "      <td>Charged Off</td>\n",
       "      <td>10224</td>\n",
       "      <td>Short Term</td>\n",
       "      <td>7160.0</td>\n",
       "      <td>7 years</td>\n",
       "      <td>Rent</td>\n",
       "      <td>73613.0</td>\n",
       "      <td>Debt Consolidation</td>\n",
       "      <td>$944.7</td>\n",
       "      <td>32.1</td>\n",
       "      <td>13.0</td>\n",
       "      <td>10</td>\n",
       "      <td>0</td>\n",
       "      <td>21448</td>\n",
       "      <td>32695</td>\n",
       "      <td>0.0</td>\n",
       "      <td>0.0</td>\n",
       "    </tr>\n",
       "    <tr>\n",
       "      <th>54811</th>\n",
       "      <td>e900c241-bbef-44cd-8284-bc1886100ff1</td>\n",
       "      <td>5585d671-e587-4527-a6dd-1a372a83d49d</td>\n",
       "      <td>Fully Paid</td>\n",
       "      <td>9605</td>\n",
       "      <td>Short Term</td>\n",
       "      <td>706.0</td>\n",
       "      <td>8 years</td>\n",
       "      <td>Home Mortgage</td>\n",
       "      <td>83955.0</td>\n",
       "      <td>Debt Consolidation</td>\n",
       "      <td>$481.34</td>\n",
       "      <td>12.4</td>\n",
       "      <td>NaN</td>\n",
       "      <td>4</td>\n",
       "      <td>1</td>\n",
       "      <td>1479</td>\n",
       "      <td>6429</td>\n",
       "      <td>1.0</td>\n",
       "      <td>0.0</td>\n",
       "    </tr>\n",
       "    <tr>\n",
       "      <th>54814</th>\n",
       "      <td>89171b0d-8ed0-4e99-82e4-e576641124eb</td>\n",
       "      <td>bcd7425f-ea8c-4f1e-890c-be04aff41098</td>\n",
       "      <td>Fully Paid</td>\n",
       "      <td>14089</td>\n",
       "      <td>Long Term</td>\n",
       "      <td>701.0</td>\n",
       "      <td>10+ years</td>\n",
       "      <td>Home Mortgage</td>\n",
       "      <td>63596.0</td>\n",
       "      <td>Debt Consolidation</td>\n",
       "      <td>$1838.98</td>\n",
       "      <td>15.1</td>\n",
       "      <td>NaN</td>\n",
       "      <td>11</td>\n",
       "      <td>0</td>\n",
       "      <td>16128</td>\n",
       "      <td>16340</td>\n",
       "      <td>0.0</td>\n",
       "      <td>0.0</td>\n",
       "    </tr>\n",
       "    <tr>\n",
       "      <th>54822</th>\n",
       "      <td>34a08cc8-b381-4cc3-b8ed-fc987cead0b1</td>\n",
       "      <td>c38fd737-72ae-4e25-aa42-29c522b5a5c6</td>\n",
       "      <td>Fully Paid</td>\n",
       "      <td>9397</td>\n",
       "      <td>Short Term</td>\n",
       "      <td>668.0</td>\n",
       "      <td>2 years</td>\n",
       "      <td>Rent</td>\n",
       "      <td>52400.0</td>\n",
       "      <td>Debt Consolidation</td>\n",
       "      <td>$471.6</td>\n",
       "      <td>15.6</td>\n",
       "      <td>13.0</td>\n",
       "      <td>4</td>\n",
       "      <td>0</td>\n",
       "      <td>3293</td>\n",
       "      <td>6547</td>\n",
       "      <td>0.0</td>\n",
       "      <td>0.0</td>\n",
       "    </tr>\n",
       "  </tbody>\n",
       "</table>\n",
       "</div>"
      ],
      "text/plain": [
       "                                    Loan ID  \\\n",
       "10     9634dd33-b16d-49f8-b9f6-2d9e1578798c   \n",
       "55     ae31692e-3e18-40ce-b169-72b8f558b0ff   \n",
       "105    963c40c3-84cf-4b77-a476-5219ec71a482   \n",
       "54811  e900c241-bbef-44cd-8284-bc1886100ff1   \n",
       "54814  89171b0d-8ed0-4e99-82e4-e576641124eb   \n",
       "54822  34a08cc8-b381-4cc3-b8ed-fc987cead0b1   \n",
       "\n",
       "                                Customer ID  Loan Status  Current Loan Amount  \\\n",
       "10     0d82eca5-ee60-4ebe-8387-54f1153a326f  Charged Off                19838   \n",
       "55     208ac22f-e48d-4f52-beb0-7ac79d8f8d21  Charged Off                 4407   \n",
       "105    f8993407-f975-4b5a-818b-92ce25569b0b  Charged Off                10224   \n",
       "54811  5585d671-e587-4527-a6dd-1a372a83d49d   Fully Paid                 9605   \n",
       "54814  bcd7425f-ea8c-4f1e-890c-be04aff41098   Fully Paid                14089   \n",
       "54822  c38fd737-72ae-4e25-aa42-29c522b5a5c6   Fully Paid                 9397   \n",
       "\n",
       "             Term  Credit Score Years in current job Home Ownership  \\\n",
       "10      Long Term        7010.0              6 years  Home Mortgage   \n",
       "55     Short Term        7340.0              3 years  Home Mortgage   \n",
       "105    Short Term        7160.0              7 years           Rent   \n",
       "54811  Short Term         706.0              8 years  Home Mortgage   \n",
       "54814   Long Term         701.0            10+ years  Home Mortgage   \n",
       "54822  Short Term         668.0              2 years           Rent   \n",
       "\n",
       "       Annual Income             Purpose Monthly Debt  \\\n",
       "10           79352.0  Debt Consolidation     $1051.41   \n",
       "55           36058.0               other      $157.15   \n",
       "105          73613.0  Debt Consolidation       $944.7   \n",
       "54811        83955.0  Debt Consolidation      $481.34   \n",
       "54814        63596.0  Debt Consolidation     $1838.98   \n",
       "54822        52400.0  Debt Consolidation       $471.6   \n",
       "\n",
       "       Years of Credit History  Months since last delinquent  \\\n",
       "10                        14.3                           6.0   \n",
       "55                        13.1                          28.0   \n",
       "105                       32.1                          13.0   \n",
       "54811                     12.4                           NaN   \n",
       "54814                     15.1                           NaN   \n",
       "54822                     15.6                          13.0   \n",
       "\n",
       "       Number of Open Accounts  Number of Credit Problems  \\\n",
       "10                          13                          0   \n",
       "55                           6                          0   \n",
       "105                         10                          0   \n",
       "54811                        4                          1   \n",
       "54814                       11                          0   \n",
       "54822                        4                          0   \n",
       "\n",
       "       Current Credit Balance Maximum Open Credit  Bankruptcies  Tax Liens  \n",
       "10                      15780               22511           0.0        0.0  \n",
       "55                       2517                6308           0.0        0.0  \n",
       "105                     21448               32695           0.0        0.0  \n",
       "54811                    1479                6429           1.0        0.0  \n",
       "54814                   16128               16340           0.0        0.0  \n",
       "54822                    3293                6547           0.0        0.0  "
      ]
     },
     "execution_count": 156,
     "metadata": {},
     "output_type": "execute_result"
    }
   ],
   "source": [
    "df_1_remove_outlier[df_1_remove_outlier['Monthly Debt'].str.contains(r'[^0-9.]', na=False)]"
   ]
  },
  {
   "cell_type": "code",
   "execution_count": null,
   "metadata": {},
   "outputs": [
    {
     "data": {
      "text/plain": [
       "Text(0, 0.5, 'Frequency')"
      ]
     },
     "execution_count": 171,
     "metadata": {},
     "output_type": "execute_result"
    },
    {
     "data": {
      "image/png": "[encoded data removed]",
      "text/plain": [
       "<Figure size 640x480 with 1 Axes>"
      ]
     },
     "metadata": {},
     "output_type": "display_data"
    }
   ],
   "source": [
    "plt.hist(df['Months since last delinquent'])\n",
    "plt.title('Distribution of Months Since Last Delinquent')\n",
    "plt.xlabel('Months Since Last Delinquent')\n",
    "plt.ylabel('Frequency')"
   ]
  },
  {
   "cell_type": "code",
   "execution_count": null,
   "metadata": {},
   "outputs": [
    {
     "data": {
      "text/plain": [
       "Months since last delinquent\n",
       "12.0     1002\n",
       "13.0      999\n",
       "15.0      987\n",
       "14.0      958\n",
       "8.0       955\n",
       "         ... \n",
       "139.0       1\n",
       "130.0       1\n",
       "115.0       1\n",
       "141.0       1\n",
       "143.0       1\n",
       "Name: count, Length: 116, dtype: int64"
      ]
     },
     "execution_count": 165,
     "metadata": {},
     "output_type": "execute_result"
    }
   ],
   "source": [
    "df['Months since last delinquent'].value_counts()"
   ]
  },
  {
   "cell_type": "code",
   "execution_count": null,
   "metadata": {},
   "outputs": [
    {
     "data": {
      "text/plain": [
       "np.int64(4220)"
      ]
     },
     "execution_count": 170,
     "metadata": {},
     "output_type": "execute_result"
    }
   ],
   "source": [
    "df[df['Months since last delinquent'] == 0].count().sum()"
   ]
  },
  {
   "cell_type": "code",
   "execution_count": null,
   "metadata": {},
   "outputs": [
    {
     "data": {
      "text/plain": [
       "Text(0, 0.5, 'Frequency')"
      ]
     },
     "execution_count": 174,
     "metadata": {},
     "output_type": "execute_result"
    },
    {
     "data": {
      "image/png": "[encoded data removed]",
      "text/plain": [
       "<Figure size 640x480 with 1 Axes>"
      ]
     },
     "metadata": {},
     "output_type": "display_data"
    }
   ],
   "source": [
    "plt.hist(df['Number of Open Accounts'])\n",
    "plt.title('Distribution of the Number of Open Accounts')\n",
    "plt.xlabel('Number of Open Accounts')\n",
    "plt.ylabel('Frequency')"
   ]
  },
  {
   "cell_type": "code",
   "execution_count": null,
   "metadata": {},
   "outputs": [
    {
     "data": {
      "text/plain": [
       "<matplotlib.collections.PathCollection at 0x132592ed0>"
      ]
     },
     "execution_count": 177,
     "metadata": {},
     "output_type": "execute_result"
    },
    {
     "data": {
      "image/png": "[encoded data removed]",
      "text/plain": [
       "<Figure size 640x480 with 1 Axes>"
      ]
     },
     "metadata": {},
     "output_type": "display_data"
    }
   ],
   "source": [
    "plt.scatter(df_1_remove_outlier['Annual Income'], df_1_remove_outlier['Number of Open Accounts'])"
   ]
  },
  {
   "cell_type": "code",
   "execution_count": null,
   "metadata": {},
   "outputs": [
    {
     "data": {
      "text/plain": [
       "Text(0, 0.5, 'Frequency')"
      ]
     },
     "execution_count": 180,
     "metadata": {},
     "output_type": "execute_result"
    },
    {
     "data": {
      "image/png": "[encoded data removed]",
      "text/plain": [
       "<Figure size 640x480 with 1 Axes>"
      ]
     },
     "metadata": {},
     "output_type": "display_data"
    }
   ],
   "source": [
    "plt.hist(df['Number of Credit Problems'])\n",
    "plt.title('Frequency of Number of Credit Problems')\n",
    "plt.xlabel('Number of Credit Problems')\n",
    "plt.ylabel('Frequency')"
   ]
  },
  {
   "cell_type": "code",
   "execution_count": null,
   "metadata": {},
   "outputs": [
    {
     "data": {
      "text/plain": [
       "<matplotlib.collections.PathCollection at 0x1345b5580>"
      ]
     },
     "execution_count": 50,
     "metadata": {},
     "output_type": "execute_result"
    },
    {
     "data": {
      "image/png": "[encoded data removed]",
      "text/plain": [
       "<Figure size 640x480 with 1 Axes>"
      ]
     },
     "metadata": {},
     "output_type": "display_data"
    }
   ],
   "source": [
    "plt.scatter(df['Number of Open Accounts'], df['Number of Credit Problems'])"
   ]
  },
  {
   "cell_type": "code",
   "execution_count": null,
   "metadata": {},
   "outputs": [
    {
     "data": {
      "text/plain": [
       "Text(0.5, 1.0, 'Number of Credit Problems by Number of Open Accounts')"
      ]
     },
     "execution_count": 54,
     "metadata": {},
     "output_type": "execute_result"
    },
    {
     "data": {
      "image/png": "[encoded data removed]",
      "text/plain": [
       "<Figure size 640x480 with 1 Axes>"
      ]
     },
     "metadata": {},
     "output_type": "display_data"
    }
   ],
   "source": [
    "sns.barplot(data=df, x='Number of Open Accounts', y='Number of Credit Problems')\n",
    "plt.xticks(rotation=75)\n",
    "plt.title('Number of Credit Problems by Number of Open Accounts')\n"
   ]
  },
  {
   "cell_type": "code",
   "execution_count": null,
   "metadata": {},
   "outputs": [
    {
     "data": {
      "text/plain": [
       "count    52104.000000\n",
       "mean        34.902272\n",
       "std         21.970696\n",
       "min          0.000000\n",
       "25%         16.000000\n",
       "50%         32.000000\n",
       "75%         51.000000\n",
       "max        176.000000\n",
       "Name: Months since last delinquent, dtype: float64"
      ]
     },
     "execution_count": 55,
     "metadata": {},
     "output_type": "execute_result"
    }
   ],
   "source": [
    "df['Months since last delinquent'].describe()"
   ]
  },
  {
   "cell_type": "code",
   "execution_count": null,
   "metadata": {},
   "outputs": [],
   "source": [
    "sns.barplot(data=df, x='Number of Open Accounts', y='Number of Credit Problems')\n",
    "plt.xticks(rotation=75)\n",
    "plt.title('Number of Credit Problems by Number of Open Accounts')\n"
   ]
  },
  {
   "cell_type": "code",
   "execution_count": null,
   "metadata": {},
   "outputs": [
    {
     "data": {
      "text/plain": [
       "Text(0.5, 0, 'Number of Credit Problems')"
      ]
     },
     "execution_count": 66,
     "metadata": {},
     "output_type": "execute_result"
    },
    {
     "data": {
      "image/png": "[encoded data removed]",
      "text/plain": [
       "<Figure size 640x480 with 1 Axes>"
      ]
     },
     "metadata": {},
     "output_type": "display_data"
    }
   ],
   "source": [
    "plt.scatter(df['Number of Credit Problems'],df['Current Credit Balance'])\n",
    "plt.title('Current Credit Balance vs Number of Credit Problems')\n",
    "plt.ylabel('Current Credit Balance')\n",
    "plt.xlabel('Number of Credit Problems')"
   ]
  },
  {
   "cell_type": "code",
   "execution_count": null,
   "metadata": {},
   "outputs": [
    {
     "data": {
      "text/plain": [
       "np.int64(1730472)"
      ]
     },
     "execution_count": 64,
     "metadata": {},
     "output_type": "execute_result"
    }
   ],
   "source": [
    "df['Current Credit Balance'].max()"
   ]
  },
  {
   "cell_type": "code",
   "execution_count": null,
   "metadata": {},
   "outputs": [
    {
     "data": {
      "text/html": [
       "<div>\n",
       "<style scoped>\n",
       "    .dataframe tbody tr th:only-of-type {\n",
       "        vertical-align: middle;\n",
       "    }\n",
       "\n",
       "    .dataframe tbody tr th {\n",
       "        vertical-align: top;\n",
       "    }\n",
       "\n",
       "    .dataframe thead th {\n",
       "        text-align: right;\n",
       "    }\n",
       "</style>\n",
       "<table border=\"1\" class=\"dataframe\">\n",
       "  <thead>\n",
       "    <tr style=\"text-align: right;\">\n",
       "      <th></th>\n",
       "      <th>Loan ID</th>\n",
       "      <th>Customer ID</th>\n",
       "      <th>Loan Status</th>\n",
       "      <th>Current Loan Amount</th>\n",
       "      <th>Term</th>\n",
       "      <th>Credit Score</th>\n",
       "      <th>Years in current job</th>\n",
       "      <th>Home Ownership</th>\n",
       "      <th>Annual Income</th>\n",
       "      <th>Purpose</th>\n",
       "      <th>Monthly Debt</th>\n",
       "      <th>Years of Credit History</th>\n",
       "      <th>Months since last delinquent</th>\n",
       "      <th>Number of Open Accounts</th>\n",
       "      <th>Number of Credit Problems</th>\n",
       "      <th>Current Credit Balance</th>\n",
       "      <th>Maximum Open Credit</th>\n",
       "      <th>Bankruptcies</th>\n",
       "      <th>Tax Liens</th>\n",
       "    </tr>\n",
       "  </thead>\n",
       "  <tbody>\n",
       "    <tr>\n",
       "      <th>4012</th>\n",
       "      <td>c194cb68-1c4d-4bba-8433-98cf4e0f357d</td>\n",
       "      <td>3e4ec65d-94de-4309-afaa-d5f5055c4053</td>\n",
       "      <td>Charged Off</td>\n",
       "      <td>34675</td>\n",
       "      <td>Short Term</td>\n",
       "      <td>7320.0</td>\n",
       "      <td>10+ years</td>\n",
       "      <td>Home Mortgage</td>\n",
       "      <td>396280.0</td>\n",
       "      <td>other</td>\n",
       "      <td>10831.65</td>\n",
       "      <td>32.5</td>\n",
       "      <td>NaN</td>\n",
       "      <td>28</td>\n",
       "      <td>0</td>\n",
       "      <td>1730472</td>\n",
       "      <td>4483087</td>\n",
       "      <td>0.0</td>\n",
       "      <td>0.0</td>\n",
       "    </tr>\n",
       "  </tbody>\n",
       "</table>\n",
       "</div>"
      ],
      "text/plain": [
       "                                   Loan ID  \\\n",
       "4012  c194cb68-1c4d-4bba-8433-98cf4e0f357d   \n",
       "\n",
       "                               Customer ID  Loan Status  Current Loan Amount  \\\n",
       "4012  3e4ec65d-94de-4309-afaa-d5f5055c4053  Charged Off                34675   \n",
       "\n",
       "            Term  Credit Score Years in current job Home Ownership  \\\n",
       "4012  Short Term        7320.0            10+ years  Home Mortgage   \n",
       "\n",
       "      Annual Income Purpose Monthly Debt  Years of Credit History  \\\n",
       "4012       396280.0   other     10831.65                     32.5   \n",
       "\n",
       "      Months since last delinquent  Number of Open Accounts  \\\n",
       "4012                           NaN                       28   \n",
       "\n",
       "      Number of Credit Problems  Current Credit Balance Maximum Open Credit  \\\n",
       "4012                          0                 1730472             4483087   \n",
       "\n",
       "      Bankruptcies  Tax Liens  \n",
       "4012           0.0        0.0  "
      ]
     },
     "execution_count": 65,
     "metadata": {},
     "output_type": "execute_result"
    }
   ],
   "source": [
    "df[df['Current Credit Balance'] == 1730472]"
   ]
  },
  {
   "cell_type": "code",
   "execution_count": null,
   "metadata": {},
   "outputs": [
    {
     "name": "stdout",
     "output_type": "stream",
     "text": [
      "<class 'pandas.core.series.Series'>\n",
      "RangeIndex: 111107 entries, 0 to 111106\n",
      "Series name: Maximum Open Credit\n",
      "Non-Null Count   Dtype \n",
      "--------------   ----- \n",
      "111107 non-null  object\n",
      "dtypes: object(1)\n",
      "memory usage: 868.2+ KB\n"
     ]
    }
   ],
   "source": [
    "df['Maximum Open Credit'].info()"
   ]
  },
  {
   "cell_type": "code",
   "execution_count": null,
   "metadata": {},
   "outputs": [
    {
     "data": {
      "text/plain": [
       "str"
      ]
     },
     "execution_count": 73,
     "metadata": {},
     "output_type": "execute_result"
    }
   ],
   "source": [
    "type(df['Maximum Open Credit'][0])"
   ]
  },
  {
   "cell_type": "code",
   "execution_count": null,
   "metadata": {},
   "outputs": [
    {
     "data": {
      "text/plain": [
       "0          777.39\n",
       "1          892.09\n",
       "2         1244.02\n",
       "3          990.94\n",
       "4          503.71\n",
       "           ...   \n",
       "111102     889.69\n",
       "111103      700.9\n",
       "111104    1210.59\n",
       "111105     1476.3\n",
       "111106     668.71\n",
       "Name: Monthly Debt, Length: 111107, dtype: object"
      ]
     },
     "execution_count": 74,
     "metadata": {},
     "output_type": "execute_result"
    }
   ],
   "source": [
    "df['Monthly Debt']"
   ]
  },
  {
   "cell_type": "code",
   "execution_count": null,
   "metadata": {},
   "outputs": [],
   "source": [
    "df_lambda = df['Monthly Debt'].apply(lambda x: str(x).replace('$','')).astype(float)"
   ]
  },
  {
   "cell_type": "code",
   "execution_count": null,
   "metadata": {},
   "outputs": [
    {
     "data": {
      "text/plain": [
       "0          777.39\n",
       "1          892.09\n",
       "2         1244.02\n",
       "3          990.94\n",
       "4          503.71\n",
       "           ...   \n",
       "111102     889.69\n",
       "111103     700.90\n",
       "111104    1210.59\n",
       "111105    1476.30\n",
       "111106     668.71\n",
       "Name: Monthly Debt, Length: 111107, dtype: float64"
      ]
     },
     "execution_count": 76,
     "metadata": {},
     "output_type": "execute_result"
    }
   ],
   "source": [
    "df_lambda"
   ]
  },
  {
   "cell_type": "code",
   "execution_count": null,
   "metadata": {},
   "outputs": [
    {
     "data": {
      "text/plain": [
       "array(['7946', '77961', '14815', ..., 11431, 33389, 10634],\n",
       "      shape=(67309,), dtype=object)"
      ]
     },
     "execution_count": 84,
     "metadata": {},
     "output_type": "execute_result"
    }
   ],
   "source": [
    "df['Maximum Open Credit'].unique()"
   ]
  },
  {
   "cell_type": "code",
   "execution_count": null,
   "metadata": {},
   "outputs": [
    {
     "data": {
      "text/html": [
       "<div>\n",
       "<style scoped>\n",
       "    .dataframe tbody tr th:only-of-type {\n",
       "        vertical-align: middle;\n",
       "    }\n",
       "\n",
       "    .dataframe tbody tr th {\n",
       "        vertical-align: top;\n",
       "    }\n",
       "\n",
       "    .dataframe thead th {\n",
       "        text-align: right;\n",
       "    }\n",
       "</style>\n",
       "<table border=\"1\" class=\"dataframe\">\n",
       "  <thead>\n",
       "    <tr style=\"text-align: right;\">\n",
       "      <th></th>\n",
       "      <th>Loan ID</th>\n",
       "      <th>Customer ID</th>\n",
       "      <th>Loan Status</th>\n",
       "      <th>Current Loan Amount</th>\n",
       "      <th>Term</th>\n",
       "      <th>Credit Score</th>\n",
       "      <th>Years in current job</th>\n",
       "      <th>Home Ownership</th>\n",
       "      <th>Annual Income</th>\n",
       "      <th>Purpose</th>\n",
       "      <th>Monthly Debt</th>\n",
       "      <th>Years of Credit History</th>\n",
       "      <th>Months since last delinquent</th>\n",
       "      <th>Number of Open Accounts</th>\n",
       "      <th>Number of Credit Problems</th>\n",
       "      <th>Current Credit Balance</th>\n",
       "      <th>Maximum Open Credit</th>\n",
       "      <th>Bankruptcies</th>\n",
       "      <th>Tax Liens</th>\n",
       "    </tr>\n",
       "  </thead>\n",
       "  <tbody>\n",
       "    <tr>\n",
       "      <th>4930</th>\n",
       "      <td>e42ae1f7-74b5-46d7-95ce-46a88918ba12</td>\n",
       "      <td>a679ed55-963a-4de6-8be0-4364eb601b6f</td>\n",
       "      <td>Charged Off</td>\n",
       "      <td>2052</td>\n",
       "      <td>Short Term</td>\n",
       "      <td>7030.0</td>\n",
       "      <td>10+ years</td>\n",
       "      <td>Rent</td>\n",
       "      <td>95105.0</td>\n",
       "      <td>Debt Consolidation</td>\n",
       "      <td>1910.02</td>\n",
       "      <td>22.4</td>\n",
       "      <td>37.0</td>\n",
       "      <td>9</td>\n",
       "      <td>0</td>\n",
       "      <td>0</td>\n",
       "      <td>#VALUE!</td>\n",
       "      <td>0.0</td>\n",
       "      <td>0.0</td>\n",
       "    </tr>\n",
       "    <tr>\n",
       "      <th>37357</th>\n",
       "      <td>b798f46b-e27b-4823-af83-294b1ffc3490</td>\n",
       "      <td>f61890c5-e264-4b0f-a047-9cfa03b9d182</td>\n",
       "      <td>Charged Off</td>\n",
       "      <td>1470</td>\n",
       "      <td>Short Term</td>\n",
       "      <td>NaN</td>\n",
       "      <td>2 years</td>\n",
       "      <td>Rent</td>\n",
       "      <td>NaN</td>\n",
       "      <td>Debt Consolidation</td>\n",
       "      <td>506.34</td>\n",
       "      <td>15.3</td>\n",
       "      <td>26.0</td>\n",
       "      <td>3</td>\n",
       "      <td>0</td>\n",
       "      <td>0</td>\n",
       "      <td>#VALUE!</td>\n",
       "      <td>0.0</td>\n",
       "      <td>0.0</td>\n",
       "    </tr>\n",
       "  </tbody>\n",
       "</table>\n",
       "</div>"
      ],
      "text/plain": [
       "                                    Loan ID  \\\n",
       "4930   e42ae1f7-74b5-46d7-95ce-46a88918ba12   \n",
       "37357  b798f46b-e27b-4823-af83-294b1ffc3490   \n",
       "\n",
       "                                Customer ID  Loan Status  Current Loan Amount  \\\n",
       "4930   a679ed55-963a-4de6-8be0-4364eb601b6f  Charged Off                 2052   \n",
       "37357  f61890c5-e264-4b0f-a047-9cfa03b9d182  Charged Off                 1470   \n",
       "\n",
       "             Term  Credit Score Years in current job Home Ownership  \\\n",
       "4930   Short Term        7030.0            10+ years           Rent   \n",
       "37357  Short Term           NaN              2 years           Rent   \n",
       "\n",
       "       Annual Income             Purpose Monthly Debt  \\\n",
       "4930         95105.0  Debt Consolidation      1910.02   \n",
       "37357            NaN  Debt Consolidation       506.34   \n",
       "\n",
       "       Years of Credit History  Months since last delinquent  \\\n",
       "4930                      22.4                          37.0   \n",
       "37357                     15.3                          26.0   \n",
       "\n",
       "       Number of Open Accounts  Number of Credit Problems  \\\n",
       "4930                         9                          0   \n",
       "37357                        3                          0   \n",
       "\n",
       "       Current Credit Balance Maximum Open Credit  Bankruptcies  Tax Liens  \n",
       "4930                        0             #VALUE!           0.0        0.0  \n",
       "37357                       0             #VALUE!           0.0        0.0  "
      ]
     },
     "execution_count": 93,
     "metadata": {},
     "output_type": "execute_result"
    }
   ],
   "source": [
    "df_1_remove_outlier[df_1_remove_outlier['Maximum Open Credit'].str.contains(r'[^0-9.]', na=False)]"
   ]
  },
  {
   "cell_type": "code",
   "execution_count": null,
   "metadata": {},
   "outputs": [
    {
     "data": {
      "text/plain": [
       "Text(0, 0.5, 'Frequency')"
      ]
     },
     "execution_count": 101,
     "metadata": {},
     "output_type": "execute_result"
    },
    {
     "data": {
      "image/png": "[encoded data removed]",
      "text/plain": [
       "<Figure size 640x480 with 1 Axes>"
      ]
     },
     "metadata": {},
     "output_type": "display_data"
    }
   ],
   "source": [
    "plt.hist(df['Bankruptcies'])\n",
    "plt.title('Distribution of Bankruptcies')\n",
    "plt.xlabel('Number of Bankruptcies')\n",
    "plt.ylabel('Frequency')"
   ]
  },
  {
   "cell_type": "code",
   "execution_count": null,
   "metadata": {},
   "outputs": [
    {
     "data": {
      "text/plain": [
       "Tax Liens\n",
       "0.0     108964\n",
       "1.0       1485\n",
       "2.0        408\n",
       "3.0        124\n",
       "4.0         66\n",
       "5.0         19\n",
       "6.0         12\n",
       "7.0          7\n",
       "9.0          5\n",
       "8.0          2\n",
       "11.0         2\n",
       "15.0         1\n",
       "10.0         1\n",
       "Name: count, dtype: int64"
      ]
     },
     "execution_count": 103,
     "metadata": {},
     "output_type": "execute_result"
    }
   ],
   "source": [
    "df['Tax Liens'].value_counts()"
   ]
  },
  {
   "cell_type": "code",
   "execution_count": null,
   "metadata": {},
   "outputs": [
    {
     "data": {
      "text/plain": [
       "Text(0, 0.5, 'Frequency')"
      ]
     },
     "execution_count": 105,
     "metadata": {},
     "output_type": "execute_result"
    },
    {
     "data": {
      "image/png": "[encoded data removed]",
      "text/plain": [
       "<Figure size 640x480 with 1 Axes>"
      ]
     },
     "metadata": {},
     "output_type": "display_data"
    }
   ],
   "source": [
    "plt.hist(df['Tax Liens'])\n",
    "plt.title('Distribution of Number of Tax Liens')\n",
    "plt.xlabel('Number of Tax Liens')\n",
    "plt.ylabel('Frequency')"
   ]
  },
  {
   "cell_type": "code",
   "execution_count": null,
   "metadata": {},
   "outputs": [
    {
     "data": {
      "text/plain": [
       "np.int64(11)"
      ]
     },
     "execution_count": 106,
     "metadata": {},
     "output_type": "execute_result"
    }
   ],
   "source": [
    "df['Tax Liens'].isna().sum()"
   ]
  },
  {
   "cell_type": "code",
   "execution_count": 53,
   "metadata": {},
   "outputs": [
    {
     "data": {
      "text/plain": [
       "count    84725.000000\n",
       "mean       716.612735\n",
       "std         28.112959\n",
       "min        585.000000\n",
       "25%        704.000000\n",
       "50%        722.000000\n",
       "75%        739.000000\n",
       "max        751.000000\n",
       "Name: Credit Score, dtype: float64"
      ]
     },
     "execution_count": 53,
     "metadata": {},
     "output_type": "execute_result"
    }
   ],
   "source": [
    "df_credit_under_5000['Credit Score'].describe()"
   ]
  },
  {
   "cell_type": "code",
   "execution_count": 54,
   "metadata": {},
   "outputs": [
    {
     "data": {
      "text/plain": [
       "count    111107.000000\n",
       "mean         11.125105\n",
       "std           5.010267\n",
       "min           0.000000\n",
       "25%           8.000000\n",
       "50%          10.000000\n",
       "75%          14.000000\n",
       "max          76.000000\n",
       "Name: Number of Open Accounts, dtype: float64"
      ]
     },
     "execution_count": 54,
     "metadata": {},
     "output_type": "execute_result"
    }
   ],
   "source": [
    "df['Number of Open Accounts'].describe()"
   ]
  },
  {
   "cell_type": "code",
   "execution_count": 55,
   "metadata": {},
   "outputs": [
    {
     "data": {
      "text/plain": [
       "count    111107.000000\n",
       "mean          0.168027\n",
       "std           0.484212\n",
       "min           0.000000\n",
       "25%           0.000000\n",
       "50%           0.000000\n",
       "75%           0.000000\n",
       "max          15.000000\n",
       "Name: Number of Credit Problems, dtype: float64"
      ]
     },
     "execution_count": 55,
     "metadata": {},
     "output_type": "execute_result"
    }
   ],
   "source": [
    "df['Number of Credit Problems'].describe()"
   ]
  },
  {
   "cell_type": "code",
   "execution_count": 73,
   "metadata": {},
   "outputs": [
    {
     "data": {
      "text/plain": [
       "Loan ID                         102\n",
       "Customer ID                     102\n",
       "Loan Status                     102\n",
       "Current Loan Amount             102\n",
       "Term                            102\n",
       "Credit Score                     88\n",
       "Years in current job             96\n",
       "Home Ownership                  102\n",
       "Annual Income                    88\n",
       "Purpose                         102\n",
       "Monthly Debt                    102\n",
       "Years of Credit History         102\n",
       "Months since last delinquent     65\n",
       "Number of Open Accounts         102\n",
       "Number of Credit Problems       102\n",
       "Current Credit Balance          102\n",
       "Maximum Open Credit             102\n",
       "Bankruptcies                    102\n",
       "Tax Liens                       102\n",
       "dtype: int64"
      ]
     },
     "execution_count": 73,
     "metadata": {},
     "output_type": "execute_result"
    }
   ],
   "source": [
    "df[df['Number of Credit Problems'] > (df['Number of Credit Problems'].std()*10)].count()"
   ]
  },
  {
   "cell_type": "code",
   "execution_count": 70,
   "metadata": {},
   "outputs": [
    {
     "data": {
      "text/plain": [
       "Loan ID                         174\n",
       "Customer ID                     174\n",
       "Loan Status                     174\n",
       "Current Loan Amount             174\n",
       "Term                            174\n",
       "Credit Score                    143\n",
       "Years in current job            165\n",
       "Home Ownership                  174\n",
       "Annual Income                   143\n",
       "Purpose                         174\n",
       "Monthly Debt                    174\n",
       "Years of Credit History         174\n",
       "Months since last delinquent     63\n",
       "Number of Open Accounts         174\n",
       "Number of Credit Problems       174\n",
       "Current Credit Balance          174\n",
       "Maximum Open Credit             174\n",
       "Bankruptcies                    174\n",
       "Tax Liens                       174\n",
       "dtype: int64"
      ]
     },
     "execution_count": 70,
     "metadata": {},
     "output_type": "execute_result"
    }
   ],
   "source": [
    "df[df['Current Credit Balance'] > (df['Current Credit Balance'].std()*10)].count()"
   ]
  },
  {
   "cell_type": "code",
   "execution_count": 78,
   "metadata": {},
   "outputs": [
    {
     "data": {
      "text/plain": [
       "Loan ID                         1452\n",
       "Customer ID                     1452\n",
       "Loan Status                     1452\n",
       "Current Loan Amount             1452\n",
       "Term                            1452\n",
       "Credit Score                    1196\n",
       "Years in current job            1416\n",
       "Home Ownership                  1452\n",
       "Annual Income                   1196\n",
       "Purpose                         1452\n",
       "Monthly Debt                    1452\n",
       "Years of Credit History         1452\n",
       "Months since last delinquent     743\n",
       "Number of Open Accounts         1452\n",
       "Number of Credit Problems       1452\n",
       "Current Credit Balance          1452\n",
       "Maximum Open Credit             1452\n",
       "Bankruptcies                    1447\n",
       "Tax Liens                       1452\n",
       "dtype: int64"
      ]
     },
     "execution_count": 78,
     "metadata": {},
     "output_type": "execute_result"
    }
   ],
   "source": [
    "df[df['Number of Open Accounts'] > (df['Number of Open Accounts'].std()*5)].count()"
   ]
  },
  {
   "cell_type": "code",
   "execution_count": 82,
   "metadata": {},
   "outputs": [
    {
     "data": {
      "text/plain": [
       "Loan ID                         123\n",
       "Customer ID                     123\n",
       "Loan Status                     123\n",
       "Current Loan Amount             123\n",
       "Term                            123\n",
       "Credit Score                    123\n",
       "Years in current job            123\n",
       "Home Ownership                  123\n",
       "Annual Income                   123\n",
       "Purpose                         123\n",
       "Monthly Debt                    123\n",
       "Years of Credit History         123\n",
       "Months since last delinquent     64\n",
       "Number of Open Accounts         123\n",
       "Number of Credit Problems       123\n",
       "Current Credit Balance          123\n",
       "Maximum Open Credit             123\n",
       "Bankruptcies                    121\n",
       "Tax Liens                       123\n",
       "dtype: int64"
      ]
     },
     "execution_count": 82,
     "metadata": {},
     "output_type": "execute_result"
    }
   ],
   "source": [
    "df[df['Annual Income'] > (df['Annual Income'].std()*8)].count()"
   ]
  },
  {
   "cell_type": "code",
   "execution_count": 84,
   "metadata": {},
   "outputs": [],
   "source": [
    "current_loan_adj = df[df['Current Loan Amount'] < 90000000]"
   ]
  },
  {
   "cell_type": "code",
   "execution_count": 86,
   "metadata": {},
   "outputs": [
    {
     "data": {
      "text/plain": [
       "(array([ 7623., 16132., 19582., 13649., 13275., 10360.,  6454.,  3651.,\n",
       "         2997.,  4646.]),\n",
       " array([  491. ,  4029.4,  7567.8, 11106.2, 14644.6, 18183. , 21721.4,\n",
       "        25259.8, 28798.2, 32336.6, 35875. ]),\n",
       " <BarContainer object of 10 artists>)"
      ]
     },
     "execution_count": 86,
     "metadata": {},
     "output_type": "execute_result"
    },
    {
     "data": {
      "image/png": "[encoded data removed]",
      "text/plain": [
       "<Figure size 640x480 with 1 Axes>"
      ]
     },
     "metadata": {},
     "output_type": "display_data"
    }
   ],
   "source": [
    "plt.hist(current_loan_adj['Current Loan Amount'])"
   ]
  },
  {
   "cell_type": "code",
   "execution_count": 89,
   "metadata": {},
   "outputs": [
    {
     "data": {
      "text/plain": [
       "count    98369.000000\n",
       "mean     14182.062144\n",
       "std       8459.992025\n",
       "min        491.000000\n",
       "25%       7830.000000\n",
       "50%      12145.000000\n",
       "75%      19660.000000\n",
       "max      35875.000000\n",
       "Name: Current Loan Amount, dtype: float64"
      ]
     },
     "execution_count": 89,
     "metadata": {},
     "output_type": "execute_result"
    }
   ],
   "source": [
    "current_loan_adj['Current Loan Amount'].describe()"
   ]
  },
  {
   "cell_type": "code",
   "execution_count": 94,
   "metadata": {},
   "outputs": [
    {
     "data": {
      "text/plain": [
       "Loan ID                         0\n",
       "Customer ID                     0\n",
       "Loan Status                     0\n",
       "Current Loan Amount             0\n",
       "Term                            0\n",
       "Credit Score                    0\n",
       "Years in current job            0\n",
       "Home Ownership                  0\n",
       "Annual Income                   0\n",
       "Purpose                         0\n",
       "Monthly Debt                    0\n",
       "Years of Credit History         0\n",
       "Months since last delinquent    0\n",
       "Number of Open Accounts         0\n",
       "Number of Credit Problems       0\n",
       "Current Credit Balance          0\n",
       "Maximum Open Credit             0\n",
       "Bankruptcies                    0\n",
       "Tax Liens                       0\n",
       "dtype: int64"
      ]
     },
     "execution_count": 94,
     "metadata": {},
     "output_type": "execute_result"
    }
   ],
   "source": [
    "current_loan_adj[current_loan_adj['Current Loan Amount'] > (current_loan_adj['Current Loan Amount'].std()*5)].count()"
   ]
  },
  {
   "cell_type": "code",
   "execution_count": 97,
   "metadata": {},
   "outputs": [],
   "source": [
    "df_monthly_debt = df['Monthly Debt'].apply(lambda x: str(x).replace('$','')).astype(float)"
   ]
  },
  {
   "cell_type": "code",
   "execution_count": 101,
   "metadata": {},
   "outputs": [
    {
     "data": {
      "text/plain": [
       "0          777.39\n",
       "1          892.09\n",
       "2         1244.02\n",
       "3          990.94\n",
       "4          503.71\n",
       "           ...   \n",
       "111102     889.69\n",
       "111103     700.90\n",
       "111104    1210.59\n",
       "111105    1476.30\n",
       "111106     668.71\n",
       "Name: Monthly Debt, Length: 111107, dtype: float64"
      ]
     },
     "execution_count": 101,
     "metadata": {},
     "output_type": "execute_result"
    }
   ],
   "source": [
    "df_monthly_debt"
   ]
  },
  {
   "cell_type": "code",
   "execution_count": 100,
   "metadata": {},
   "outputs": [
    {
     "data": {
      "text/plain": [
       "count    111107.000000\n",
       "mean        971.970120\n",
       "std         641.640829\n",
       "min           0.000000\n",
       "25%         537.755000\n",
       "50%         852.720000\n",
       "75%        1262.630000\n",
       "max       22939.120000\n",
       "Name: Monthly Debt, dtype: float64"
      ]
     },
     "execution_count": 100,
     "metadata": {},
     "output_type": "execute_result"
    }
   ],
   "source": [
    "df_monthly_debt.describe()"
   ]
  },
  {
   "cell_type": "code",
   "execution_count": 104,
   "metadata": {},
   "outputs": [
    {
     "data": {
      "text/plain": [
       "np.int64(957)"
      ]
     },
     "execution_count": 104,
     "metadata": {},
     "output_type": "execute_result"
    }
   ],
   "source": [
    "df_monthly_debt[df_monthly_debt > (df_monthly_debt.std()*5)].count()"
   ]
  },
  {
   "cell_type": "code",
   "execution_count": 106,
   "metadata": {},
   "outputs": [
    {
     "data": {
      "image/png": "[encoded data removed]",
      "text/plain": [
       "<Figure size 640x480 with 1 Axes>"
      ]
     },
     "metadata": {},
     "output_type": "display_data"
    }
   ],
   "source": [
    "plt.hist(df_monthly_debt);"
   ]
  },
  {
   "cell_type": "code",
   "execution_count": 114,
   "metadata": {},
   "outputs": [
    {
     "data": {
      "text/html": [
       "<div>\n",
       "<style scoped>\n",
       "    .dataframe tbody tr th:only-of-type {\n",
       "        vertical-align: middle;\n",
       "    }\n",
       "\n",
       "    .dataframe tbody tr th {\n",
       "        vertical-align: top;\n",
       "    }\n",
       "\n",
       "    .dataframe thead th {\n",
       "        text-align: right;\n",
       "    }\n",
       "</style>\n",
       "<table border=\"1\" class=\"dataframe\">\n",
       "  <thead>\n",
       "    <tr style=\"text-align: right;\">\n",
       "      <th></th>\n",
       "      <th>Loan ID</th>\n",
       "      <th>Customer ID</th>\n",
       "      <th>Loan Status</th>\n",
       "      <th>Current Loan Amount</th>\n",
       "      <th>Term</th>\n",
       "      <th>Credit Score</th>\n",
       "      <th>Years in current job</th>\n",
       "      <th>Home Ownership</th>\n",
       "      <th>Annual Income</th>\n",
       "      <th>Purpose</th>\n",
       "      <th>Monthly Debt</th>\n",
       "      <th>Years of Credit History</th>\n",
       "      <th>Months since last delinquent</th>\n",
       "      <th>Number of Open Accounts</th>\n",
       "      <th>Number of Credit Problems</th>\n",
       "      <th>Current Credit Balance</th>\n",
       "      <th>Maximum Open Credit</th>\n",
       "      <th>Bankruptcies</th>\n",
       "      <th>Tax Liens</th>\n",
       "    </tr>\n",
       "  </thead>\n",
       "  <tbody>\n",
       "    <tr>\n",
       "      <th>17782</th>\n",
       "      <td>87b6a064-b524-4cff-a968-b176bdc70075</td>\n",
       "      <td>000bbb5d-3a62-4712-908e-caacd7a815d5</td>\n",
       "      <td>Fully Paid</td>\n",
       "      <td>33231</td>\n",
       "      <td>Short Term</td>\n",
       "      <td>NaN</td>\n",
       "      <td>2 years</td>\n",
       "      <td>Rent</td>\n",
       "      <td>NaN</td>\n",
       "      <td>Debt Consolidation</td>\n",
       "      <td>1334.28</td>\n",
       "      <td>17.7</td>\n",
       "      <td>NaN</td>\n",
       "      <td>13</td>\n",
       "      <td>0</td>\n",
       "      <td>38005</td>\n",
       "      <td>68602</td>\n",
       "      <td>0.0</td>\n",
       "      <td>0.0</td>\n",
       "    </tr>\n",
       "    <tr>\n",
       "      <th>17783</th>\n",
       "      <td>4850727e-1ab2-4af1-b269-a95dd99ae975</td>\n",
       "      <td>4498fc97-e3f6-4789-b81b-c971fe967bb3</td>\n",
       "      <td>Fully Paid</td>\n",
       "      <td>23609</td>\n",
       "      <td>Short Term</td>\n",
       "      <td>NaN</td>\n",
       "      <td>2 years</td>\n",
       "      <td>Rent</td>\n",
       "      <td>NaN</td>\n",
       "      <td>Debt Consolidation</td>\n",
       "      <td>86.91</td>\n",
       "      <td>15.0</td>\n",
       "      <td>NaN</td>\n",
       "      <td>15</td>\n",
       "      <td>0</td>\n",
       "      <td>372</td>\n",
       "      <td>13772</td>\n",
       "      <td>0.0</td>\n",
       "      <td>0.0</td>\n",
       "    </tr>\n",
       "    <tr>\n",
       "      <th>17784</th>\n",
       "      <td>54a17b9a-c581-4f08-bc2f-21e2765e57c6</td>\n",
       "      <td>2b0ca10b-5a2c-4521-9c3f-7a55de743006</td>\n",
       "      <td>Charged Off</td>\n",
       "      <td>35651</td>\n",
       "      <td>Long Term</td>\n",
       "      <td>NaN</td>\n",
       "      <td>9 years</td>\n",
       "      <td>Rent</td>\n",
       "      <td>NaN</td>\n",
       "      <td>Debt Consolidation</td>\n",
       "      <td>1489.53</td>\n",
       "      <td>27.0</td>\n",
       "      <td>73.0</td>\n",
       "      <td>6</td>\n",
       "      <td>0</td>\n",
       "      <td>9857</td>\n",
       "      <td>10183</td>\n",
       "      <td>0.0</td>\n",
       "      <td>0.0</td>\n",
       "    </tr>\n",
       "    <tr>\n",
       "      <th>17785</th>\n",
       "      <td>02fa33d7-7fab-4f13-b30a-418d12221ba1</td>\n",
       "      <td>5c4c3d3b-6199-402b-8d36-0952ffcc700f</td>\n",
       "      <td>Charged Off</td>\n",
       "      <td>8086</td>\n",
       "      <td>Long Term</td>\n",
       "      <td>NaN</td>\n",
       "      <td>10+ years</td>\n",
       "      <td>Home Mortgage</td>\n",
       "      <td>NaN</td>\n",
       "      <td>Debt Consolidation</td>\n",
       "      <td>662.09</td>\n",
       "      <td>32.5</td>\n",
       "      <td>46.0</td>\n",
       "      <td>22</td>\n",
       "      <td>1</td>\n",
       "      <td>11465</td>\n",
       "      <td>22219</td>\n",
       "      <td>1.0</td>\n",
       "      <td>0.0</td>\n",
       "    </tr>\n",
       "    <tr>\n",
       "      <th>17786</th>\n",
       "      <td>42d53764-b5f5-4161-8132-dc1ac88efa62</td>\n",
       "      <td>c7be3971-5532-4ba8-b01a-caad8c48f034</td>\n",
       "      <td>Fully Paid</td>\n",
       "      <td>10977</td>\n",
       "      <td>Short Term</td>\n",
       "      <td>NaN</td>\n",
       "      <td>10+ years</td>\n",
       "      <td>Rent</td>\n",
       "      <td>NaN</td>\n",
       "      <td>Debt Consolidation</td>\n",
       "      <td>968.12</td>\n",
       "      <td>19.9</td>\n",
       "      <td>NaN</td>\n",
       "      <td>5</td>\n",
       "      <td>1</td>\n",
       "      <td>9095</td>\n",
       "      <td>10370</td>\n",
       "      <td>1.0</td>\n",
       "      <td>0.0</td>\n",
       "    </tr>\n",
       "    <tr>\n",
       "      <th>...</th>\n",
       "      <td>...</td>\n",
       "      <td>...</td>\n",
       "      <td>...</td>\n",
       "      <td>...</td>\n",
       "      <td>...</td>\n",
       "      <td>...</td>\n",
       "      <td>...</td>\n",
       "      <td>...</td>\n",
       "      <td>...</td>\n",
       "      <td>...</td>\n",
       "      <td>...</td>\n",
       "      <td>...</td>\n",
       "      <td>...</td>\n",
       "      <td>...</td>\n",
       "      <td>...</td>\n",
       "      <td>...</td>\n",
       "      <td>...</td>\n",
       "      <td>...</td>\n",
       "      <td>...</td>\n",
       "    </tr>\n",
       "    <tr>\n",
       "      <th>39115</th>\n",
       "      <td>5908e7d9-cdb3-426f-acb0-e4a364e27e5b</td>\n",
       "      <td>2cf8860d-4951-40ae-bd93-fae3dbebacda</td>\n",
       "      <td>Charged Off</td>\n",
       "      <td>13684</td>\n",
       "      <td>Long Term</td>\n",
       "      <td>NaN</td>\n",
       "      <td>1 year</td>\n",
       "      <td>Rent</td>\n",
       "      <td>NaN</td>\n",
       "      <td>small_business</td>\n",
       "      <td>634.27</td>\n",
       "      <td>14.2</td>\n",
       "      <td>71.0</td>\n",
       "      <td>15</td>\n",
       "      <td>0</td>\n",
       "      <td>0</td>\n",
       "      <td>0</td>\n",
       "      <td>0.0</td>\n",
       "      <td>0.0</td>\n",
       "    </tr>\n",
       "    <tr>\n",
       "      <th>39116</th>\n",
       "      <td>8c39e4cf-383a-4090-a3d4-a64ab51be652</td>\n",
       "      <td>0549a5d7-a0ea-4cdc-b0e9-b46b42b5042a</td>\n",
       "      <td>Fully Paid</td>\n",
       "      <td>2608</td>\n",
       "      <td>Short Term</td>\n",
       "      <td>NaN</td>\n",
       "      <td>2 years</td>\n",
       "      <td>Rent</td>\n",
       "      <td>NaN</td>\n",
       "      <td>other</td>\n",
       "      <td>667.06</td>\n",
       "      <td>15.0</td>\n",
       "      <td>55.0</td>\n",
       "      <td>11</td>\n",
       "      <td>1</td>\n",
       "      <td>10117</td>\n",
       "      <td>17971</td>\n",
       "      <td>1.0</td>\n",
       "      <td>0.0</td>\n",
       "    </tr>\n",
       "    <tr>\n",
       "      <th>39117</th>\n",
       "      <td>b7050967-abfe-4c0a-b5c3-dee27c539ee7</td>\n",
       "      <td>776dffa3-a55a-4e34-bb51-856251b92afe</td>\n",
       "      <td>Fully Paid</td>\n",
       "      <td>9902</td>\n",
       "      <td>Short Term</td>\n",
       "      <td>NaN</td>\n",
       "      <td>1 year</td>\n",
       "      <td>Rent</td>\n",
       "      <td>NaN</td>\n",
       "      <td>Debt Consolidation</td>\n",
       "      <td>799.26</td>\n",
       "      <td>15.0</td>\n",
       "      <td>18.0</td>\n",
       "      <td>3</td>\n",
       "      <td>0</td>\n",
       "      <td>6568</td>\n",
       "      <td>6439</td>\n",
       "      <td>0.0</td>\n",
       "      <td>0.0</td>\n",
       "    </tr>\n",
       "    <tr>\n",
       "      <th>39118</th>\n",
       "      <td>71cf244e-35bc-463e-9860-006abd869107</td>\n",
       "      <td>45d3f269-6a47-4f76-a956-60bdb93d44f4</td>\n",
       "      <td>Fully Paid</td>\n",
       "      <td>8401</td>\n",
       "      <td>Short Term</td>\n",
       "      <td>NaN</td>\n",
       "      <td>1 year</td>\n",
       "      <td>Home Mortgage</td>\n",
       "      <td>NaN</td>\n",
       "      <td>Debt Consolidation</td>\n",
       "      <td>667.35</td>\n",
       "      <td>21.6</td>\n",
       "      <td>NaN</td>\n",
       "      <td>7</td>\n",
       "      <td>0</td>\n",
       "      <td>6937</td>\n",
       "      <td>14855</td>\n",
       "      <td>0.0</td>\n",
       "      <td>0.0</td>\n",
       "    </tr>\n",
       "    <tr>\n",
       "      <th>39119</th>\n",
       "      <td>97d2bef7-07f0-4508-8c57-e38f0e7de19b</td>\n",
       "      <td>5a003c41-1c36-4b0b-8613-70c558d6ef30</td>\n",
       "      <td>Fully Paid</td>\n",
       "      <td>9906</td>\n",
       "      <td>Short Term</td>\n",
       "      <td>NaN</td>\n",
       "      <td>4 years</td>\n",
       "      <td>Home Mortgage</td>\n",
       "      <td>NaN</td>\n",
       "      <td>Other</td>\n",
       "      <td>57.53</td>\n",
       "      <td>19.6</td>\n",
       "      <td>NaN</td>\n",
       "      <td>6</td>\n",
       "      <td>0</td>\n",
       "      <td>2981</td>\n",
       "      <td>32755</td>\n",
       "      <td>0.0</td>\n",
       "      <td>0.0</td>\n",
       "    </tr>\n",
       "  </tbody>\n",
       "</table>\n",
       "<p>21338 rows × 19 columns</p>\n",
       "</div>"
      ],
      "text/plain": [
       "                                    Loan ID  \\\n",
       "17782  87b6a064-b524-4cff-a968-b176bdc70075   \n",
       "17783  4850727e-1ab2-4af1-b269-a95dd99ae975   \n",
       "17784  54a17b9a-c581-4f08-bc2f-21e2765e57c6   \n",
       "17785  02fa33d7-7fab-4f13-b30a-418d12221ba1   \n",
       "17786  42d53764-b5f5-4161-8132-dc1ac88efa62   \n",
       "...                                     ...   \n",
       "39115  5908e7d9-cdb3-426f-acb0-e4a364e27e5b   \n",
       "39116  8c39e4cf-383a-4090-a3d4-a64ab51be652   \n",
       "39117  b7050967-abfe-4c0a-b5c3-dee27c539ee7   \n",
       "39118  71cf244e-35bc-463e-9860-006abd869107   \n",
       "39119  97d2bef7-07f0-4508-8c57-e38f0e7de19b   \n",
       "\n",
       "                                Customer ID  Loan Status  Current Loan Amount  \\\n",
       "17782  000bbb5d-3a62-4712-908e-caacd7a815d5   Fully Paid                33231   \n",
       "17783  4498fc97-e3f6-4789-b81b-c971fe967bb3   Fully Paid                23609   \n",
       "17784  2b0ca10b-5a2c-4521-9c3f-7a55de743006  Charged Off                35651   \n",
       "17785  5c4c3d3b-6199-402b-8d36-0952ffcc700f  Charged Off                 8086   \n",
       "17786  c7be3971-5532-4ba8-b01a-caad8c48f034   Fully Paid                10977   \n",
       "...                                     ...          ...                  ...   \n",
       "39115  2cf8860d-4951-40ae-bd93-fae3dbebacda  Charged Off                13684   \n",
       "39116  0549a5d7-a0ea-4cdc-b0e9-b46b42b5042a   Fully Paid                 2608   \n",
       "39117  776dffa3-a55a-4e34-bb51-856251b92afe   Fully Paid                 9902   \n",
       "39118  45d3f269-6a47-4f76-a956-60bdb93d44f4   Fully Paid                 8401   \n",
       "39119  5a003c41-1c36-4b0b-8613-70c558d6ef30   Fully Paid                 9906   \n",
       "\n",
       "             Term  Credit Score Years in current job Home Ownership  \\\n",
       "17782  Short Term           NaN              2 years           Rent   \n",
       "17783  Short Term           NaN              2 years           Rent   \n",
       "17784   Long Term           NaN              9 years           Rent   \n",
       "17785   Long Term           NaN            10+ years  Home Mortgage   \n",
       "17786  Short Term           NaN            10+ years           Rent   \n",
       "...           ...           ...                  ...            ...   \n",
       "39115   Long Term           NaN               1 year           Rent   \n",
       "39116  Short Term           NaN              2 years           Rent   \n",
       "39117  Short Term           NaN               1 year           Rent   \n",
       "39118  Short Term           NaN               1 year  Home Mortgage   \n",
       "39119  Short Term           NaN              4 years  Home Mortgage   \n",
       "\n",
       "       Annual Income             Purpose Monthly Debt  \\\n",
       "17782            NaN  Debt Consolidation      1334.28   \n",
       "17783            NaN  Debt Consolidation        86.91   \n",
       "17784            NaN  Debt Consolidation      1489.53   \n",
       "17785            NaN  Debt Consolidation       662.09   \n",
       "17786            NaN  Debt Consolidation       968.12   \n",
       "...              ...                 ...          ...   \n",
       "39115            NaN      small_business       634.27   \n",
       "39116            NaN               other       667.06   \n",
       "39117            NaN  Debt Consolidation       799.26   \n",
       "39118            NaN  Debt Consolidation       667.35   \n",
       "39119            NaN               Other        57.53   \n",
       "\n",
       "       Years of Credit History  Months since last delinquent  \\\n",
       "17782                     17.7                           NaN   \n",
       "17783                     15.0                           NaN   \n",
       "17784                     27.0                          73.0   \n",
       "17785                     32.5                          46.0   \n",
       "17786                     19.9                           NaN   \n",
       "...                        ...                           ...   \n",
       "39115                     14.2                          71.0   \n",
       "39116                     15.0                          55.0   \n",
       "39117                     15.0                          18.0   \n",
       "39118                     21.6                           NaN   \n",
       "39119                     19.6                           NaN   \n",
       "\n",
       "       Number of Open Accounts  Number of Credit Problems  \\\n",
       "17782                       13                          0   \n",
       "17783                       15                          0   \n",
       "17784                        6                          0   \n",
       "17785                       22                          1   \n",
       "17786                        5                          1   \n",
       "...                        ...                        ...   \n",
       "39115                       15                          0   \n",
       "39116                       11                          1   \n",
       "39117                        3                          0   \n",
       "39118                        7                          0   \n",
       "39119                        6                          0   \n",
       "\n",
       "       Current Credit Balance Maximum Open Credit  Bankruptcies  Tax Liens  \n",
       "17782                   38005               68602           0.0        0.0  \n",
       "17783                     372               13772           0.0        0.0  \n",
       "17784                    9857               10183           0.0        0.0  \n",
       "17785                   11465               22219           1.0        0.0  \n",
       "17786                    9095               10370           1.0        0.0  \n",
       "...                       ...                 ...           ...        ...  \n",
       "39115                       0                   0           0.0        0.0  \n",
       "39116                   10117               17971           1.0        0.0  \n",
       "39117                    6568                6439           0.0        0.0  \n",
       "39118                    6937               14855           0.0        0.0  \n",
       "39119                    2981               32755           0.0        0.0  \n",
       "\n",
       "[21338 rows x 19 columns]"
      ]
     },
     "execution_count": 114,
     "metadata": {},
     "output_type": "execute_result"
    }
   ],
   "source": [
    "df[df['Annual Income'].isna()]"
   ]
  },
  {
   "cell_type": "code",
   "execution_count": null,
   "metadata": {},
   "outputs": [],
   "source": [
    "df_max_open = df[df['Maximum Open Credit'] != '#VALUE!'].copy()\n",
    "# df_max_open['Maximum Open Credit'] = pd.to_numeric(df_max_open['Maximum Open Credit'], errors='coerce')"
   ]
  },
  {
   "cell_type": "code",
   "execution_count": 137,
   "metadata": {},
   "outputs": [],
   "source": [
    "df_max_open2 = df_max_open['Maximum Open Credit'].apply(lambda x: str(x).strip(\"'\")).astype(float)"
   ]
  },
  {
   "cell_type": "code",
   "execution_count": 155,
   "metadata": {},
   "outputs": [
    {
     "data": {
      "image/png": "[encoded data removed]",
      "text/plain": [
       "<Figure size 640x480 with 1 Axes>"
      ]
     },
     "metadata": {},
     "output_type": "display_data"
    }
   ],
   "source": [
    "plt.hist(df_max_open2);"
   ]
  },
  {
   "cell_type": "code",
   "execution_count": 154,
   "metadata": {},
   "outputs": [
    {
     "data": {
      "text/plain": [
       "18934    59305735.0\n",
       "22193    12158639.0\n",
       "23155    28748988.0\n",
       "26426    44559330.0\n",
       "45055    12068767.0\n",
       "58529    17275104.0\n",
       "58916    69988086.0\n",
       "60994    10750537.0\n",
       "74578    36284335.0\n",
       "79898    22242873.0\n",
       "Name: Maximum Open Credit, dtype: float64"
      ]
     },
     "execution_count": 154,
     "metadata": {},
     "output_type": "execute_result"
    }
   ],
   "source": [
    "df_max_open2[df_max_open2 > 10000000]"
   ]
  },
  {
   "cell_type": "code",
   "execution_count": 156,
   "metadata": {},
   "outputs": [
    {
     "data": {
      "text/plain": [
       "count    1.111050e+05\n",
       "mean     3.438644e+04\n",
       "std      3.643027e+05\n",
       "min      0.000000e+00\n",
       "25%      1.241700e+04\n",
       "50%      2.124300e+04\n",
       "75%      3.558400e+04\n",
       "max      6.998809e+07\n",
       "Name: Maximum Open Credit, dtype: float64"
      ]
     },
     "execution_count": 156,
     "metadata": {},
     "output_type": "execute_result"
    }
   ],
   "source": [
    "df_max_open2.describe()"
   ]
  },
  {
   "cell_type": "code",
   "execution_count": 161,
   "metadata": {},
   "outputs": [
    {
     "data": {
      "text/plain": [
       "np.int64(25)"
      ]
     },
     "execution_count": 161,
     "metadata": {},
     "output_type": "execute_result"
    }
   ],
   "source": [
    "df_max_open2[df_max_open2 > (df_max_open2.std()*10)].count()"
   ]
  },
  {
   "cell_type": "code",
   "execution_count": 162,
   "metadata": {},
   "outputs": [
    {
     "name": "stderr",
     "output_type": "stream",
     "text": [
      "/var/folders/bh/crnltg950_n8l07mfm97qdtc0000gn/T/ipykernel_30656/2194846602.py:1: DtypeWarning: Columns (16) have mixed types. Specify dtype option on import or set low_memory=False.\n",
      "  new_df = pd.read_csv('LoansTrainingSet.csv')\n"
     ]
    }
   ],
   "source": [
    "new_df = pd.read_csv('LoansTrainingSet.csv')"
   ]
  },
  {
   "cell_type": "code",
   "execution_count": 163,
   "metadata": {},
   "outputs": [
    {
     "data": {
      "text/html": [
       "<div>\n",
       "<style scoped>\n",
       "    .dataframe tbody tr th:only-of-type {\n",
       "        vertical-align: middle;\n",
       "    }\n",
       "\n",
       "    .dataframe tbody tr th {\n",
       "        vertical-align: top;\n",
       "    }\n",
       "\n",
       "    .dataframe thead th {\n",
       "        text-align: right;\n",
       "    }\n",
       "</style>\n",
       "<table border=\"1\" class=\"dataframe\">\n",
       "  <thead>\n",
       "    <tr style=\"text-align: right;\">\n",
       "      <th></th>\n",
       "      <th>Loan ID</th>\n",
       "      <th>Customer ID</th>\n",
       "      <th>Loan Status</th>\n",
       "      <th>Current Loan Amount</th>\n",
       "      <th>Term</th>\n",
       "      <th>Credit Score</th>\n",
       "      <th>Years in current job</th>\n",
       "      <th>Home Ownership</th>\n",
       "      <th>Annual Income</th>\n",
       "      <th>Purpose</th>\n",
       "      <th>Monthly Debt</th>\n",
       "      <th>Years of Credit History</th>\n",
       "      <th>Months since last delinquent</th>\n",
       "      <th>Number of Open Accounts</th>\n",
       "      <th>Number of Credit Problems</th>\n",
       "      <th>Current Credit Balance</th>\n",
       "      <th>Maximum Open Credit</th>\n",
       "      <th>Bankruptcies</th>\n",
       "      <th>Tax Liens</th>\n",
       "    </tr>\n",
       "  </thead>\n",
       "  <tbody>\n",
       "    <tr>\n",
       "      <th>0</th>\n",
       "      <td>000025bb-5694-4cff-b17d-192b1a98ba44</td>\n",
       "      <td>5ebc8bb1-5eb9-4404-b11b-a6eebc401a19</td>\n",
       "      <td>Fully Paid</td>\n",
       "      <td>11520</td>\n",
       "      <td>Short Term</td>\n",
       "      <td>741.0</td>\n",
       "      <td>10+ years</td>\n",
       "      <td>Home Mortgage</td>\n",
       "      <td>33694.0</td>\n",
       "      <td>Debt Consolidation</td>\n",
       "      <td>$584.03</td>\n",
       "      <td>12.3</td>\n",
       "      <td>41.0</td>\n",
       "      <td>10</td>\n",
       "      <td>0</td>\n",
       "      <td>6760</td>\n",
       "      <td>16056</td>\n",
       "      <td>0.0</td>\n",
       "      <td>0.0</td>\n",
       "    </tr>\n",
       "    <tr>\n",
       "      <th>1</th>\n",
       "      <td>00002c49-3a29-4bd4-8f67-c8f8fbc1048c</td>\n",
       "      <td>927b388d-2e01-423f-a8dc-f7e42d668f46</td>\n",
       "      <td>Fully Paid</td>\n",
       "      <td>3441</td>\n",
       "      <td>Short Term</td>\n",
       "      <td>734.0</td>\n",
       "      <td>4 years</td>\n",
       "      <td>Home Mortgage</td>\n",
       "      <td>42269.0</td>\n",
       "      <td>other</td>\n",
       "      <td>$1,106.04</td>\n",
       "      <td>26.3</td>\n",
       "      <td>NaN</td>\n",
       "      <td>17</td>\n",
       "      <td>0</td>\n",
       "      <td>6262</td>\n",
       "      <td>19149</td>\n",
       "      <td>0.0</td>\n",
       "      <td>0.0</td>\n",
       "    </tr>\n",
       "    <tr>\n",
       "      <th>2</th>\n",
       "      <td>00002d89-27f3-409b-aa76-90834f359a65</td>\n",
       "      <td>defce609-c631-447d-aad6-1270615e89c4</td>\n",
       "      <td>Fully Paid</td>\n",
       "      <td>21029</td>\n",
       "      <td>Short Term</td>\n",
       "      <td>747.0</td>\n",
       "      <td>10+ years</td>\n",
       "      <td>Home Mortgage</td>\n",
       "      <td>90126.0</td>\n",
       "      <td>Debt Consolidation</td>\n",
       "      <td>$1,321.85</td>\n",
       "      <td>28.8</td>\n",
       "      <td>NaN</td>\n",
       "      <td>5</td>\n",
       "      <td>0</td>\n",
       "      <td>20967</td>\n",
       "      <td>28335</td>\n",
       "      <td>0.0</td>\n",
       "      <td>0.0</td>\n",
       "    </tr>\n",
       "    <tr>\n",
       "      <th>3</th>\n",
       "      <td>00005222-b4d8-45a4-ad8c-186057e24233</td>\n",
       "      <td>070bcecb-aae7-4485-a26a-e0403e7bb6c5</td>\n",
       "      <td>Fully Paid</td>\n",
       "      <td>18743</td>\n",
       "      <td>Short Term</td>\n",
       "      <td>747.0</td>\n",
       "      <td>10+ years</td>\n",
       "      <td>Own Home</td>\n",
       "      <td>38072.0</td>\n",
       "      <td>Debt Consolidation</td>\n",
       "      <td>$751.92</td>\n",
       "      <td>26.2</td>\n",
       "      <td>NaN</td>\n",
       "      <td>9</td>\n",
       "      <td>0</td>\n",
       "      <td>22529</td>\n",
       "      <td>43915</td>\n",
       "      <td>0.0</td>\n",
       "      <td>0.0</td>\n",
       "    </tr>\n",
       "    <tr>\n",
       "      <th>4</th>\n",
       "      <td>0000757f-a121-41ed-b17b-162e76647c1f</td>\n",
       "      <td>dde79588-12f0-4811-bab0-e2b07f633fcd</td>\n",
       "      <td>Fully Paid</td>\n",
       "      <td>11731</td>\n",
       "      <td>Short Term</td>\n",
       "      <td>746.0</td>\n",
       "      <td>4 years</td>\n",
       "      <td>Rent</td>\n",
       "      <td>50025.0</td>\n",
       "      <td>Debt Consolidation</td>\n",
       "      <td>$355.18</td>\n",
       "      <td>11.5</td>\n",
       "      <td>NaN</td>\n",
       "      <td>12</td>\n",
       "      <td>0</td>\n",
       "      <td>17391</td>\n",
       "      <td>37081</td>\n",
       "      <td>0.0</td>\n",
       "      <td>0.0</td>\n",
       "    </tr>\n",
       "  </tbody>\n",
       "</table>\n",
       "</div>"
      ],
      "text/plain": [
       "                                Loan ID                           Customer ID  \\\n",
       "0  000025bb-5694-4cff-b17d-192b1a98ba44  5ebc8bb1-5eb9-4404-b11b-a6eebc401a19   \n",
       "1  00002c49-3a29-4bd4-8f67-c8f8fbc1048c  927b388d-2e01-423f-a8dc-f7e42d668f46   \n",
       "2  00002d89-27f3-409b-aa76-90834f359a65  defce609-c631-447d-aad6-1270615e89c4   \n",
       "3  00005222-b4d8-45a4-ad8c-186057e24233  070bcecb-aae7-4485-a26a-e0403e7bb6c5   \n",
       "4  0000757f-a121-41ed-b17b-162e76647c1f  dde79588-12f0-4811-bab0-e2b07f633fcd   \n",
       "\n",
       "  Loan Status  Current Loan Amount        Term  Credit Score  \\\n",
       "0  Fully Paid                11520  Short Term         741.0   \n",
       "1  Fully Paid                 3441  Short Term         734.0   \n",
       "2  Fully Paid                21029  Short Term         747.0   \n",
       "3  Fully Paid                18743  Short Term         747.0   \n",
       "4  Fully Paid                11731  Short Term         746.0   \n",
       "\n",
       "  Years in current job Home Ownership  Annual Income             Purpose  \\\n",
       "0            10+ years  Home Mortgage        33694.0  Debt Consolidation   \n",
       "1              4 years  Home Mortgage        42269.0               other   \n",
       "2            10+ years  Home Mortgage        90126.0  Debt Consolidation   \n",
       "3            10+ years       Own Home        38072.0  Debt Consolidation   \n",
       "4              4 years           Rent        50025.0  Debt Consolidation   \n",
       "\n",
       "  Monthly Debt  Years of Credit History  Months since last delinquent  \\\n",
       "0      $584.03                     12.3                          41.0   \n",
       "1   $1,106.04                      26.3                           NaN   \n",
       "2   $1,321.85                      28.8                           NaN   \n",
       "3      $751.92                     26.2                           NaN   \n",
       "4      $355.18                     11.5                           NaN   \n",
       "\n",
       "   Number of Open Accounts  Number of Credit Problems  Current Credit Balance  \\\n",
       "0                       10                          0                    6760   \n",
       "1                       17                          0                    6262   \n",
       "2                        5                          0                   20967   \n",
       "3                        9                          0                   22529   \n",
       "4                       12                          0                   17391   \n",
       "\n",
       "  Maximum Open Credit  Bankruptcies  Tax Liens  \n",
       "0               16056           0.0        0.0  \n",
       "1               19149           0.0        0.0  \n",
       "2               28335           0.0        0.0  \n",
       "3               43915           0.0        0.0  \n",
       "4               37081           0.0        0.0  "
      ]
     },
     "execution_count": 163,
     "metadata": {},
     "output_type": "execute_result"
    }
   ],
   "source": [
    "new_df.head()"
   ]
  },
  {
   "cell_type": "code",
   "execution_count": 164,
   "metadata": {},
   "outputs": [
    {
     "data": {
      "text/plain": [
       "Loan ID\n",
       "3f6bd37a-b0bc-4d85-93c7-eea53df601fb    4\n",
       "65b03871-1531-46ed-b805-a5df41477f03    4\n",
       "744f26f5-685b-4c1d-89cc-8f32fef69373    4\n",
       "7902a3ce-5054-4192-bf2f-bb597f3f870c    4\n",
       "71121052-b403-4ec8-b3fc-25bb3223ed0d    4\n",
       "                                       ..\n",
       "5e122f17-d56f-4785-9912-a1a717b180e1    1\n",
       "5e127563-cd0b-408c-9fc2-8066c4a3e965    1\n",
       "5e12efa6-0bec-4b0d-bcea-454fa1ebc9f4    1\n",
       "5e12f797-9600-4f00-965f-b76be5108331    1\n",
       "ffffe32e-ed17-459f-9cfd-7b9ee7972933    1\n",
       "Name: count, Length: 215700, dtype: int64"
      ]
     },
     "execution_count": 164,
     "metadata": {},
     "output_type": "execute_result"
    }
   ],
   "source": [
    "new_df['Loan ID'].value_counts()"
   ]
  },
  {
   "cell_type": "code",
   "execution_count": 166,
   "metadata": {},
   "outputs": [
    {
     "data": {
      "text/html": [
       "<div>\n",
       "<style scoped>\n",
       "    .dataframe tbody tr th:only-of-type {\n",
       "        vertical-align: middle;\n",
       "    }\n",
       "\n",
       "    .dataframe tbody tr th {\n",
       "        vertical-align: top;\n",
       "    }\n",
       "\n",
       "    .dataframe thead th {\n",
       "        text-align: right;\n",
       "    }\n",
       "</style>\n",
       "<table border=\"1\" class=\"dataframe\">\n",
       "  <thead>\n",
       "    <tr style=\"text-align: right;\">\n",
       "      <th></th>\n",
       "      <th>117035</th>\n",
       "      <th>117036</th>\n",
       "      <th>117037</th>\n",
       "      <th>117038</th>\n",
       "    </tr>\n",
       "  </thead>\n",
       "  <tbody>\n",
       "    <tr>\n",
       "      <th>Loan ID</th>\n",
       "      <td>744f26f5-685b-4c1d-89cc-8f32fef69373</td>\n",
       "      <td>744f26f5-685b-4c1d-89cc-8f32fef69373</td>\n",
       "      <td>744f26f5-685b-4c1d-89cc-8f32fef69373</td>\n",
       "      <td>744f26f5-685b-4c1d-89cc-8f32fef69373</td>\n",
       "    </tr>\n",
       "    <tr>\n",
       "      <th>Customer ID</th>\n",
       "      <td>0d1af0aa-9442-48ee-aa88-19bc3b5f2513</td>\n",
       "      <td>0d1af0aa-9442-48ee-aa88-19bc3b5f2513</td>\n",
       "      <td>0d1af0aa-9442-48ee-aa88-19bc3b5f2513</td>\n",
       "      <td>0d1af0aa-9442-48ee-aa88-19bc3b5f2513</td>\n",
       "    </tr>\n",
       "    <tr>\n",
       "      <th>Loan Status</th>\n",
       "      <td>Charged Off</td>\n",
       "      <td>Charged Off</td>\n",
       "      <td>Charged Off</td>\n",
       "      <td>Charged Off</td>\n",
       "    </tr>\n",
       "    <tr>\n",
       "      <th>Current Loan Amount</th>\n",
       "      <td>25128</td>\n",
       "      <td>25255</td>\n",
       "      <td>25255</td>\n",
       "      <td>25128</td>\n",
       "    </tr>\n",
       "    <tr>\n",
       "      <th>Term</th>\n",
       "      <td>Short Term</td>\n",
       "      <td>Short Term</td>\n",
       "      <td>Short Term</td>\n",
       "      <td>Short Term</td>\n",
       "    </tr>\n",
       "    <tr>\n",
       "      <th>Credit Score</th>\n",
       "      <td>7330.0</td>\n",
       "      <td>7330.0</td>\n",
       "      <td>NaN</td>\n",
       "      <td>733.0</td>\n",
       "    </tr>\n",
       "    <tr>\n",
       "      <th>Years in current job</th>\n",
       "      <td>10+ years</td>\n",
       "      <td>10+ years</td>\n",
       "      <td>10+ years</td>\n",
       "      <td>10+ years</td>\n",
       "    </tr>\n",
       "    <tr>\n",
       "      <th>Home Ownership</th>\n",
       "      <td>Own Home</td>\n",
       "      <td>Own Home</td>\n",
       "      <td>Own Home</td>\n",
       "      <td>Own Home</td>\n",
       "    </tr>\n",
       "    <tr>\n",
       "      <th>Annual Income</th>\n",
       "      <td>150765.0</td>\n",
       "      <td>151530.0</td>\n",
       "      <td>NaN</td>\n",
       "      <td>150765.0</td>\n",
       "    </tr>\n",
       "    <tr>\n",
       "      <th>Purpose</th>\n",
       "      <td>Debt Consolidation</td>\n",
       "      <td>Debt Consolidation</td>\n",
       "      <td>Debt Consolidation</td>\n",
       "      <td>Debt Consolidation</td>\n",
       "    </tr>\n",
       "    <tr>\n",
       "      <th>Monthly Debt</th>\n",
       "      <td>$3,304.27</td>\n",
       "      <td>$3,321.03</td>\n",
       "      <td>$3,321.03</td>\n",
       "      <td>$3,304.27</td>\n",
       "    </tr>\n",
       "    <tr>\n",
       "      <th>Years of Credit History</th>\n",
       "      <td>32.5</td>\n",
       "      <td>32.5</td>\n",
       "      <td>32.5</td>\n",
       "      <td>32.5</td>\n",
       "    </tr>\n",
       "    <tr>\n",
       "      <th>Months since last delinquent</th>\n",
       "      <td>NaN</td>\n",
       "      <td>NaN</td>\n",
       "      <td>NaN</td>\n",
       "      <td>NaN</td>\n",
       "    </tr>\n",
       "    <tr>\n",
       "      <th>Number of Open Accounts</th>\n",
       "      <td>16</td>\n",
       "      <td>16</td>\n",
       "      <td>16</td>\n",
       "      <td>16</td>\n",
       "    </tr>\n",
       "    <tr>\n",
       "      <th>Number of Credit Problems</th>\n",
       "      <td>0</td>\n",
       "      <td>0</td>\n",
       "      <td>0</td>\n",
       "      <td>0</td>\n",
       "    </tr>\n",
       "    <tr>\n",
       "      <th>Current Credit Balance</th>\n",
       "      <td>53590</td>\n",
       "      <td>53862</td>\n",
       "      <td>53862</td>\n",
       "      <td>53590</td>\n",
       "    </tr>\n",
       "    <tr>\n",
       "      <th>Maximum Open Credit</th>\n",
       "      <td>76667</td>\n",
       "      <td>77056</td>\n",
       "      <td>77056</td>\n",
       "      <td>76667</td>\n",
       "    </tr>\n",
       "    <tr>\n",
       "      <th>Bankruptcies</th>\n",
       "      <td>0.0</td>\n",
       "      <td>0.0</td>\n",
       "      <td>0.0</td>\n",
       "      <td>0.0</td>\n",
       "    </tr>\n",
       "    <tr>\n",
       "      <th>Tax Liens</th>\n",
       "      <td>0.0</td>\n",
       "      <td>0.0</td>\n",
       "      <td>0.0</td>\n",
       "      <td>0.0</td>\n",
       "    </tr>\n",
       "  </tbody>\n",
       "</table>\n",
       "</div>"
      ],
      "text/plain": [
       "                                                            117035  \\\n",
       "Loan ID                       744f26f5-685b-4c1d-89cc-8f32fef69373   \n",
       "Customer ID                   0d1af0aa-9442-48ee-aa88-19bc3b5f2513   \n",
       "Loan Status                                            Charged Off   \n",
       "Current Loan Amount                                          25128   \n",
       "Term                                                    Short Term   \n",
       "Credit Score                                                7330.0   \n",
       "Years in current job                                     10+ years   \n",
       "Home Ownership                                            Own Home   \n",
       "Annual Income                                             150765.0   \n",
       "Purpose                                         Debt Consolidation   \n",
       "Monthly Debt                                            $3,304.27    \n",
       "Years of Credit History                                       32.5   \n",
       "Months since last delinquent                                   NaN   \n",
       "Number of Open Accounts                                         16   \n",
       "Number of Credit Problems                                        0   \n",
       "Current Credit Balance                                       53590   \n",
       "Maximum Open Credit                                          76667   \n",
       "Bankruptcies                                                   0.0   \n",
       "Tax Liens                                                      0.0   \n",
       "\n",
       "                                                            117036  \\\n",
       "Loan ID                       744f26f5-685b-4c1d-89cc-8f32fef69373   \n",
       "Customer ID                   0d1af0aa-9442-48ee-aa88-19bc3b5f2513   \n",
       "Loan Status                                            Charged Off   \n",
       "Current Loan Amount                                          25255   \n",
       "Term                                                    Short Term   \n",
       "Credit Score                                                7330.0   \n",
       "Years in current job                                     10+ years   \n",
       "Home Ownership                                            Own Home   \n",
       "Annual Income                                             151530.0   \n",
       "Purpose                                         Debt Consolidation   \n",
       "Monthly Debt                                            $3,321.03    \n",
       "Years of Credit History                                       32.5   \n",
       "Months since last delinquent                                   NaN   \n",
       "Number of Open Accounts                                         16   \n",
       "Number of Credit Problems                                        0   \n",
       "Current Credit Balance                                       53862   \n",
       "Maximum Open Credit                                          77056   \n",
       "Bankruptcies                                                   0.0   \n",
       "Tax Liens                                                      0.0   \n",
       "\n",
       "                                                            117037  \\\n",
       "Loan ID                       744f26f5-685b-4c1d-89cc-8f32fef69373   \n",
       "Customer ID                   0d1af0aa-9442-48ee-aa88-19bc3b5f2513   \n",
       "Loan Status                                            Charged Off   \n",
       "Current Loan Amount                                          25255   \n",
       "Term                                                    Short Term   \n",
       "Credit Score                                                   NaN   \n",
       "Years in current job                                     10+ years   \n",
       "Home Ownership                                            Own Home   \n",
       "Annual Income                                                  NaN   \n",
       "Purpose                                         Debt Consolidation   \n",
       "Monthly Debt                                            $3,321.03    \n",
       "Years of Credit History                                       32.5   \n",
       "Months since last delinquent                                   NaN   \n",
       "Number of Open Accounts                                         16   \n",
       "Number of Credit Problems                                        0   \n",
       "Current Credit Balance                                       53862   \n",
       "Maximum Open Credit                                          77056   \n",
       "Bankruptcies                                                   0.0   \n",
       "Tax Liens                                                      0.0   \n",
       "\n",
       "                                                            117038  \n",
       "Loan ID                       744f26f5-685b-4c1d-89cc-8f32fef69373  \n",
       "Customer ID                   0d1af0aa-9442-48ee-aa88-19bc3b5f2513  \n",
       "Loan Status                                            Charged Off  \n",
       "Current Loan Amount                                          25128  \n",
       "Term                                                    Short Term  \n",
       "Credit Score                                                 733.0  \n",
       "Years in current job                                     10+ years  \n",
       "Home Ownership                                            Own Home  \n",
       "Annual Income                                             150765.0  \n",
       "Purpose                                         Debt Consolidation  \n",
       "Monthly Debt                                            $3,304.27   \n",
       "Years of Credit History                                       32.5  \n",
       "Months since last delinquent                                   NaN  \n",
       "Number of Open Accounts                                         16  \n",
       "Number of Credit Problems                                        0  \n",
       "Current Credit Balance                                       53590  \n",
       "Maximum Open Credit                                          76667  \n",
       "Bankruptcies                                                   0.0  \n",
       "Tax Liens                                                      0.0  "
      ]
     },
     "execution_count": 166,
     "metadata": {},
     "output_type": "execute_result"
    }
   ],
   "source": [
    "new_df[new_df['Loan ID'] == '744f26f5-685b-4c1d-89cc-8f32fef69373'].T"
   ]
  },
  {
   "cell_type": "code",
   "execution_count": null,
   "metadata": {},
   "outputs": [],
   "source": []
  }
 ],
 "metadata": {
  "kernelspec": {
   "display_name": "Python 3",
   "language": "python",
   "name": "python3"
  },
  "language_info": {
   "codemirror_mode": {
    "name": "ipython",
    "version": 3
   },
   "file_extension": ".py",
   "mimetype": "text/x-python",
   "name": "python",
   "nbconvert_exporter": "python",
   "pygments_lexer": "ipython3",
   "version": "3.12.8"
  }
 },
 "nbformat": 4,
 "nbformat_minor": 2
}
